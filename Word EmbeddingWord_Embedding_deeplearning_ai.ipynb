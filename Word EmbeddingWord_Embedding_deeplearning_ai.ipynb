{
  "nbformat": 4,
  "nbformat_minor": 0,
  "metadata": {
    "colab": {
      "name": "Word Embedding deeplearning.ai.ipynb",
      "provenance": [],
      "authorship_tag": "ABX9TyOf9G12da9C0YtSQJzIIqty",
      "include_colab_link": true
    },
    "kernelspec": {
      "name": "python3",
      "display_name": "Python 3"
    },
    "widgets": {
      "application/vnd.jupyter.widget-state+json": {
        "071b303e38134b85a94ba2fbe9ad47ad": {
          "model_module": "@jupyter-widgets/controls",
          "model_name": "HBoxModel",
          "state": {
            "_view_name": "HBoxView",
            "_dom_classes": [],
            "_model_name": "HBoxModel",
            "_view_module": "@jupyter-widgets/controls",
            "_model_module_version": "1.5.0",
            "_view_count": null,
            "_view_module_version": "1.5.0",
            "box_style": "",
            "layout": "IPY_MODEL_0c812150d906490296b8535e55802658",
            "_model_module": "@jupyter-widgets/controls",
            "children": [
              "IPY_MODEL_c362ee3ac2be4634af3b269c4edcd250",
              "IPY_MODEL_cdaa8ab1c5c246139a946520f635636a"
            ]
          }
        },
        "0c812150d906490296b8535e55802658": {
          "model_module": "@jupyter-widgets/base",
          "model_name": "LayoutModel",
          "state": {
            "_view_name": "LayoutView",
            "grid_template_rows": null,
            "right": null,
            "justify_content": null,
            "_view_module": "@jupyter-widgets/base",
            "overflow": null,
            "_model_module_version": "1.2.0",
            "_view_count": null,
            "flex_flow": null,
            "width": null,
            "min_width": null,
            "border": null,
            "align_items": null,
            "bottom": null,
            "_model_module": "@jupyter-widgets/base",
            "top": null,
            "grid_column": null,
            "overflow_y": null,
            "overflow_x": null,
            "grid_auto_flow": null,
            "grid_area": null,
            "grid_template_columns": null,
            "flex": null,
            "_model_name": "LayoutModel",
            "justify_items": null,
            "grid_row": null,
            "max_height": null,
            "align_content": null,
            "visibility": null,
            "align_self": null,
            "height": null,
            "min_height": null,
            "padding": null,
            "grid_auto_rows": null,
            "grid_gap": null,
            "max_width": null,
            "order": null,
            "_view_module_version": "1.2.0",
            "grid_template_areas": null,
            "object_position": null,
            "object_fit": null,
            "grid_auto_columns": null,
            "margin": null,
            "display": null,
            "left": null
          }
        },
        "c362ee3ac2be4634af3b269c4edcd250": {
          "model_module": "@jupyter-widgets/controls",
          "model_name": "FloatProgressModel",
          "state": {
            "_view_name": "ProgressView",
            "style": "IPY_MODEL_5070b0631e15493e9c3368a1b031e7fa",
            "_dom_classes": [],
            "description": "Dl Completed...: 100%",
            "_model_name": "FloatProgressModel",
            "bar_style": "success",
            "max": 1,
            "_view_module": "@jupyter-widgets/controls",
            "_model_module_version": "1.5.0",
            "value": 1,
            "_view_count": null,
            "_view_module_version": "1.5.0",
            "orientation": "horizontal",
            "min": 0,
            "description_tooltip": null,
            "_model_module": "@jupyter-widgets/controls",
            "layout": "IPY_MODEL_6f0305cdd7784431b5e8072160de248e"
          }
        },
        "cdaa8ab1c5c246139a946520f635636a": {
          "model_module": "@jupyter-widgets/controls",
          "model_name": "HTMLModel",
          "state": {
            "_view_name": "HTMLView",
            "style": "IPY_MODEL_b2bc3ee16a1a478488a3bddf23550719",
            "_dom_classes": [],
            "description": "",
            "_model_name": "HTMLModel",
            "placeholder": "​",
            "_view_module": "@jupyter-widgets/controls",
            "_model_module_version": "1.5.0",
            "value": " 1/1 [00:05&lt;00:00,  5.27s/ url]",
            "_view_count": null,
            "_view_module_version": "1.5.0",
            "description_tooltip": null,
            "_model_module": "@jupyter-widgets/controls",
            "layout": "IPY_MODEL_98d85d88f2ce474b83433ad9c6c6a595"
          }
        },
        "5070b0631e15493e9c3368a1b031e7fa": {
          "model_module": "@jupyter-widgets/controls",
          "model_name": "ProgressStyleModel",
          "state": {
            "_view_name": "StyleView",
            "_model_name": "ProgressStyleModel",
            "description_width": "initial",
            "_view_module": "@jupyter-widgets/base",
            "_model_module_version": "1.5.0",
            "_view_count": null,
            "_view_module_version": "1.2.0",
            "bar_color": null,
            "_model_module": "@jupyter-widgets/controls"
          }
        },
        "6f0305cdd7784431b5e8072160de248e": {
          "model_module": "@jupyter-widgets/base",
          "model_name": "LayoutModel",
          "state": {
            "_view_name": "LayoutView",
            "grid_template_rows": null,
            "right": null,
            "justify_content": null,
            "_view_module": "@jupyter-widgets/base",
            "overflow": null,
            "_model_module_version": "1.2.0",
            "_view_count": null,
            "flex_flow": null,
            "width": null,
            "min_width": null,
            "border": null,
            "align_items": null,
            "bottom": null,
            "_model_module": "@jupyter-widgets/base",
            "top": null,
            "grid_column": null,
            "overflow_y": null,
            "overflow_x": null,
            "grid_auto_flow": null,
            "grid_area": null,
            "grid_template_columns": null,
            "flex": null,
            "_model_name": "LayoutModel",
            "justify_items": null,
            "grid_row": null,
            "max_height": null,
            "align_content": null,
            "visibility": null,
            "align_self": null,
            "height": null,
            "min_height": null,
            "padding": null,
            "grid_auto_rows": null,
            "grid_gap": null,
            "max_width": null,
            "order": null,
            "_view_module_version": "1.2.0",
            "grid_template_areas": null,
            "object_position": null,
            "object_fit": null,
            "grid_auto_columns": null,
            "margin": null,
            "display": null,
            "left": null
          }
        },
        "b2bc3ee16a1a478488a3bddf23550719": {
          "model_module": "@jupyter-widgets/controls",
          "model_name": "DescriptionStyleModel",
          "state": {
            "_view_name": "StyleView",
            "_model_name": "DescriptionStyleModel",
            "description_width": "",
            "_view_module": "@jupyter-widgets/base",
            "_model_module_version": "1.5.0",
            "_view_count": null,
            "_view_module_version": "1.2.0",
            "_model_module": "@jupyter-widgets/controls"
          }
        },
        "98d85d88f2ce474b83433ad9c6c6a595": {
          "model_module": "@jupyter-widgets/base",
          "model_name": "LayoutModel",
          "state": {
            "_view_name": "LayoutView",
            "grid_template_rows": null,
            "right": null,
            "justify_content": null,
            "_view_module": "@jupyter-widgets/base",
            "overflow": null,
            "_model_module_version": "1.2.0",
            "_view_count": null,
            "flex_flow": null,
            "width": null,
            "min_width": null,
            "border": null,
            "align_items": null,
            "bottom": null,
            "_model_module": "@jupyter-widgets/base",
            "top": null,
            "grid_column": null,
            "overflow_y": null,
            "overflow_x": null,
            "grid_auto_flow": null,
            "grid_area": null,
            "grid_template_columns": null,
            "flex": null,
            "_model_name": "LayoutModel",
            "justify_items": null,
            "grid_row": null,
            "max_height": null,
            "align_content": null,
            "visibility": null,
            "align_self": null,
            "height": null,
            "min_height": null,
            "padding": null,
            "grid_auto_rows": null,
            "grid_gap": null,
            "max_width": null,
            "order": null,
            "_view_module_version": "1.2.0",
            "grid_template_areas": null,
            "object_position": null,
            "object_fit": null,
            "grid_auto_columns": null,
            "margin": null,
            "display": null,
            "left": null
          }
        },
        "ce08dad37b944f33bb0ec04c490bf6fc": {
          "model_module": "@jupyter-widgets/controls",
          "model_name": "HBoxModel",
          "state": {
            "_view_name": "HBoxView",
            "_dom_classes": [],
            "_model_name": "HBoxModel",
            "_view_module": "@jupyter-widgets/controls",
            "_model_module_version": "1.5.0",
            "_view_count": null,
            "_view_module_version": "1.5.0",
            "box_style": "",
            "layout": "IPY_MODEL_c117c4a573404169a651f615d1c748a5",
            "_model_module": "@jupyter-widgets/controls",
            "children": [
              "IPY_MODEL_4b64b2d406954e2b8883c7eb27c80e58",
              "IPY_MODEL_f81a4f1823704c3cb2b10f0d112c82fc"
            ]
          }
        },
        "c117c4a573404169a651f615d1c748a5": {
          "model_module": "@jupyter-widgets/base",
          "model_name": "LayoutModel",
          "state": {
            "_view_name": "LayoutView",
            "grid_template_rows": null,
            "right": null,
            "justify_content": null,
            "_view_module": "@jupyter-widgets/base",
            "overflow": null,
            "_model_module_version": "1.2.0",
            "_view_count": null,
            "flex_flow": null,
            "width": null,
            "min_width": null,
            "border": null,
            "align_items": null,
            "bottom": null,
            "_model_module": "@jupyter-widgets/base",
            "top": null,
            "grid_column": null,
            "overflow_y": null,
            "overflow_x": null,
            "grid_auto_flow": null,
            "grid_area": null,
            "grid_template_columns": null,
            "flex": null,
            "_model_name": "LayoutModel",
            "justify_items": null,
            "grid_row": null,
            "max_height": null,
            "align_content": null,
            "visibility": null,
            "align_self": null,
            "height": null,
            "min_height": null,
            "padding": null,
            "grid_auto_rows": null,
            "grid_gap": null,
            "max_width": null,
            "order": null,
            "_view_module_version": "1.2.0",
            "grid_template_areas": null,
            "object_position": null,
            "object_fit": null,
            "grid_auto_columns": null,
            "margin": null,
            "display": null,
            "left": null
          }
        },
        "4b64b2d406954e2b8883c7eb27c80e58": {
          "model_module": "@jupyter-widgets/controls",
          "model_name": "FloatProgressModel",
          "state": {
            "_view_name": "ProgressView",
            "style": "IPY_MODEL_93cbac86dd0348b8bf207855751dc846",
            "_dom_classes": [],
            "description": "Dl Size...: 100%",
            "_model_name": "FloatProgressModel",
            "bar_style": "success",
            "max": 1,
            "_view_module": "@jupyter-widgets/controls",
            "_model_module_version": "1.5.0",
            "value": 1,
            "_view_count": null,
            "_view_module_version": "1.5.0",
            "orientation": "horizontal",
            "min": 0,
            "description_tooltip": null,
            "_model_module": "@jupyter-widgets/controls",
            "layout": "IPY_MODEL_760d98d4b7b54072bc226bd9ca67f022"
          }
        },
        "f81a4f1823704c3cb2b10f0d112c82fc": {
          "model_module": "@jupyter-widgets/controls",
          "model_name": "HTMLModel",
          "state": {
            "_view_name": "HTMLView",
            "style": "IPY_MODEL_1e481f920ba2427a82bbc67f080a9333",
            "_dom_classes": [],
            "description": "",
            "_model_name": "HTMLModel",
            "placeholder": "​",
            "_view_module": "@jupyter-widgets/controls",
            "_model_module_version": "1.5.0",
            "value": " 80/80 [00:05&lt;00:00, 15.25 MiB/s]",
            "_view_count": null,
            "_view_module_version": "1.5.0",
            "description_tooltip": null,
            "_model_module": "@jupyter-widgets/controls",
            "layout": "IPY_MODEL_4a454141a33e4b438b093cccb0c705d7"
          }
        },
        "93cbac86dd0348b8bf207855751dc846": {
          "model_module": "@jupyter-widgets/controls",
          "model_name": "ProgressStyleModel",
          "state": {
            "_view_name": "StyleView",
            "_model_name": "ProgressStyleModel",
            "description_width": "initial",
            "_view_module": "@jupyter-widgets/base",
            "_model_module_version": "1.5.0",
            "_view_count": null,
            "_view_module_version": "1.2.0",
            "bar_color": null,
            "_model_module": "@jupyter-widgets/controls"
          }
        },
        "760d98d4b7b54072bc226bd9ca67f022": {
          "model_module": "@jupyter-widgets/base",
          "model_name": "LayoutModel",
          "state": {
            "_view_name": "LayoutView",
            "grid_template_rows": null,
            "right": null,
            "justify_content": null,
            "_view_module": "@jupyter-widgets/base",
            "overflow": null,
            "_model_module_version": "1.2.0",
            "_view_count": null,
            "flex_flow": null,
            "width": null,
            "min_width": null,
            "border": null,
            "align_items": null,
            "bottom": null,
            "_model_module": "@jupyter-widgets/base",
            "top": null,
            "grid_column": null,
            "overflow_y": null,
            "overflow_x": null,
            "grid_auto_flow": null,
            "grid_area": null,
            "grid_template_columns": null,
            "flex": null,
            "_model_name": "LayoutModel",
            "justify_items": null,
            "grid_row": null,
            "max_height": null,
            "align_content": null,
            "visibility": null,
            "align_self": null,
            "height": null,
            "min_height": null,
            "padding": null,
            "grid_auto_rows": null,
            "grid_gap": null,
            "max_width": null,
            "order": null,
            "_view_module_version": "1.2.0",
            "grid_template_areas": null,
            "object_position": null,
            "object_fit": null,
            "grid_auto_columns": null,
            "margin": null,
            "display": null,
            "left": null
          }
        },
        "1e481f920ba2427a82bbc67f080a9333": {
          "model_module": "@jupyter-widgets/controls",
          "model_name": "DescriptionStyleModel",
          "state": {
            "_view_name": "StyleView",
            "_model_name": "DescriptionStyleModel",
            "description_width": "",
            "_view_module": "@jupyter-widgets/base",
            "_model_module_version": "1.5.0",
            "_view_count": null,
            "_view_module_version": "1.2.0",
            "_model_module": "@jupyter-widgets/controls"
          }
        },
        "4a454141a33e4b438b093cccb0c705d7": {
          "model_module": "@jupyter-widgets/base",
          "model_name": "LayoutModel",
          "state": {
            "_view_name": "LayoutView",
            "grid_template_rows": null,
            "right": null,
            "justify_content": null,
            "_view_module": "@jupyter-widgets/base",
            "overflow": null,
            "_model_module_version": "1.2.0",
            "_view_count": null,
            "flex_flow": null,
            "width": null,
            "min_width": null,
            "border": null,
            "align_items": null,
            "bottom": null,
            "_model_module": "@jupyter-widgets/base",
            "top": null,
            "grid_column": null,
            "overflow_y": null,
            "overflow_x": null,
            "grid_auto_flow": null,
            "grid_area": null,
            "grid_template_columns": null,
            "flex": null,
            "_model_name": "LayoutModel",
            "justify_items": null,
            "grid_row": null,
            "max_height": null,
            "align_content": null,
            "visibility": null,
            "align_self": null,
            "height": null,
            "min_height": null,
            "padding": null,
            "grid_auto_rows": null,
            "grid_gap": null,
            "max_width": null,
            "order": null,
            "_view_module_version": "1.2.0",
            "grid_template_areas": null,
            "object_position": null,
            "object_fit": null,
            "grid_auto_columns": null,
            "margin": null,
            "display": null,
            "left": null
          }
        },
        "4282162eb4914744ab47c462303b0730": {
          "model_module": "@jupyter-widgets/controls",
          "model_name": "HBoxModel",
          "state": {
            "_view_name": "HBoxView",
            "_dom_classes": [],
            "_model_name": "HBoxModel",
            "_view_module": "@jupyter-widgets/controls",
            "_model_module_version": "1.5.0",
            "_view_count": null,
            "_view_module_version": "1.5.0",
            "box_style": "",
            "layout": "IPY_MODEL_f6827ea34b4c4af6934becfbab532eee",
            "_model_module": "@jupyter-widgets/controls",
            "children": [
              "IPY_MODEL_69e50e7437604885a40dde86759ccd47",
              "IPY_MODEL_c4ad41a6ceb24af9a23d8772af79daa6"
            ]
          }
        },
        "f6827ea34b4c4af6934becfbab532eee": {
          "model_module": "@jupyter-widgets/base",
          "model_name": "LayoutModel",
          "state": {
            "_view_name": "LayoutView",
            "grid_template_rows": null,
            "right": null,
            "justify_content": null,
            "_view_module": "@jupyter-widgets/base",
            "overflow": null,
            "_model_module_version": "1.2.0",
            "_view_count": null,
            "flex_flow": null,
            "width": null,
            "min_width": null,
            "border": null,
            "align_items": null,
            "bottom": null,
            "_model_module": "@jupyter-widgets/base",
            "top": null,
            "grid_column": null,
            "overflow_y": null,
            "overflow_x": null,
            "grid_auto_flow": null,
            "grid_area": null,
            "grid_template_columns": null,
            "flex": null,
            "_model_name": "LayoutModel",
            "justify_items": null,
            "grid_row": null,
            "max_height": null,
            "align_content": null,
            "visibility": null,
            "align_self": null,
            "height": null,
            "min_height": null,
            "padding": null,
            "grid_auto_rows": null,
            "grid_gap": null,
            "max_width": null,
            "order": null,
            "_view_module_version": "1.2.0",
            "grid_template_areas": null,
            "object_position": null,
            "object_fit": null,
            "grid_auto_columns": null,
            "margin": null,
            "display": null,
            "left": null
          }
        },
        "69e50e7437604885a40dde86759ccd47": {
          "model_module": "@jupyter-widgets/controls",
          "model_name": "FloatProgressModel",
          "state": {
            "_view_name": "ProgressView",
            "style": "IPY_MODEL_4aae5c915151443ab81fe02f64f2e0c9",
            "_dom_classes": [],
            "description": "",
            "_model_name": "FloatProgressModel",
            "bar_style": "info",
            "max": 1,
            "_view_module": "@jupyter-widgets/controls",
            "_model_module_version": "1.5.0",
            "value": 1,
            "_view_count": null,
            "_view_module_version": "1.5.0",
            "orientation": "horizontal",
            "min": 0,
            "description_tooltip": null,
            "_model_module": "@jupyter-widgets/controls",
            "layout": "IPY_MODEL_c28106c2014b4e8d96bf06bdec556540"
          }
        },
        "c4ad41a6ceb24af9a23d8772af79daa6": {
          "model_module": "@jupyter-widgets/controls",
          "model_name": "HTMLModel",
          "state": {
            "_view_name": "HTMLView",
            "style": "IPY_MODEL_1ae481d0965341249f0b3768ae8a1a9b",
            "_dom_classes": [],
            "description": "",
            "_model_name": "HTMLModel",
            "placeholder": "​",
            "_view_module": "@jupyter-widgets/controls",
            "_model_module_version": "1.5.0",
            "value": " 25000/0 [00:14&lt;00:00, 3014.56 examples/s]",
            "_view_count": null,
            "_view_module_version": "1.5.0",
            "description_tooltip": null,
            "_model_module": "@jupyter-widgets/controls",
            "layout": "IPY_MODEL_0021db55378b4612bb57307baf263636"
          }
        },
        "4aae5c915151443ab81fe02f64f2e0c9": {
          "model_module": "@jupyter-widgets/controls",
          "model_name": "ProgressStyleModel",
          "state": {
            "_view_name": "StyleView",
            "_model_name": "ProgressStyleModel",
            "description_width": "initial",
            "_view_module": "@jupyter-widgets/base",
            "_model_module_version": "1.5.0",
            "_view_count": null,
            "_view_module_version": "1.2.0",
            "bar_color": null,
            "_model_module": "@jupyter-widgets/controls"
          }
        },
        "c28106c2014b4e8d96bf06bdec556540": {
          "model_module": "@jupyter-widgets/base",
          "model_name": "LayoutModel",
          "state": {
            "_view_name": "LayoutView",
            "grid_template_rows": null,
            "right": null,
            "justify_content": null,
            "_view_module": "@jupyter-widgets/base",
            "overflow": null,
            "_model_module_version": "1.2.0",
            "_view_count": null,
            "flex_flow": null,
            "width": null,
            "min_width": null,
            "border": null,
            "align_items": null,
            "bottom": null,
            "_model_module": "@jupyter-widgets/base",
            "top": null,
            "grid_column": null,
            "overflow_y": null,
            "overflow_x": null,
            "grid_auto_flow": null,
            "grid_area": null,
            "grid_template_columns": null,
            "flex": null,
            "_model_name": "LayoutModel",
            "justify_items": null,
            "grid_row": null,
            "max_height": null,
            "align_content": null,
            "visibility": null,
            "align_self": null,
            "height": null,
            "min_height": null,
            "padding": null,
            "grid_auto_rows": null,
            "grid_gap": null,
            "max_width": null,
            "order": null,
            "_view_module_version": "1.2.0",
            "grid_template_areas": null,
            "object_position": null,
            "object_fit": null,
            "grid_auto_columns": null,
            "margin": null,
            "display": null,
            "left": null
          }
        },
        "1ae481d0965341249f0b3768ae8a1a9b": {
          "model_module": "@jupyter-widgets/controls",
          "model_name": "DescriptionStyleModel",
          "state": {
            "_view_name": "StyleView",
            "_model_name": "DescriptionStyleModel",
            "description_width": "",
            "_view_module": "@jupyter-widgets/base",
            "_model_module_version": "1.5.0",
            "_view_count": null,
            "_view_module_version": "1.2.0",
            "_model_module": "@jupyter-widgets/controls"
          }
        },
        "0021db55378b4612bb57307baf263636": {
          "model_module": "@jupyter-widgets/base",
          "model_name": "LayoutModel",
          "state": {
            "_view_name": "LayoutView",
            "grid_template_rows": null,
            "right": null,
            "justify_content": null,
            "_view_module": "@jupyter-widgets/base",
            "overflow": null,
            "_model_module_version": "1.2.0",
            "_view_count": null,
            "flex_flow": null,
            "width": null,
            "min_width": null,
            "border": null,
            "align_items": null,
            "bottom": null,
            "_model_module": "@jupyter-widgets/base",
            "top": null,
            "grid_column": null,
            "overflow_y": null,
            "overflow_x": null,
            "grid_auto_flow": null,
            "grid_area": null,
            "grid_template_columns": null,
            "flex": null,
            "_model_name": "LayoutModel",
            "justify_items": null,
            "grid_row": null,
            "max_height": null,
            "align_content": null,
            "visibility": null,
            "align_self": null,
            "height": null,
            "min_height": null,
            "padding": null,
            "grid_auto_rows": null,
            "grid_gap": null,
            "max_width": null,
            "order": null,
            "_view_module_version": "1.2.0",
            "grid_template_areas": null,
            "object_position": null,
            "object_fit": null,
            "grid_auto_columns": null,
            "margin": null,
            "display": null,
            "left": null
          }
        },
        "f3ba209d0bb4480ea15298e66875087a": {
          "model_module": "@jupyter-widgets/controls",
          "model_name": "HBoxModel",
          "state": {
            "_view_name": "HBoxView",
            "_dom_classes": [],
            "_model_name": "HBoxModel",
            "_view_module": "@jupyter-widgets/controls",
            "_model_module_version": "1.5.0",
            "_view_count": null,
            "_view_module_version": "1.5.0",
            "box_style": "",
            "layout": "IPY_MODEL_f90dec8bc8d54792bf942c86265ebee2",
            "_model_module": "@jupyter-widgets/controls",
            "children": [
              "IPY_MODEL_01fbd0d4f219407aae0a5e7411ec3656",
              "IPY_MODEL_5ac94c6a1b4d46269cb34487b3216ada"
            ]
          }
        },
        "f90dec8bc8d54792bf942c86265ebee2": {
          "model_module": "@jupyter-widgets/base",
          "model_name": "LayoutModel",
          "state": {
            "_view_name": "LayoutView",
            "grid_template_rows": null,
            "right": null,
            "justify_content": null,
            "_view_module": "@jupyter-widgets/base",
            "overflow": null,
            "_model_module_version": "1.2.0",
            "_view_count": null,
            "flex_flow": null,
            "width": null,
            "min_width": null,
            "border": null,
            "align_items": null,
            "bottom": null,
            "_model_module": "@jupyter-widgets/base",
            "top": null,
            "grid_column": null,
            "overflow_y": null,
            "overflow_x": null,
            "grid_auto_flow": null,
            "grid_area": null,
            "grid_template_columns": null,
            "flex": null,
            "_model_name": "LayoutModel",
            "justify_items": null,
            "grid_row": null,
            "max_height": null,
            "align_content": null,
            "visibility": null,
            "align_self": null,
            "height": null,
            "min_height": null,
            "padding": null,
            "grid_auto_rows": null,
            "grid_gap": null,
            "max_width": null,
            "order": null,
            "_view_module_version": "1.2.0",
            "grid_template_areas": null,
            "object_position": null,
            "object_fit": null,
            "grid_auto_columns": null,
            "margin": null,
            "display": null,
            "left": null
          }
        },
        "01fbd0d4f219407aae0a5e7411ec3656": {
          "model_module": "@jupyter-widgets/controls",
          "model_name": "FloatProgressModel",
          "state": {
            "_view_name": "ProgressView",
            "style": "IPY_MODEL_1d6fd91f121b48139cd368ba337867cf",
            "_dom_classes": [],
            "description": " 36%",
            "_model_name": "FloatProgressModel",
            "bar_style": "danger",
            "max": 25000,
            "_view_module": "@jupyter-widgets/controls",
            "_model_module_version": "1.5.0",
            "value": 9074,
            "_view_count": null,
            "_view_module_version": "1.5.0",
            "orientation": "horizontal",
            "min": 0,
            "description_tooltip": null,
            "_model_module": "@jupyter-widgets/controls",
            "layout": "IPY_MODEL_7e3f3658872f4cf99cde612199a93057"
          }
        },
        "5ac94c6a1b4d46269cb34487b3216ada": {
          "model_module": "@jupyter-widgets/controls",
          "model_name": "HTMLModel",
          "state": {
            "_view_name": "HTMLView",
            "style": "IPY_MODEL_d318293b7f424c16be40743a0bea2824",
            "_dom_classes": [],
            "description": "",
            "_model_name": "HTMLModel",
            "placeholder": "​",
            "_view_module": "@jupyter-widgets/controls",
            "_model_module_version": "1.5.0",
            "value": " 9074/25000 [00:00&lt;00:00, 90739.87 examples/s]",
            "_view_count": null,
            "_view_module_version": "1.5.0",
            "description_tooltip": null,
            "_model_module": "@jupyter-widgets/controls",
            "layout": "IPY_MODEL_b5b23e7829fb430ba8992bc442d355c6"
          }
        },
        "1d6fd91f121b48139cd368ba337867cf": {
          "model_module": "@jupyter-widgets/controls",
          "model_name": "ProgressStyleModel",
          "state": {
            "_view_name": "StyleView",
            "_model_name": "ProgressStyleModel",
            "description_width": "initial",
            "_view_module": "@jupyter-widgets/base",
            "_model_module_version": "1.5.0",
            "_view_count": null,
            "_view_module_version": "1.2.0",
            "bar_color": null,
            "_model_module": "@jupyter-widgets/controls"
          }
        },
        "7e3f3658872f4cf99cde612199a93057": {
          "model_module": "@jupyter-widgets/base",
          "model_name": "LayoutModel",
          "state": {
            "_view_name": "LayoutView",
            "grid_template_rows": null,
            "right": null,
            "justify_content": null,
            "_view_module": "@jupyter-widgets/base",
            "overflow": null,
            "_model_module_version": "1.2.0",
            "_view_count": null,
            "flex_flow": null,
            "width": null,
            "min_width": null,
            "border": null,
            "align_items": null,
            "bottom": null,
            "_model_module": "@jupyter-widgets/base",
            "top": null,
            "grid_column": null,
            "overflow_y": null,
            "overflow_x": null,
            "grid_auto_flow": null,
            "grid_area": null,
            "grid_template_columns": null,
            "flex": null,
            "_model_name": "LayoutModel",
            "justify_items": null,
            "grid_row": null,
            "max_height": null,
            "align_content": null,
            "visibility": null,
            "align_self": null,
            "height": null,
            "min_height": null,
            "padding": null,
            "grid_auto_rows": null,
            "grid_gap": null,
            "max_width": null,
            "order": null,
            "_view_module_version": "1.2.0",
            "grid_template_areas": null,
            "object_position": null,
            "object_fit": null,
            "grid_auto_columns": null,
            "margin": null,
            "display": null,
            "left": null
          }
        },
        "d318293b7f424c16be40743a0bea2824": {
          "model_module": "@jupyter-widgets/controls",
          "model_name": "DescriptionStyleModel",
          "state": {
            "_view_name": "StyleView",
            "_model_name": "DescriptionStyleModel",
            "description_width": "",
            "_view_module": "@jupyter-widgets/base",
            "_model_module_version": "1.5.0",
            "_view_count": null,
            "_view_module_version": "1.2.0",
            "_model_module": "@jupyter-widgets/controls"
          }
        },
        "b5b23e7829fb430ba8992bc442d355c6": {
          "model_module": "@jupyter-widgets/base",
          "model_name": "LayoutModel",
          "state": {
            "_view_name": "LayoutView",
            "grid_template_rows": null,
            "right": null,
            "justify_content": null,
            "_view_module": "@jupyter-widgets/base",
            "overflow": null,
            "_model_module_version": "1.2.0",
            "_view_count": null,
            "flex_flow": null,
            "width": null,
            "min_width": null,
            "border": null,
            "align_items": null,
            "bottom": null,
            "_model_module": "@jupyter-widgets/base",
            "top": null,
            "grid_column": null,
            "overflow_y": null,
            "overflow_x": null,
            "grid_auto_flow": null,
            "grid_area": null,
            "grid_template_columns": null,
            "flex": null,
            "_model_name": "LayoutModel",
            "justify_items": null,
            "grid_row": null,
            "max_height": null,
            "align_content": null,
            "visibility": null,
            "align_self": null,
            "height": null,
            "min_height": null,
            "padding": null,
            "grid_auto_rows": null,
            "grid_gap": null,
            "max_width": null,
            "order": null,
            "_view_module_version": "1.2.0",
            "grid_template_areas": null,
            "object_position": null,
            "object_fit": null,
            "grid_auto_columns": null,
            "margin": null,
            "display": null,
            "left": null
          }
        },
        "4a1ed75c325f4b73945119e2a9401275": {
          "model_module": "@jupyter-widgets/controls",
          "model_name": "HBoxModel",
          "state": {
            "_view_name": "HBoxView",
            "_dom_classes": [],
            "_model_name": "HBoxModel",
            "_view_module": "@jupyter-widgets/controls",
            "_model_module_version": "1.5.0",
            "_view_count": null,
            "_view_module_version": "1.5.0",
            "box_style": "",
            "layout": "IPY_MODEL_7473b8a6c28c4d75a114b902599d5135",
            "_model_module": "@jupyter-widgets/controls",
            "children": [
              "IPY_MODEL_2a61a9340ea64afa82a25cebd8f89adc",
              "IPY_MODEL_d50d27c5efe8439b8a341aadfe57db67"
            ]
          }
        },
        "7473b8a6c28c4d75a114b902599d5135": {
          "model_module": "@jupyter-widgets/base",
          "model_name": "LayoutModel",
          "state": {
            "_view_name": "LayoutView",
            "grid_template_rows": null,
            "right": null,
            "justify_content": null,
            "_view_module": "@jupyter-widgets/base",
            "overflow": null,
            "_model_module_version": "1.2.0",
            "_view_count": null,
            "flex_flow": null,
            "width": null,
            "min_width": null,
            "border": null,
            "align_items": null,
            "bottom": null,
            "_model_module": "@jupyter-widgets/base",
            "top": null,
            "grid_column": null,
            "overflow_y": null,
            "overflow_x": null,
            "grid_auto_flow": null,
            "grid_area": null,
            "grid_template_columns": null,
            "flex": null,
            "_model_name": "LayoutModel",
            "justify_items": null,
            "grid_row": null,
            "max_height": null,
            "align_content": null,
            "visibility": null,
            "align_self": null,
            "height": null,
            "min_height": null,
            "padding": null,
            "grid_auto_rows": null,
            "grid_gap": null,
            "max_width": null,
            "order": null,
            "_view_module_version": "1.2.0",
            "grid_template_areas": null,
            "object_position": null,
            "object_fit": null,
            "grid_auto_columns": null,
            "margin": null,
            "display": null,
            "left": null
          }
        },
        "2a61a9340ea64afa82a25cebd8f89adc": {
          "model_module": "@jupyter-widgets/controls",
          "model_name": "FloatProgressModel",
          "state": {
            "_view_name": "ProgressView",
            "style": "IPY_MODEL_29ae2c0904904214abe4ff95cb975772",
            "_dom_classes": [],
            "description": "",
            "_model_name": "FloatProgressModel",
            "bar_style": "info",
            "max": 1,
            "_view_module": "@jupyter-widgets/controls",
            "_model_module_version": "1.5.0",
            "value": 1,
            "_view_count": null,
            "_view_module_version": "1.5.0",
            "orientation": "horizontal",
            "min": 0,
            "description_tooltip": null,
            "_model_module": "@jupyter-widgets/controls",
            "layout": "IPY_MODEL_ab274c3425eb4ac6bc72e09bdcf9c6c4"
          }
        },
        "d50d27c5efe8439b8a341aadfe57db67": {
          "model_module": "@jupyter-widgets/controls",
          "model_name": "HTMLModel",
          "state": {
            "_view_name": "HTMLView",
            "style": "IPY_MODEL_cb139998e6074a8abc4cb8182d9d0b37",
            "_dom_classes": [],
            "description": "",
            "_model_name": "HTMLModel",
            "placeholder": "​",
            "_view_module": "@jupyter-widgets/controls",
            "_model_module_version": "1.5.0",
            "value": " 25000/0 [00:14&lt;00:00, 3117.38 examples/s]",
            "_view_count": null,
            "_view_module_version": "1.5.0",
            "description_tooltip": null,
            "_model_module": "@jupyter-widgets/controls",
            "layout": "IPY_MODEL_2018d76c7c1b4c5e99e57008f9563e4f"
          }
        },
        "29ae2c0904904214abe4ff95cb975772": {
          "model_module": "@jupyter-widgets/controls",
          "model_name": "ProgressStyleModel",
          "state": {
            "_view_name": "StyleView",
            "_model_name": "ProgressStyleModel",
            "description_width": "initial",
            "_view_module": "@jupyter-widgets/base",
            "_model_module_version": "1.5.0",
            "_view_count": null,
            "_view_module_version": "1.2.0",
            "bar_color": null,
            "_model_module": "@jupyter-widgets/controls"
          }
        },
        "ab274c3425eb4ac6bc72e09bdcf9c6c4": {
          "model_module": "@jupyter-widgets/base",
          "model_name": "LayoutModel",
          "state": {
            "_view_name": "LayoutView",
            "grid_template_rows": null,
            "right": null,
            "justify_content": null,
            "_view_module": "@jupyter-widgets/base",
            "overflow": null,
            "_model_module_version": "1.2.0",
            "_view_count": null,
            "flex_flow": null,
            "width": null,
            "min_width": null,
            "border": null,
            "align_items": null,
            "bottom": null,
            "_model_module": "@jupyter-widgets/base",
            "top": null,
            "grid_column": null,
            "overflow_y": null,
            "overflow_x": null,
            "grid_auto_flow": null,
            "grid_area": null,
            "grid_template_columns": null,
            "flex": null,
            "_model_name": "LayoutModel",
            "justify_items": null,
            "grid_row": null,
            "max_height": null,
            "align_content": null,
            "visibility": null,
            "align_self": null,
            "height": null,
            "min_height": null,
            "padding": null,
            "grid_auto_rows": null,
            "grid_gap": null,
            "max_width": null,
            "order": null,
            "_view_module_version": "1.2.0",
            "grid_template_areas": null,
            "object_position": null,
            "object_fit": null,
            "grid_auto_columns": null,
            "margin": null,
            "display": null,
            "left": null
          }
        },
        "cb139998e6074a8abc4cb8182d9d0b37": {
          "model_module": "@jupyter-widgets/controls",
          "model_name": "DescriptionStyleModel",
          "state": {
            "_view_name": "StyleView",
            "_model_name": "DescriptionStyleModel",
            "description_width": "",
            "_view_module": "@jupyter-widgets/base",
            "_model_module_version": "1.5.0",
            "_view_count": null,
            "_view_module_version": "1.2.0",
            "_model_module": "@jupyter-widgets/controls"
          }
        },
        "2018d76c7c1b4c5e99e57008f9563e4f": {
          "model_module": "@jupyter-widgets/base",
          "model_name": "LayoutModel",
          "state": {
            "_view_name": "LayoutView",
            "grid_template_rows": null,
            "right": null,
            "justify_content": null,
            "_view_module": "@jupyter-widgets/base",
            "overflow": null,
            "_model_module_version": "1.2.0",
            "_view_count": null,
            "flex_flow": null,
            "width": null,
            "min_width": null,
            "border": null,
            "align_items": null,
            "bottom": null,
            "_model_module": "@jupyter-widgets/base",
            "top": null,
            "grid_column": null,
            "overflow_y": null,
            "overflow_x": null,
            "grid_auto_flow": null,
            "grid_area": null,
            "grid_template_columns": null,
            "flex": null,
            "_model_name": "LayoutModel",
            "justify_items": null,
            "grid_row": null,
            "max_height": null,
            "align_content": null,
            "visibility": null,
            "align_self": null,
            "height": null,
            "min_height": null,
            "padding": null,
            "grid_auto_rows": null,
            "grid_gap": null,
            "max_width": null,
            "order": null,
            "_view_module_version": "1.2.0",
            "grid_template_areas": null,
            "object_position": null,
            "object_fit": null,
            "grid_auto_columns": null,
            "margin": null,
            "display": null,
            "left": null
          }
        },
        "fb3a199cdb164f1cbab9eaf242931eae": {
          "model_module": "@jupyter-widgets/controls",
          "model_name": "HBoxModel",
          "state": {
            "_view_name": "HBoxView",
            "_dom_classes": [],
            "_model_name": "HBoxModel",
            "_view_module": "@jupyter-widgets/controls",
            "_model_module_version": "1.5.0",
            "_view_count": null,
            "_view_module_version": "1.5.0",
            "box_style": "",
            "layout": "IPY_MODEL_7103d375ea654be6954e01aabf784ab7",
            "_model_module": "@jupyter-widgets/controls",
            "children": [
              "IPY_MODEL_de7b9a216d1b429a99ddb92f22a18a67",
              "IPY_MODEL_26e620079533439a998783462c579668"
            ]
          }
        },
        "7103d375ea654be6954e01aabf784ab7": {
          "model_module": "@jupyter-widgets/base",
          "model_name": "LayoutModel",
          "state": {
            "_view_name": "LayoutView",
            "grid_template_rows": null,
            "right": null,
            "justify_content": null,
            "_view_module": "@jupyter-widgets/base",
            "overflow": null,
            "_model_module_version": "1.2.0",
            "_view_count": null,
            "flex_flow": null,
            "width": null,
            "min_width": null,
            "border": null,
            "align_items": null,
            "bottom": null,
            "_model_module": "@jupyter-widgets/base",
            "top": null,
            "grid_column": null,
            "overflow_y": null,
            "overflow_x": null,
            "grid_auto_flow": null,
            "grid_area": null,
            "grid_template_columns": null,
            "flex": null,
            "_model_name": "LayoutModel",
            "justify_items": null,
            "grid_row": null,
            "max_height": null,
            "align_content": null,
            "visibility": null,
            "align_self": null,
            "height": null,
            "min_height": null,
            "padding": null,
            "grid_auto_rows": null,
            "grid_gap": null,
            "max_width": null,
            "order": null,
            "_view_module_version": "1.2.0",
            "grid_template_areas": null,
            "object_position": null,
            "object_fit": null,
            "grid_auto_columns": null,
            "margin": null,
            "display": null,
            "left": null
          }
        },
        "de7b9a216d1b429a99ddb92f22a18a67": {
          "model_module": "@jupyter-widgets/controls",
          "model_name": "FloatProgressModel",
          "state": {
            "_view_name": "ProgressView",
            "style": "IPY_MODEL_d72f1b1a55e2424eadb21ac39b87ede1",
            "_dom_classes": [],
            "description": " 48%",
            "_model_name": "FloatProgressModel",
            "bar_style": "danger",
            "max": 25000,
            "_view_module": "@jupyter-widgets/controls",
            "_model_module_version": "1.5.0",
            "value": 12066,
            "_view_count": null,
            "_view_module_version": "1.5.0",
            "orientation": "horizontal",
            "min": 0,
            "description_tooltip": null,
            "_model_module": "@jupyter-widgets/controls",
            "layout": "IPY_MODEL_bc814a4b16ae4776889a872e77b1299c"
          }
        },
        "26e620079533439a998783462c579668": {
          "model_module": "@jupyter-widgets/controls",
          "model_name": "HTMLModel",
          "state": {
            "_view_name": "HTMLView",
            "style": "IPY_MODEL_1477446941174c20a843bd7dfa37143c",
            "_dom_classes": [],
            "description": "",
            "_model_name": "HTMLModel",
            "placeholder": "​",
            "_view_module": "@jupyter-widgets/controls",
            "_model_module_version": "1.5.0",
            "value": " 12066/25000 [00:00&lt;00:00, 120659.25 examples/s]",
            "_view_count": null,
            "_view_module_version": "1.5.0",
            "description_tooltip": null,
            "_model_module": "@jupyter-widgets/controls",
            "layout": "IPY_MODEL_b2fd35ef438f463aa7f7b06b5edb48ae"
          }
        },
        "d72f1b1a55e2424eadb21ac39b87ede1": {
          "model_module": "@jupyter-widgets/controls",
          "model_name": "ProgressStyleModel",
          "state": {
            "_view_name": "StyleView",
            "_model_name": "ProgressStyleModel",
            "description_width": "initial",
            "_view_module": "@jupyter-widgets/base",
            "_model_module_version": "1.5.0",
            "_view_count": null,
            "_view_module_version": "1.2.0",
            "bar_color": null,
            "_model_module": "@jupyter-widgets/controls"
          }
        },
        "bc814a4b16ae4776889a872e77b1299c": {
          "model_module": "@jupyter-widgets/base",
          "model_name": "LayoutModel",
          "state": {
            "_view_name": "LayoutView",
            "grid_template_rows": null,
            "right": null,
            "justify_content": null,
            "_view_module": "@jupyter-widgets/base",
            "overflow": null,
            "_model_module_version": "1.2.0",
            "_view_count": null,
            "flex_flow": null,
            "width": null,
            "min_width": null,
            "border": null,
            "align_items": null,
            "bottom": null,
            "_model_module": "@jupyter-widgets/base",
            "top": null,
            "grid_column": null,
            "overflow_y": null,
            "overflow_x": null,
            "grid_auto_flow": null,
            "grid_area": null,
            "grid_template_columns": null,
            "flex": null,
            "_model_name": "LayoutModel",
            "justify_items": null,
            "grid_row": null,
            "max_height": null,
            "align_content": null,
            "visibility": null,
            "align_self": null,
            "height": null,
            "min_height": null,
            "padding": null,
            "grid_auto_rows": null,
            "grid_gap": null,
            "max_width": null,
            "order": null,
            "_view_module_version": "1.2.0",
            "grid_template_areas": null,
            "object_position": null,
            "object_fit": null,
            "grid_auto_columns": null,
            "margin": null,
            "display": null,
            "left": null
          }
        },
        "1477446941174c20a843bd7dfa37143c": {
          "model_module": "@jupyter-widgets/controls",
          "model_name": "DescriptionStyleModel",
          "state": {
            "_view_name": "StyleView",
            "_model_name": "DescriptionStyleModel",
            "description_width": "",
            "_view_module": "@jupyter-widgets/base",
            "_model_module_version": "1.5.0",
            "_view_count": null,
            "_view_module_version": "1.2.0",
            "_model_module": "@jupyter-widgets/controls"
          }
        },
        "b2fd35ef438f463aa7f7b06b5edb48ae": {
          "model_module": "@jupyter-widgets/base",
          "model_name": "LayoutModel",
          "state": {
            "_view_name": "LayoutView",
            "grid_template_rows": null,
            "right": null,
            "justify_content": null,
            "_view_module": "@jupyter-widgets/base",
            "overflow": null,
            "_model_module_version": "1.2.0",
            "_view_count": null,
            "flex_flow": null,
            "width": null,
            "min_width": null,
            "border": null,
            "align_items": null,
            "bottom": null,
            "_model_module": "@jupyter-widgets/base",
            "top": null,
            "grid_column": null,
            "overflow_y": null,
            "overflow_x": null,
            "grid_auto_flow": null,
            "grid_area": null,
            "grid_template_columns": null,
            "flex": null,
            "_model_name": "LayoutModel",
            "justify_items": null,
            "grid_row": null,
            "max_height": null,
            "align_content": null,
            "visibility": null,
            "align_self": null,
            "height": null,
            "min_height": null,
            "padding": null,
            "grid_auto_rows": null,
            "grid_gap": null,
            "max_width": null,
            "order": null,
            "_view_module_version": "1.2.0",
            "grid_template_areas": null,
            "object_position": null,
            "object_fit": null,
            "grid_auto_columns": null,
            "margin": null,
            "display": null,
            "left": null
          }
        },
        "2259694baf1f42b2ae432258e53135d2": {
          "model_module": "@jupyter-widgets/controls",
          "model_name": "HBoxModel",
          "state": {
            "_view_name": "HBoxView",
            "_dom_classes": [],
            "_model_name": "HBoxModel",
            "_view_module": "@jupyter-widgets/controls",
            "_model_module_version": "1.5.0",
            "_view_count": null,
            "_view_module_version": "1.5.0",
            "box_style": "",
            "layout": "IPY_MODEL_43627eb86d7c4aff8cb2563c25d78c3a",
            "_model_module": "@jupyter-widgets/controls",
            "children": [
              "IPY_MODEL_b035477d6e604c5b87e9c154c6005df9",
              "IPY_MODEL_abe1d814ed3744f3a944e59b61eda906"
            ]
          }
        },
        "43627eb86d7c4aff8cb2563c25d78c3a": {
          "model_module": "@jupyter-widgets/base",
          "model_name": "LayoutModel",
          "state": {
            "_view_name": "LayoutView",
            "grid_template_rows": null,
            "right": null,
            "justify_content": null,
            "_view_module": "@jupyter-widgets/base",
            "overflow": null,
            "_model_module_version": "1.2.0",
            "_view_count": null,
            "flex_flow": null,
            "width": null,
            "min_width": null,
            "border": null,
            "align_items": null,
            "bottom": null,
            "_model_module": "@jupyter-widgets/base",
            "top": null,
            "grid_column": null,
            "overflow_y": null,
            "overflow_x": null,
            "grid_auto_flow": null,
            "grid_area": null,
            "grid_template_columns": null,
            "flex": null,
            "_model_name": "LayoutModel",
            "justify_items": null,
            "grid_row": null,
            "max_height": null,
            "align_content": null,
            "visibility": null,
            "align_self": null,
            "height": null,
            "min_height": null,
            "padding": null,
            "grid_auto_rows": null,
            "grid_gap": null,
            "max_width": null,
            "order": null,
            "_view_module_version": "1.2.0",
            "grid_template_areas": null,
            "object_position": null,
            "object_fit": null,
            "grid_auto_columns": null,
            "margin": null,
            "display": null,
            "left": null
          }
        },
        "b035477d6e604c5b87e9c154c6005df9": {
          "model_module": "@jupyter-widgets/controls",
          "model_name": "FloatProgressModel",
          "state": {
            "_view_name": "ProgressView",
            "style": "IPY_MODEL_7b6b883865864d7f87036284ce9b4a14",
            "_dom_classes": [],
            "description": "",
            "_model_name": "FloatProgressModel",
            "bar_style": "info",
            "max": 1,
            "_view_module": "@jupyter-widgets/controls",
            "_model_module_version": "1.5.0",
            "value": 1,
            "_view_count": null,
            "_view_module_version": "1.5.0",
            "orientation": "horizontal",
            "min": 0,
            "description_tooltip": null,
            "_model_module": "@jupyter-widgets/controls",
            "layout": "IPY_MODEL_57da3baf8c2342208041e05e7e4e18f9"
          }
        },
        "abe1d814ed3744f3a944e59b61eda906": {
          "model_module": "@jupyter-widgets/controls",
          "model_name": "HTMLModel",
          "state": {
            "_view_name": "HTMLView",
            "style": "IPY_MODEL_16753774e0bc45edad8b580c71ccd4f2",
            "_dom_classes": [],
            "description": "",
            "_model_name": "HTMLModel",
            "placeholder": "​",
            "_view_module": "@jupyter-widgets/controls",
            "_model_module_version": "1.5.0",
            "value": " 50000/0 [00:20&lt;00:00, 2973.53 examples/s]",
            "_view_count": null,
            "_view_module_version": "1.5.0",
            "description_tooltip": null,
            "_model_module": "@jupyter-widgets/controls",
            "layout": "IPY_MODEL_603b2b4c39cc419ca75b690e03ff2b59"
          }
        },
        "7b6b883865864d7f87036284ce9b4a14": {
          "model_module": "@jupyter-widgets/controls",
          "model_name": "ProgressStyleModel",
          "state": {
            "_view_name": "StyleView",
            "_model_name": "ProgressStyleModel",
            "description_width": "initial",
            "_view_module": "@jupyter-widgets/base",
            "_model_module_version": "1.5.0",
            "_view_count": null,
            "_view_module_version": "1.2.0",
            "bar_color": null,
            "_model_module": "@jupyter-widgets/controls"
          }
        },
        "57da3baf8c2342208041e05e7e4e18f9": {
          "model_module": "@jupyter-widgets/base",
          "model_name": "LayoutModel",
          "state": {
            "_view_name": "LayoutView",
            "grid_template_rows": null,
            "right": null,
            "justify_content": null,
            "_view_module": "@jupyter-widgets/base",
            "overflow": null,
            "_model_module_version": "1.2.0",
            "_view_count": null,
            "flex_flow": null,
            "width": null,
            "min_width": null,
            "border": null,
            "align_items": null,
            "bottom": null,
            "_model_module": "@jupyter-widgets/base",
            "top": null,
            "grid_column": null,
            "overflow_y": null,
            "overflow_x": null,
            "grid_auto_flow": null,
            "grid_area": null,
            "grid_template_columns": null,
            "flex": null,
            "_model_name": "LayoutModel",
            "justify_items": null,
            "grid_row": null,
            "max_height": null,
            "align_content": null,
            "visibility": null,
            "align_self": null,
            "height": null,
            "min_height": null,
            "padding": null,
            "grid_auto_rows": null,
            "grid_gap": null,
            "max_width": null,
            "order": null,
            "_view_module_version": "1.2.0",
            "grid_template_areas": null,
            "object_position": null,
            "object_fit": null,
            "grid_auto_columns": null,
            "margin": null,
            "display": null,
            "left": null
          }
        },
        "16753774e0bc45edad8b580c71ccd4f2": {
          "model_module": "@jupyter-widgets/controls",
          "model_name": "DescriptionStyleModel",
          "state": {
            "_view_name": "StyleView",
            "_model_name": "DescriptionStyleModel",
            "description_width": "",
            "_view_module": "@jupyter-widgets/base",
            "_model_module_version": "1.5.0",
            "_view_count": null,
            "_view_module_version": "1.2.0",
            "_model_module": "@jupyter-widgets/controls"
          }
        },
        "603b2b4c39cc419ca75b690e03ff2b59": {
          "model_module": "@jupyter-widgets/base",
          "model_name": "LayoutModel",
          "state": {
            "_view_name": "LayoutView",
            "grid_template_rows": null,
            "right": null,
            "justify_content": null,
            "_view_module": "@jupyter-widgets/base",
            "overflow": null,
            "_model_module_version": "1.2.0",
            "_view_count": null,
            "flex_flow": null,
            "width": null,
            "min_width": null,
            "border": null,
            "align_items": null,
            "bottom": null,
            "_model_module": "@jupyter-widgets/base",
            "top": null,
            "grid_column": null,
            "overflow_y": null,
            "overflow_x": null,
            "grid_auto_flow": null,
            "grid_area": null,
            "grid_template_columns": null,
            "flex": null,
            "_model_name": "LayoutModel",
            "justify_items": null,
            "grid_row": null,
            "max_height": null,
            "align_content": null,
            "visibility": null,
            "align_self": null,
            "height": null,
            "min_height": null,
            "padding": null,
            "grid_auto_rows": null,
            "grid_gap": null,
            "max_width": null,
            "order": null,
            "_view_module_version": "1.2.0",
            "grid_template_areas": null,
            "object_position": null,
            "object_fit": null,
            "grid_auto_columns": null,
            "margin": null,
            "display": null,
            "left": null
          }
        },
        "58d995cc6bb542caa69183ec8c53d63b": {
          "model_module": "@jupyter-widgets/controls",
          "model_name": "HBoxModel",
          "state": {
            "_view_name": "HBoxView",
            "_dom_classes": [],
            "_model_name": "HBoxModel",
            "_view_module": "@jupyter-widgets/controls",
            "_model_module_version": "1.5.0",
            "_view_count": null,
            "_view_module_version": "1.5.0",
            "box_style": "",
            "layout": "IPY_MODEL_5591eeb18b714e0ead4ae26b62ab9fc8",
            "_model_module": "@jupyter-widgets/controls",
            "children": [
              "IPY_MODEL_d9603df8aae149e6926d304b6323658a",
              "IPY_MODEL_e8725edc7b8447e6a6f2f954b4b53014"
            ]
          }
        },
        "5591eeb18b714e0ead4ae26b62ab9fc8": {
          "model_module": "@jupyter-widgets/base",
          "model_name": "LayoutModel",
          "state": {
            "_view_name": "LayoutView",
            "grid_template_rows": null,
            "right": null,
            "justify_content": null,
            "_view_module": "@jupyter-widgets/base",
            "overflow": null,
            "_model_module_version": "1.2.0",
            "_view_count": null,
            "flex_flow": null,
            "width": null,
            "min_width": null,
            "border": null,
            "align_items": null,
            "bottom": null,
            "_model_module": "@jupyter-widgets/base",
            "top": null,
            "grid_column": null,
            "overflow_y": null,
            "overflow_x": null,
            "grid_auto_flow": null,
            "grid_area": null,
            "grid_template_columns": null,
            "flex": null,
            "_model_name": "LayoutModel",
            "justify_items": null,
            "grid_row": null,
            "max_height": null,
            "align_content": null,
            "visibility": null,
            "align_self": null,
            "height": null,
            "min_height": null,
            "padding": null,
            "grid_auto_rows": null,
            "grid_gap": null,
            "max_width": null,
            "order": null,
            "_view_module_version": "1.2.0",
            "grid_template_areas": null,
            "object_position": null,
            "object_fit": null,
            "grid_auto_columns": null,
            "margin": null,
            "display": null,
            "left": null
          }
        },
        "d9603df8aae149e6926d304b6323658a": {
          "model_module": "@jupyter-widgets/controls",
          "model_name": "FloatProgressModel",
          "state": {
            "_view_name": "ProgressView",
            "style": "IPY_MODEL_48fa5e4419b3487494629addc06fcb3c",
            "_dom_classes": [],
            "description": " 58%",
            "_model_name": "FloatProgressModel",
            "bar_style": "danger",
            "max": 50000,
            "_view_module": "@jupyter-widgets/controls",
            "_model_module_version": "1.5.0",
            "value": 29032,
            "_view_count": null,
            "_view_module_version": "1.5.0",
            "orientation": "horizontal",
            "min": 0,
            "description_tooltip": null,
            "_model_module": "@jupyter-widgets/controls",
            "layout": "IPY_MODEL_831ce13d8b9848569b472931dd386ae1"
          }
        },
        "e8725edc7b8447e6a6f2f954b4b53014": {
          "model_module": "@jupyter-widgets/controls",
          "model_name": "HTMLModel",
          "state": {
            "_view_name": "HTMLView",
            "style": "IPY_MODEL_3a31662ba6b7420a87baf85ff8537c85",
            "_dom_classes": [],
            "description": "",
            "_model_name": "HTMLModel",
            "placeholder": "​",
            "_view_module": "@jupyter-widgets/controls",
            "_model_module_version": "1.5.0",
            "value": " 29032/50000 [00:00&lt;00:00, 58119.44 examples/s]",
            "_view_count": null,
            "_view_module_version": "1.5.0",
            "description_tooltip": null,
            "_model_module": "@jupyter-widgets/controls",
            "layout": "IPY_MODEL_1777d364ba01422cb86154c0d89b2f63"
          }
        },
        "48fa5e4419b3487494629addc06fcb3c": {
          "model_module": "@jupyter-widgets/controls",
          "model_name": "ProgressStyleModel",
          "state": {
            "_view_name": "StyleView",
            "_model_name": "ProgressStyleModel",
            "description_width": "initial",
            "_view_module": "@jupyter-widgets/base",
            "_model_module_version": "1.5.0",
            "_view_count": null,
            "_view_module_version": "1.2.0",
            "bar_color": null,
            "_model_module": "@jupyter-widgets/controls"
          }
        },
        "831ce13d8b9848569b472931dd386ae1": {
          "model_module": "@jupyter-widgets/base",
          "model_name": "LayoutModel",
          "state": {
            "_view_name": "LayoutView",
            "grid_template_rows": null,
            "right": null,
            "justify_content": null,
            "_view_module": "@jupyter-widgets/base",
            "overflow": null,
            "_model_module_version": "1.2.0",
            "_view_count": null,
            "flex_flow": null,
            "width": null,
            "min_width": null,
            "border": null,
            "align_items": null,
            "bottom": null,
            "_model_module": "@jupyter-widgets/base",
            "top": null,
            "grid_column": null,
            "overflow_y": null,
            "overflow_x": null,
            "grid_auto_flow": null,
            "grid_area": null,
            "grid_template_columns": null,
            "flex": null,
            "_model_name": "LayoutModel",
            "justify_items": null,
            "grid_row": null,
            "max_height": null,
            "align_content": null,
            "visibility": null,
            "align_self": null,
            "height": null,
            "min_height": null,
            "padding": null,
            "grid_auto_rows": null,
            "grid_gap": null,
            "max_width": null,
            "order": null,
            "_view_module_version": "1.2.0",
            "grid_template_areas": null,
            "object_position": null,
            "object_fit": null,
            "grid_auto_columns": null,
            "margin": null,
            "display": null,
            "left": null
          }
        },
        "3a31662ba6b7420a87baf85ff8537c85": {
          "model_module": "@jupyter-widgets/controls",
          "model_name": "DescriptionStyleModel",
          "state": {
            "_view_name": "StyleView",
            "_model_name": "DescriptionStyleModel",
            "description_width": "",
            "_view_module": "@jupyter-widgets/base",
            "_model_module_version": "1.5.0",
            "_view_count": null,
            "_view_module_version": "1.2.0",
            "_model_module": "@jupyter-widgets/controls"
          }
        },
        "1777d364ba01422cb86154c0d89b2f63": {
          "model_module": "@jupyter-widgets/base",
          "model_name": "LayoutModel",
          "state": {
            "_view_name": "LayoutView",
            "grid_template_rows": null,
            "right": null,
            "justify_content": null,
            "_view_module": "@jupyter-widgets/base",
            "overflow": null,
            "_model_module_version": "1.2.0",
            "_view_count": null,
            "flex_flow": null,
            "width": null,
            "min_width": null,
            "border": null,
            "align_items": null,
            "bottom": null,
            "_model_module": "@jupyter-widgets/base",
            "top": null,
            "grid_column": null,
            "overflow_y": null,
            "overflow_x": null,
            "grid_auto_flow": null,
            "grid_area": null,
            "grid_template_columns": null,
            "flex": null,
            "_model_name": "LayoutModel",
            "justify_items": null,
            "grid_row": null,
            "max_height": null,
            "align_content": null,
            "visibility": null,
            "align_self": null,
            "height": null,
            "min_height": null,
            "padding": null,
            "grid_auto_rows": null,
            "grid_gap": null,
            "max_width": null,
            "order": null,
            "_view_module_version": "1.2.0",
            "grid_template_areas": null,
            "object_position": null,
            "object_fit": null,
            "grid_auto_columns": null,
            "margin": null,
            "display": null,
            "left": null
          }
        }
      }
    }
  },
  "cells": [
    {
      "cell_type": "markdown",
      "metadata": {
        "id": "view-in-github",
        "colab_type": "text"
      },
      "source": [
        "<a href=\"https://colab.research.google.com/github/Abhilaksh1498/SoC-20-Chatbot/blob/master/Word%20EmbeddingWord_Embedding_deeplearning_ai.ipynb\" target=\"_parent\"><img src=\"https://colab.research.google.com/assets/colab-badge.svg\" alt=\"Open In Colab\"/></a>"
      ]
    },
    {
      "cell_type": "code",
      "metadata": {
        "id": "pt3i3GZWZbG4",
        "colab_type": "code",
        "colab": {
          "base_uri": "https://localhost:8080/",
          "height": 34
        },
        "outputId": "c1d2d252-763f-4cd8-a173-12746e269d34"
      },
      "source": [
        "import tensorflow as tf\n",
        "print(tf.__version__)"
      ],
      "execution_count": 22,
      "outputs": [
        {
          "output_type": "stream",
          "text": [
            "2.2.0\n"
          ],
          "name": "stdout"
        }
      ]
    },
    {
      "cell_type": "markdown",
      "metadata": {
        "id": "l_vuKquOZxrE",
        "colab_type": "text"
      },
      "source": [
        "We can continue since version >1.x\n",
        "\n",
        "If it were 1.x we will need to execute\n",
        "```\n",
        "tf.enable_eager_execution()\n",
        "```\n",
        "Google colab has all tensorflow datasets by default, on a local machine however\n",
        "you need to execute\n",
        "\n",
        "\n",
        "```\n",
        "!pip install -q tensorflow-datasets\n",
        "```\n",
        "*Read more about tensorflow datasets here*\n",
        "https://colab.research.google.com/github/tensorflow/datasets/blob/master/docs/overview.ipynb#scrollTo=byOXYCEJS7S6\n"
      ]
    },
    {
      "cell_type": "code",
      "metadata": {
        "id": "xfRlnxL6Z-_9",
        "colab_type": "code",
        "colab": {
          "base_uri": "https://localhost:8080/",
          "height": 869,
          "referenced_widgets": [
            "071b303e38134b85a94ba2fbe9ad47ad",
            "0c812150d906490296b8535e55802658",
            "c362ee3ac2be4634af3b269c4edcd250",
            "cdaa8ab1c5c246139a946520f635636a",
            "5070b0631e15493e9c3368a1b031e7fa",
            "6f0305cdd7784431b5e8072160de248e",
            "b2bc3ee16a1a478488a3bddf23550719",
            "98d85d88f2ce474b83433ad9c6c6a595",
            "ce08dad37b944f33bb0ec04c490bf6fc",
            "c117c4a573404169a651f615d1c748a5",
            "4b64b2d406954e2b8883c7eb27c80e58",
            "f81a4f1823704c3cb2b10f0d112c82fc",
            "93cbac86dd0348b8bf207855751dc846",
            "760d98d4b7b54072bc226bd9ca67f022",
            "1e481f920ba2427a82bbc67f080a9333",
            "4a454141a33e4b438b093cccb0c705d7",
            "4282162eb4914744ab47c462303b0730",
            "f6827ea34b4c4af6934becfbab532eee",
            "69e50e7437604885a40dde86759ccd47",
            "c4ad41a6ceb24af9a23d8772af79daa6",
            "4aae5c915151443ab81fe02f64f2e0c9",
            "c28106c2014b4e8d96bf06bdec556540",
            "1ae481d0965341249f0b3768ae8a1a9b",
            "0021db55378b4612bb57307baf263636",
            "f3ba209d0bb4480ea15298e66875087a",
            "f90dec8bc8d54792bf942c86265ebee2",
            "01fbd0d4f219407aae0a5e7411ec3656",
            "5ac94c6a1b4d46269cb34487b3216ada",
            "1d6fd91f121b48139cd368ba337867cf",
            "7e3f3658872f4cf99cde612199a93057",
            "d318293b7f424c16be40743a0bea2824",
            "b5b23e7829fb430ba8992bc442d355c6",
            "4a1ed75c325f4b73945119e2a9401275",
            "7473b8a6c28c4d75a114b902599d5135",
            "2a61a9340ea64afa82a25cebd8f89adc",
            "d50d27c5efe8439b8a341aadfe57db67",
            "29ae2c0904904214abe4ff95cb975772",
            "ab274c3425eb4ac6bc72e09bdcf9c6c4",
            "cb139998e6074a8abc4cb8182d9d0b37",
            "2018d76c7c1b4c5e99e57008f9563e4f",
            "fb3a199cdb164f1cbab9eaf242931eae",
            "7103d375ea654be6954e01aabf784ab7",
            "de7b9a216d1b429a99ddb92f22a18a67",
            "26e620079533439a998783462c579668",
            "d72f1b1a55e2424eadb21ac39b87ede1",
            "bc814a4b16ae4776889a872e77b1299c",
            "1477446941174c20a843bd7dfa37143c",
            "b2fd35ef438f463aa7f7b06b5edb48ae",
            "2259694baf1f42b2ae432258e53135d2",
            "43627eb86d7c4aff8cb2563c25d78c3a",
            "b035477d6e604c5b87e9c154c6005df9",
            "abe1d814ed3744f3a944e59b61eda906",
            "7b6b883865864d7f87036284ce9b4a14",
            "57da3baf8c2342208041e05e7e4e18f9",
            "16753774e0bc45edad8b580c71ccd4f2",
            "603b2b4c39cc419ca75b690e03ff2b59",
            "58d995cc6bb542caa69183ec8c53d63b",
            "5591eeb18b714e0ead4ae26b62ab9fc8",
            "d9603df8aae149e6926d304b6323658a",
            "e8725edc7b8447e6a6f2f954b4b53014",
            "48fa5e4419b3487494629addc06fcb3c",
            "831ce13d8b9848569b472931dd386ae1",
            "3a31662ba6b7420a87baf85ff8537c85",
            "1777d364ba01422cb86154c0d89b2f63"
          ]
        },
        "outputId": "9efde8e7-8696-420e-98c0-cd9257aa2aa0"
      },
      "source": [
        "import tensorflow_datasets as tfds\n",
        "imdb, info = tfds.load('imdb_reviews', with_info = True, as_supervised = True) \n",
        "# imdb can be thought as list of tuples because of as_supervised argument\n",
        "print(info)"
      ],
      "execution_count": 2,
      "outputs": [
        {
          "output_type": "stream",
          "text": [
            "\u001b[1mDownloading and preparing dataset imdb_reviews/plain_text/1.0.0 (download: 80.23 MiB, generated: Unknown size, total: 80.23 MiB) to /root/tensorflow_datasets/imdb_reviews/plain_text/1.0.0...\u001b[0m\n"
          ],
          "name": "stdout"
        },
        {
          "output_type": "display_data",
          "data": {
            "application/vnd.jupyter.widget-view+json": {
              "model_id": "071b303e38134b85a94ba2fbe9ad47ad",
              "version_minor": 0,
              "version_major": 2
            },
            "text/plain": [
              "HBox(children=(FloatProgress(value=1.0, bar_style='info', description='Dl Completed...', max=1.0, style=Progre…"
            ]
          },
          "metadata": {
            "tags": []
          }
        },
        {
          "output_type": "display_data",
          "data": {
            "application/vnd.jupyter.widget-view+json": {
              "model_id": "ce08dad37b944f33bb0ec04c490bf6fc",
              "version_minor": 0,
              "version_major": 2
            },
            "text/plain": [
              "HBox(children=(FloatProgress(value=1.0, bar_style='info', description='Dl Size...', max=1.0, style=ProgressSty…"
            ]
          },
          "metadata": {
            "tags": []
          }
        },
        {
          "output_type": "stream",
          "text": [
            "\n",
            "\n",
            "\n",
            "\n"
          ],
          "name": "stdout"
        },
        {
          "output_type": "display_data",
          "data": {
            "application/vnd.jupyter.widget-view+json": {
              "model_id": "4282162eb4914744ab47c462303b0730",
              "version_minor": 0,
              "version_major": 2
            },
            "text/plain": [
              "HBox(children=(FloatProgress(value=1.0, bar_style='info', max=1.0), HTML(value='')))"
            ]
          },
          "metadata": {
            "tags": []
          }
        },
        {
          "output_type": "stream",
          "text": [
            "\rShuffling and writing examples to /root/tensorflow_datasets/imdb_reviews/plain_text/1.0.0.incompleteY723DL/imdb_reviews-train.tfrecord\n"
          ],
          "name": "stdout"
        },
        {
          "output_type": "display_data",
          "data": {
            "application/vnd.jupyter.widget-view+json": {
              "model_id": "f3ba209d0bb4480ea15298e66875087a",
              "version_minor": 0,
              "version_major": 2
            },
            "text/plain": [
              "HBox(children=(FloatProgress(value=0.0, max=25000.0), HTML(value='')))"
            ]
          },
          "metadata": {
            "tags": []
          }
        },
        {
          "output_type": "stream",
          "text": [
            "\r"
          ],
          "name": "stdout"
        },
        {
          "output_type": "display_data",
          "data": {
            "application/vnd.jupyter.widget-view+json": {
              "model_id": "4a1ed75c325f4b73945119e2a9401275",
              "version_minor": 0,
              "version_major": 2
            },
            "text/plain": [
              "HBox(children=(FloatProgress(value=1.0, bar_style='info', max=1.0), HTML(value='')))"
            ]
          },
          "metadata": {
            "tags": []
          }
        },
        {
          "output_type": "stream",
          "text": [
            "\rShuffling and writing examples to /root/tensorflow_datasets/imdb_reviews/plain_text/1.0.0.incompleteY723DL/imdb_reviews-test.tfrecord\n"
          ],
          "name": "stdout"
        },
        {
          "output_type": "display_data",
          "data": {
            "application/vnd.jupyter.widget-view+json": {
              "model_id": "fb3a199cdb164f1cbab9eaf242931eae",
              "version_minor": 0,
              "version_major": 2
            },
            "text/plain": [
              "HBox(children=(FloatProgress(value=0.0, max=25000.0), HTML(value='')))"
            ]
          },
          "metadata": {
            "tags": []
          }
        },
        {
          "output_type": "stream",
          "text": [
            "\r"
          ],
          "name": "stdout"
        },
        {
          "output_type": "display_data",
          "data": {
            "application/vnd.jupyter.widget-view+json": {
              "model_id": "2259694baf1f42b2ae432258e53135d2",
              "version_minor": 0,
              "version_major": 2
            },
            "text/plain": [
              "HBox(children=(FloatProgress(value=1.0, bar_style='info', max=1.0), HTML(value='')))"
            ]
          },
          "metadata": {
            "tags": []
          }
        },
        {
          "output_type": "stream",
          "text": [
            "\rShuffling and writing examples to /root/tensorflow_datasets/imdb_reviews/plain_text/1.0.0.incompleteY723DL/imdb_reviews-unsupervised.tfrecord\n"
          ],
          "name": "stdout"
        },
        {
          "output_type": "display_data",
          "data": {
            "application/vnd.jupyter.widget-view+json": {
              "model_id": "58d995cc6bb542caa69183ec8c53d63b",
              "version_minor": 0,
              "version_major": 2
            },
            "text/plain": [
              "HBox(children=(FloatProgress(value=0.0, max=50000.0), HTML(value='')))"
            ]
          },
          "metadata": {
            "tags": []
          }
        },
        {
          "output_type": "stream",
          "text": [
            "\u001b[1mDataset imdb_reviews downloaded and prepared to /root/tensorflow_datasets/imdb_reviews/plain_text/1.0.0. Subsequent calls will reuse this data.\u001b[0m\n",
            "\rtfds.core.DatasetInfo(\n",
            "    name='imdb_reviews',\n",
            "    version=1.0.0,\n",
            "    description='Large Movie Review Dataset.\n",
            "This is a dataset for binary sentiment classification containing substantially more data than previous benchmark datasets. We provide a set of 25,000 highly polar movie reviews for training, and 25,000 for testing. There is additional unlabeled data for use as well.',\n",
            "    homepage='http://ai.stanford.edu/~amaas/data/sentiment/',\n",
            "    features=FeaturesDict({\n",
            "        'label': ClassLabel(shape=(), dtype=tf.int64, num_classes=2),\n",
            "        'text': Text(shape=(), dtype=tf.string),\n",
            "    }),\n",
            "    total_num_examples=100000,\n",
            "    splits={\n",
            "        'test': 25000,\n",
            "        'train': 25000,\n",
            "        'unsupervised': 50000,\n",
            "    },\n",
            "    supervised_keys=('text', 'label'),\n",
            "    citation=\"\"\"@InProceedings{maas-EtAl:2011:ACL-HLT2011,\n",
            "      author    = {Maas, Andrew L.  and  Daly, Raymond E.  and  Pham, Peter T.  and  Huang, Dan  and  Ng, Andrew Y.  and  Potts, Christopher},\n",
            "      title     = {Learning Word Vectors for Sentiment Analysis},\n",
            "      booktitle = {Proceedings of the 49th Annual Meeting of the Association for Computational Linguistics: Human Language Technologies},\n",
            "      month     = {June},\n",
            "      year      = {2011},\n",
            "      address   = {Portland, Oregon, USA},\n",
            "      publisher = {Association for Computational Linguistics},\n",
            "      pages     = {142--150},\n",
            "      url       = {http://www.aclweb.org/anthology/P11-1015}\n",
            "    }\"\"\",\n",
            "    redistribution_info=,\n",
            ")\n",
            "\n"
          ],
          "name": "stdout"
        }
      ]
    },
    {
      "cell_type": "code",
      "metadata": {
        "id": "fsBlb1VVhGk6",
        "colab_type": "code",
        "colab": {}
      },
      "source": [
        "# imdb has all splits in dictionary format\n",
        "train_data = imdb['train']\n",
        "test_data = imdb['test']"
      ],
      "execution_count": 0,
      "outputs": []
    },
    {
      "cell_type": "markdown",
      "metadata": {
        "id": "Wd_Wx_VGk9PA",
        "colab_type": "text"
      },
      "source": [
        "More info on splitting/slicing dataset while loading here\n",
        "https://www.tensorflow.org/datasets/splits"
      ]
    },
    {
      "cell_type": "code",
      "metadata": {
        "id": "EIA1peYhlLRa",
        "colab_type": "code",
        "colab": {}
      },
      "source": [
        "training_sentences = []\n",
        "training_labels= []\n",
        "\n",
        "testing_sentences = []\n",
        "testing_labels = []\n",
        "\n",
        "for s,l in train_data:\n",
        "  training_sentences.append(str(s.numpy()))   # tensors are converted to numpy values using .numpy() method\n",
        "  training_labels.append(l.numpy())           # the text is of type bytes so we can also use decode method\n",
        "\n",
        "for s,l in test_data:\n",
        "  testing_sentences.append(str(s.numpy()))   \n",
        "  testing_labels.append(l.numpy())"
      ],
      "execution_count": 0,
      "outputs": []
    },
    {
      "cell_type": "code",
      "metadata": {
        "id": "MJWatXfHoHJu",
        "colab_type": "code",
        "colab": {
          "base_uri": "https://localhost:8080/",
          "height": 87
        },
        "outputId": "892cbff4-2bdc-4fb6-b18e-fbf85cf3a3bc"
      },
      "source": [
        "for s,l in train_data.take(1):\n",
        "  print(s)\n",
        "  print(type(s.numpy().decode('utf-8')))\n",
        "  print(type(str(s.numpy())))"
      ],
      "execution_count": 38,
      "outputs": [
        {
          "output_type": "stream",
          "text": [
            "tf.Tensor(b\"This was an absolutely terrible movie. Don't be lured in by Christopher Walken or Michael Ironside. Both are great actors, but this must simply be their worst role in history. Even their great acting could not redeem this movie's ridiculous storyline. This movie is an early nineties US propaganda piece. The most pathetic scenes were those when the Columbian rebels were making their cases for revolutions. Maria Conchita Alonso appeared phony, and her pseudo-love affair with Walken was nothing but a pathetic emotional plug in a movie that was devoid of any real meaning. I am disappointed that there are movies like this, ruining actor's like Christopher Walken's good name. I could barely sit through it.\", shape=(), dtype=string)\n",
            "<class 'str'>\n",
            "<class 'str'>\n"
          ],
          "name": "stdout"
        }
      ]
    },
    {
      "cell_type": "code",
      "metadata": {
        "id": "v5AuT8CCpquZ",
        "colab_type": "code",
        "colab": {}
      },
      "source": [
        "vocab_size = 10000\n",
        "embedding_dim = 16\n",
        "trunc_type = 'post'\n",
        "oov_token = 'UNK'\n",
        "max_length = 100\n",
        "\n",
        "# While training the labels are expected to be numpy arrays \n",
        "import numpy as np\n",
        "testing_labels = np.array(testing_labels)\n",
        "training_labels = np.array(training_labels)"
      ],
      "execution_count": 0,
      "outputs": []
    },
    {
      "cell_type": "code",
      "metadata": {
        "id": "SXbZnx6zqzK4",
        "colab_type": "code",
        "colab": {}
      },
      "source": [
        "from tensorflow.keras.preprocessing.text import Tokenizer\n",
        "from tensorflow.keras.preprocessing.sequence import pad_sequences\n",
        "\n",
        "tokenizer = Tokenizer(num_words = vocab_size, oov_token = oov_token)\n",
        "tokenizer.fit_on_texts(training_sentences)\n",
        "sequences = tokenizer.texts_to_sequences(training_sentences)\n",
        "training_padded = pad_sequences(sequences, maxlen = max_length, truncating = trunc_type)"
      ],
      "execution_count": 0,
      "outputs": []
    },
    {
      "cell_type": "code",
      "metadata": {
        "id": "VdOoQIrltDWv",
        "colab_type": "code",
        "colab": {}
      },
      "source": [
        "testing_sequences = tokenizer.texts_to_sequences(testing_sentences)\n",
        "testing_padded = pad_sequences(testing_sequences,maxlen=max_length)"
      ],
      "execution_count": 0,
      "outputs": []
    },
    {
      "cell_type": "code",
      "metadata": {
        "id": "WhTcDYxPx3II",
        "colab_type": "code",
        "colab": {
          "base_uri": "https://localhost:8080/",
          "height": 70
        },
        "outputId": "48f9c8f7-3d9b-4df6-f4c6-6a29f4e50feb"
      },
      "source": [
        "word_index = tokenizer.word_index\n",
        "reverse_word_index = dict([(value, key) for (key, value) in word_index.items()])  # used while saving embeddings\n",
        "\n",
        "def decode_review(text):\n",
        "    return ' '.join([reverse_word_index.get(i, '?') for i in text])\n",
        "\n",
        "print(decode_review(training_padded[3]))\n",
        "print(training_sentences[3])"
      ],
      "execution_count": 45,
      "outputs": [
        {
          "output_type": "stream",
          "text": [
            "? ? ? ? ? ? ? ? ? ? b'this is the kind of film for a snowy sunday afternoon when the rest of the world can go ahead with its own business as you UNK into a big arm chair and UNK for a couple of hours wonderful performances from cher and nicolas cage as always gently row the plot along there are no UNK to cross no dangerous waters just a warm and witty UNK through new york life at its best a family film in every sense and one that deserves the praise it received '\n",
            "b'This is the kind of film for a snowy Sunday afternoon when the rest of the world can go ahead with its own business as you descend into a big arm-chair and mellow for a couple of hours. Wonderful performances from Cher and Nicolas Cage (as always) gently row the plot along. There are no rapids to cross, no dangerous waters, just a warm and witty paddle through New York life at its best. A family film in every sense and one that deserves the praise it received.'\n"
          ],
          "name": "stdout"
        }
      ]
    },
    {
      "cell_type": "code",
      "metadata": {
        "id": "CLKJS3RQEkL6",
        "colab_type": "code",
        "colab": {
          "base_uri": "https://localhost:8080/",
          "height": 50
        },
        "outputId": "1241ff10-e1d3-4825-ae4d-de02ff0f53ea"
      },
      "source": [
        "\n",
        "tk1 = Tokenizer(num_words=6, oov_token='UNK')\n",
        "tk1.fit_on_texts(['gaddi', 'baddi', 'i', 'am', 'the', 'abhilaksh', 'abhilaksh'])\n",
        "print(tk1.word_index)\n",
        "print(tk1.texts_to_sequences(['I am Abhilaksh Maheshwari the god'.lower()]))"
      ],
      "execution_count": 64,
      "outputs": [
        {
          "output_type": "stream",
          "text": [
            "{'UNK': 1, 'abhilaksh': 2, 'gaddi': 3, 'baddi': 4, 'i': 5, 'am': 6, 'the': 7}\n",
            "[[5, 1, 2, 1, 1, 1]]\n"
          ],
          "name": "stdout"
        }
      ]
    },
    {
      "cell_type": "code",
      "metadata": {
        "id": "vB1lRabz_p3v",
        "colab_type": "code",
        "colab": {
          "base_uri": "https://localhost:8080/",
          "height": 319
        },
        "outputId": "d3556258-8f50-4eb3-cb44-c2808920a315"
      },
      "source": [
        "model = tf.keras.Sequential([\n",
        "    tf.keras.layers.Embedding(vocab_size, embedding_dim, input_length=max_length),\n",
        "    tf.keras.layers.Flatten(),\n",
        "    tf.keras.layers.Dense(6, activation='relu'),\n",
        "    tf.keras.layers.Dropout(.5),\n",
        "    tf.keras.layers.Dense(1, activation='sigmoid')\n",
        "])\n",
        "model.compile(loss='binary_crossentropy',optimizer='adam',metrics=['accuracy'])\n",
        "model.summary()"
      ],
      "execution_count": 50,
      "outputs": [
        {
          "output_type": "stream",
          "text": [
            "Model: \"sequential_1\"\n",
            "_________________________________________________________________\n",
            "Layer (type)                 Output Shape              Param #   \n",
            "=================================================================\n",
            "embedding_1 (Embedding)      (None, 100, 16)           160000    \n",
            "_________________________________________________________________\n",
            "flatten_1 (Flatten)          (None, 1600)              0         \n",
            "_________________________________________________________________\n",
            "dense_2 (Dense)              (None, 6)                 9606      \n",
            "_________________________________________________________________\n",
            "dropout (Dropout)            (None, 6)                 0         \n",
            "_________________________________________________________________\n",
            "dense_3 (Dense)              (None, 1)                 7         \n",
            "=================================================================\n",
            "Total params: 169,613\n",
            "Trainable params: 169,613\n",
            "Non-trainable params: 0\n",
            "_________________________________________________________________\n"
          ],
          "name": "stdout"
        }
      ]
    },
    {
      "cell_type": "code",
      "metadata": {
        "id": "j2eLdAa3_2wi",
        "colab_type": "code",
        "colab": {
          "base_uri": "https://localhost:8080/",
          "height": 370
        },
        "outputId": "052e5c7b-306b-4c51-b6b2-08dcd1c7e043"
      },
      "source": [
        "num_epochs = 10\n",
        "model.fit(training_padded, training_labels, epochs=num_epochs, validation_data=(testing_padded, testing_labels), batch_size= 32)"
      ],
      "execution_count": 52,
      "outputs": [
        {
          "output_type": "stream",
          "text": [
            "Epoch 1/10\n",
            "782/782 [==============================] - 3s 4ms/step - loss: 0.0792 - accuracy: 0.9696 - val_loss: 1.0953 - val_accuracy: 0.7952\n",
            "Epoch 2/10\n",
            "782/782 [==============================] - 3s 4ms/step - loss: 0.0784 - accuracy: 0.9691 - val_loss: 1.1624 - val_accuracy: 0.8017\n",
            "Epoch 3/10\n",
            "782/782 [==============================] - 3s 4ms/step - loss: 0.0832 - accuracy: 0.9666 - val_loss: 1.1820 - val_accuracy: 0.7995\n",
            "Epoch 4/10\n",
            "782/782 [==============================] - 3s 4ms/step - loss: 0.0774 - accuracy: 0.9700 - val_loss: 1.2317 - val_accuracy: 0.7990\n",
            "Epoch 5/10\n",
            "782/782 [==============================] - 3s 4ms/step - loss: 0.0804 - accuracy: 0.9681 - val_loss: 1.2915 - val_accuracy: 0.7981\n",
            "Epoch 6/10\n",
            "782/782 [==============================] - 3s 4ms/step - loss: 0.0825 - accuracy: 0.9669 - val_loss: 1.3333 - val_accuracy: 0.7974\n",
            "Epoch 7/10\n",
            "782/782 [==============================] - 3s 4ms/step - loss: 0.0811 - accuracy: 0.9675 - val_loss: 1.4818 - val_accuracy: 0.7931\n",
            "Epoch 8/10\n",
            "782/782 [==============================] - 3s 4ms/step - loss: 0.0811 - accuracy: 0.9678 - val_loss: 1.4127 - val_accuracy: 0.7956\n",
            "Epoch 9/10\n",
            "782/782 [==============================] - 3s 4ms/step - loss: 0.0797 - accuracy: 0.9685 - val_loss: 1.4572 - val_accuracy: 0.7961\n",
            "Epoch 10/10\n",
            "782/782 [==============================] - 3s 4ms/step - loss: 0.0812 - accuracy: 0.9670 - val_loss: 1.6682 - val_accuracy: 0.7901\n"
          ],
          "name": "stdout"
        },
        {
          "output_type": "execute_result",
          "data": {
            "text/plain": [
              "<tensorflow.python.keras.callbacks.History at 0x7fdc79b79908>"
            ]
          },
          "metadata": {
            "tags": []
          },
          "execution_count": 52
        }
      ]
    },
    {
      "cell_type": "code",
      "metadata": {
        "id": "3iXFI3fmCg28",
        "colab_type": "code",
        "colab": {}
      },
      "source": [
        "# Knowing the word embeddings\n",
        "e = model.get_layer(index=0)\n",
        "weight_vec = e.get_weights()[0]"
      ],
      "execution_count": 0,
      "outputs": []
    },
    {
      "cell_type": "code",
      "metadata": {
        "id": "Nir5Hb77H-wD",
        "colab_type": "code",
        "colab": {
          "base_uri": "https://localhost:8080/",
          "height": 84
        },
        "outputId": "44e8c816-778b-4690-d053-06eb8f4ab2a5"
      },
      "source": [
        "print(weight_vec.shape)  #(vocab_size, embedding_dim)\n",
        "print(weight_vec[0])\n",
        "\n",
        "word_embeddings = {}\n",
        "for i in range(1,len(weight_vec)):\n",
        "  word_embeddings[reverse_word_index[i]] = weight_vec[i]\n"
      ],
      "execution_count": 78,
      "outputs": [
        {
          "output_type": "stream",
          "text": [
            "(10000, 16)\n",
            "[ 0.04050493 -0.00977446 -0.01973621  0.00213873  0.00932214  0.03109011\n",
            "  0.02012235 -0.03162124 -0.02921152 -0.00899029 -0.00514809 -0.05028746\n",
            "  0.01791108 -0.02762359  0.04354888 -0.01028336]\n"
          ],
          "name": "stdout"
        }
      ]
    },
    {
      "cell_type": "markdown",
      "metadata": {
        "id": "QnAYyE4MLYXW",
        "colab_type": "text"
      },
      "source": [
        "***One thing to note is that if VOCAB_SIZE = 1000 then Tokenizer class will conider words having values 1 to VOCAB_SIZE -1 (999) both inclusive***\n",
        "It'll consider vocab_size -1 num of words and all other words will be given the oov_token value i.e. 1 (even though they may be present in word_index)\n",
        "\n",
        "---\n",
        "*Embedding layer takes vocab_size because it will also encounter 0th index due to padding layer*\n"
      ]
    },
    {
      "cell_type": "code",
      "metadata": {
        "id": "DUsrlV2NLX7Y",
        "colab_type": "code",
        "colab": {
          "base_uri": "https://localhost:8080/",
          "height": 54
        },
        "outputId": "1ea8b583-6118-43c3-ee8e-4f995f2e40ec"
      },
      "source": [
        ""
      ],
      "execution_count": 83,
      "outputs": [
        {
          "output_type": "execute_result",
          "data": {
            "text/plain": [
              "dict_keys(['UNK', 'the', 'and', 'a', 'of', 'to', 'is', 'br', 'in', 'it', 'i', 'this', 'that', 'was', 'as', 'for', 'with', 'movie', 'but', 'film', \"'s\", 'on', 'you', 'not', 'are', 'his', 'he', 'have', 'be', 'one', 'all', 'at', 'by', 'they', 'an', 'who', 'so', 'from', 'like', 'her', \"'t\", 'or', 'just', 'there', 'about', 'out', \"'\", 'has', 'if', 'some', 'what', 'good', 'more', 'very', 'when', 'she', 'up', 'can', 'b', 'time', 'no', 'even', 'my', 'would', 'which', 'story', 'only', 'really', 'see', 'their', 'had', 'were', 'me', 'well', 'we', 'than', 'much', 'been', 'get', 'bad', 'will', 'people', 'do', 'also', 'other', 'into', 'because', 'great', 'first', 'him', 'how', 'most', 'made', 'its', 'then', 'way', 'make', 'them', 'could', 'too', 'movies', 'any', \"it's\", 'after', 'think', 'characters', 'watch', 'two', 'films', 'character', 'seen', 'many', 'life', 'being', 'plot', 'acting', 'never', 'little', 'love', 'best', 'where', 'over', 'did', 'show', 'know', 'off', 'ever', 'does', 'man', 'better', 'your', 'here', 'end', 'still', 'these', 'say', 'scene', 'why', 'while', 'scenes', 'go', 'such', 'something', 'should', 'through', 'back', 'don', 'real', 'those', 'now', 'watching', 'though', 'thing', 'old', 'years', 'actors', 'work', 'director', 'new', 'another', 'before', 'funny', 'nothing', 'actually', 'makes', 'look', 'find', 'going', 'few', 'same', 'part', 'again', 'lot', \"don't\", 'every', '10', 'cast', 'us', 'world', 'quite', 'down', 'want', 'things', 'pretty', 'young', 'seems', 'around', 'got', 'horror', 'however', 'fact', 'take', 'big', 'enough', 'long', 'thought', 'both', 'series', 'between', 'may', 'give', 'original', 'own', 'action', 'right', 'without', 'times', 'always', 'comedy', 'point', 'must', 'gets', 'role', 'come', 'family', 'saw', 'almost', 'interesting', 'least', 'done', 'whole', 'bit', 'music', 'script', 'guy', 'far', 'xc2', 'anything', 'making', 'minutes', 'feel', 'last', 'might', 'performance', 'since', '2', 'probably', 'girl', 'kind', 'am', 'away', 'tv', 'yet', 'woman', 'rather', 'day', \"'ve\", 'worst', 'fun', 'sure', 'hard', \"'m\", 'doesn', 'anyone', 'played', \"b'i\", 'each', 'found', 'xc3', 'especially', 'course', 'our', 'having', 'believe', 'comes', 'screen', 'looking', 'although', 'trying', 'goes', 'set', 'looks', 'place', 'book', 'different', 'put', 'money', 'actor', 'ending', 'maybe', 'year', 'sense', 'reason', 'true', 'everything', 'dvd', 'shows', 'once', 'didn', 'someone', 'three', 'worth', 'job', \"'re\", 'main', 'together', 'play', 'watched', 'american', 'plays', '1', 'effects', 'later', 'said', 'takes', 'instead', 'audience', 'seem', 'john', 'beautiful', 'everyone', 'himself', 'version', 'house', 'high', 'night', 'during', 'left', \"i'm\", 'special', 'wife', 'seeing', 'half', 'let', 'star', 'father', 'excellent', 'shot', 'war', \"didn't\", 'idea', 'black', 'nice', 'less', 'mind', 'else', 'read', \"doesn't\", 'second', 'simply', 'fan', 'help', 'death', 'poor', 'completely', '3', 'men', 'used', 'home', 'either', 'short', 'hollywood', 'line', 'dead', 'given', 'top', 'budget', 'kids', 'try', \"b'this\", 'performances', 'wrong', 'classic', 'enjoy', 'boring', 'need', 'rest', 'use', 'low', 'women', 'production', 'isn', 'friends', 'until', 'camera', 'along', 'full', 'truly', 'video', 'awful', 'next', 'tell', 'couple', 'start', 'stupid', 'remember', 'mean', 'sex', 'stars', 'perhaps', 'came', 'recommend', 'moments', 'episode', 'wonderful', 'school', 'understand', 'small', 'face', 'terrible', 'playing', \"i've\", 'getting', 'written', \"'ll\", 'early', 'doing', 'often', 'name', 'keep', 'perfect', 'style', 'human', 'others', 'gives', 'definitely', 'person', 'itself', 'lines', 'live', 'become', \"can't\", 'dialogue', 'head', 'lost', 'piece', 'case', 'felt', 'finally', 'boy', 'supposed', 'liked', 'title', 'yes', 'white', 'cinema', 'picture', 'against', 'absolutely', 'mother', 'sort', 'worse', 'entire', 'certainly', 'went', 'waste', 'problem', 'hope', 'entertaining', 'evil', 'mr', 'overall', 'called', 'children', 'loved', 'based', 'killer', 'several', 'friend', 'fans', \"that's\", 'drama', \"isn't\", 'beginning', 'lives', 'direction', '5', 'care', 'becomes', 'already', \"'d\", 'laugh', 'example', 'oh', 'dark', 'under', 'seemed', 'throughout', 'turn', '4', 'wanted', 'unfortunately', 'x96', 'son', 'despite', 'history', 'fine', 'final', 'sound', 'heart', 'amazing', 'guess', 'lead', 'humor', 'totally', 'michael', 'writing', 'quality', \"there's\", 'guys', 'close', 'wants', 'child', 'behind', 'works', 'tries', 'side', 'art', 'game', 'past', 'town', 'days', 'able', 'flick', 'hand', 'turns', 'genre', 'act', 'enjoyed', 'viewer', 'favorite', 'kill', 'car', 'soon', 'starts', 'gave', 'run', 'sometimes', 'etc', 'actress', 'eyes', 'late', 'directed', 'horrible', 'parts', 'brilliant', 'wasn', 'girls', 'themselves', 'hour', 'self', 'stories', 'thinking', 'expect', 'city', 'stuff', 'kid', 'god', 'won', 'blood', 'obviously', 'decent', 'voice', 'highly', 'myself', 'feeling', 'fight', 'today', 'matter', 'except', 'writer', \"wasn't\", 'slow', 'type', \"he's\", 'anyway', 'roles', 'age', 'killed', 'heard', 'says', 'moment', 'daughter', 'took', 'leave', 'strong', 'cannot', 'violence', 's', 'hit', 'police', 'stop', 'happens', 'particularly', 'known', 'happened', 'involved', 'brother', 'obvious', 'extremely', 'chance', 'told', 'living', 'experience', 'lack', 'coming', 'alone', 'james', 'including', 'murder', 'attempt', 'happen', 'please', 'wonder', 'gore', 'crap', 'ago', 'group', 'complete', 'none', 'interest', 'score', 'cut', 'simple', 'hell', 'save', 'hero', 'looked', 'number', 'song', 'career', 'husband', 'possible', 'annoying', 'shown', 'sad', 'exactly', 'seriously', 'running', 'musical', 'serious', 'yourself', 'david', 'whose', 'taken', 'cinematography', 'released', 'ends', 'scary', 'hours', 'reality', 'english', 'usually', 'light', 'opening', 'jokes', 'across', 'body', 'hilarious', 'somewhat', 'relationship', 'started', 'usual', 'view', 'cool', 'level', 'ridiculous', 'change', 'opinion', 'happy', 'wish', 'king', 'middle', 'novel', 'taking', 'ones', 'talking', 'ok', 'finds', 'order', 'shots', 'documentary', 'saying', 'female', 'huge', 'room', 'mostly', 'power', 'episodes', 'robert', 'important', 'talent', 'rating', 'word', 'turned', 'strange', 'major', 'five', 'modern', 'call', 'single', 'disappointed', 'country', 'apparently', 'events', 'due', 'songs', 'attention', 'earth', '7', 'four', 'television', 'jack', 'knows', 'comic', 'supporting', 'basically', 'non', 'clearly', 'knew', 'british', 'future', 'fast', '8', 'class', 'cheap', 'thriller', 'silly', 'problems', 'tells', 'easily', 'miss', 'local', 'paul', 'words', 'sequence', 'entertainment', 'bring', 'beyond', 'rock', 'upon', 'oscar', 'straight', 'whether', 'sets', 'moving', 'predictable', 'similar', 'romantic', 'review', 'falls', 'george', 'mystery', 'needs', 'appears', 'enjoyable', 'eye', 'giving', 'clich', 'talk', 'lady', 'within', 'richard', \"b'\", 'ten', 'animation', 'message', 'theater', 'near', 'couldn', 'above', 'theme', 'team', 'nearly', 'sequel', 'points', 'dull', 'stand', \"you're\", 'bunch', 'mention', 'herself', 'add', 'feels', 'release', \"b'the\", 'storyline', 'ways', 'sister', 'surprised', 'red', 'named', 'using', 'york', 'lots', 'fantastic', 'easy', 'begins', 'actual', 't', 'working', 'effort', 'lee', 'tale', 'die', 'minute', 'hate', 'clear', 'french', 'stay', 'feature', 'elements', 'viewers', 'among', '9', 'follow', 're', 'comments', 'showing', 'avoid', 'editing', 'tried', 'typical', 'famous', 'fall', 'dialog', 'tom', 'season', 'period', 'check', 'form', 'soundtrack', 'certain', 'filmed', 'sorry', 'means', 'buy', 'material', 'peter', 'weak', 'realistic', 'figure', 'crime', 'doubt', 'somehow', 'gone', 'general', 'kept', 'parents', 'leads', 'viewing', 'space', 'greatest', 'suspense', 'dance', 'lame', 'third', 'brought', 'atmosphere', 'hear', 'particular', 'imagine', 'sequences', 'move', 'whatever', 'indeed', 'rent', 'eventually', 'learn', 'de', 'deal', 'reviews', 'zombie', 'wait', 'japanese', 'average', 'sexual', 'note', 'premise', 'forget', 'poorly', 'surprise', 'believable', 'sit', 'disney', 'stage', 'nature', 'possibly', 'decided', 'subject', 'expected', 'became', 'truth', 'free', 'screenplay', 'america', 'difficult', 'killing', 'xa9', 'romance', 'imdb', '20', 'nor', 'dr', 'question', 'street', 'leaves', 'needed', 'baby', 'reading', \"couldn't\", 'hot', 'begin', 'meets', 'dog', 'directors', 'credits', 'unless', 'joe', 'write', 'otherwise', 'superb', 'society', 'shame', 'okay', 'situation', 'dramatic', 'memorable', 'weird', 'open', 'badly', 'earlier', 'male', 'meet', 'acted', 'forced', 'emotional', 'sci', 'fi', 'dream', 'laughs', 'writers', 'older', 'realize', 'interested', 'forward', 'footage', 'comment', 'crazy', 'beauty', 'fantasy', 'deep', 'whom', 'sounds', 'plus', 'monster', 'directing', 'keeps', 'ask', 'development', 'features', 'air', 'mess', 'quickly', 'mark', 'd', 'creepy', 'box', 'perfectly', 'towards', 'worked', 'setting', 'result', 'cheesy', 'unique', 'e', 'brings', 'plenty', 'hands', 'effect', 'total', 'previous', 'jane', 'girlfriend', 'fire', 'personal', 'rate', 'bill', 'incredibly', 'business', 'leading', 'joke', 'admit', 'casting', 'appear', 'background', 'powerful', 'apart', 'present', 'telling', 'christmas', 'meant', 'potential', 'battle', 'create', 'break', 'hardly', 'return', 'era', \"you'll\", 'masterpiece', 'boys', 'o', 'pay', 'gay', 'political', 'cop', 'fails', 'fighting', 'dumb', 'various', 'secret', 'portrayed', 'doctor', 'co', 'inside', 'ben', 'outside', 'nudity', 'twist', 'reasons', 'western', 'villain', 'ideas', 'front', 'missing', 'deserves', 'match', 'married', 'wouldn', 'expecting', 'talented', 'success', 'rich', 'fairly', 'attempts', 'list', 'manages', \"i'd\", 'william', 'remake', 'odd', 'social', '30', 'unlike', 'flat', 'further', 'cute', 'c', 'copy', 'recently', 'wrote', 'agree', 'cold', 'sadly', 'plain', 'crew', 'mentioned', 'missed', 'sweet', 'incredible', 'office', \"she's\", 'pure', 'filmmakers', 'scott', 'wasted', 'following', 'spoilers', 'gun', 'ended', 'produced', 'x85', 'large', 'public', 'filled', 'brothers', 'popular', 'members', 'revenge', 'pace', 'caught', \"'the\", 'science', 'mary', 'waiting', 'decides', 'hold', 'cartoon', 'party', 'tension', 'created', 'slightly', 'water', 'uses', 'convincing', 'familiar', 'considering', 'compared', 'suddenly', 'la', 'escape', '6', 'neither', 'spent', 'sees', 'spirit', 'intelligent', 'fear', 'entirely', 'clever', 'choice', 'moves', 'language', 'kills', 'state', 'laughing', 'dancing', 'cat', 'bored', 'island', 'cover', 'credit', 'band', 'value', 'century', 'successful', 'violent', 'trouble', 'ultimately', 'visual', '15', 'italian', 'concept', 'singing', 'positive', \"won't\", 'basic', 'store', 'animated', 'exciting', 'biggest', 'german', 'speak', 'runs', 'died', 'zombies', 'effective', 'consider', 'walk', 'recent', 'depth', 'control', 'amusing', 'portrayal', 'common', 'force', 'former', 'spend', 'appreciate', 'rated', 'focus', 'studio', 'books', 'adventure', 'aren', 'pointless', 'company', 'younger', 'solid', 'hair', 'adult', 'trash', 'impressive', 'respect', 'law', 'follows', 'tony', 'tone', 'amount', 'super', 'impossible', 'bizarre', 'college', 'mad', 'van', 'prison', 'project', 'win', 'chemistry', 'conclusion', 'producers', 'slasher', 'showed', 'makers', 'heavy', 'fit', 'culture', 'recommended', 'trip', 'starring', 'situations', 'planet', 'disturbing', 'accent', 'changed', 'sick', 'awesome', 'considered', 'f', 'failed', 'smith', 'decide', 'barely', 'leaving', 'honest', 'shooting', 'post', 'questions', 'cause', 'dad', 'u', 'somewhere', 'longer', \"they're\", 'jim', 'anti', 'tough', 'ghost', 'cult', 'fake', 'brain', 'aside', 'steve', 'images', \"wouldn't\", 'meaning', 'fiction', 'computer', 'audiences', 'stick', 'south', 'touch', 'charming', 'ex', \"10'\", 'literally', 'likes', 'values', 'involving', 'magic', 'generally', 'pathetic', 'alive', 'surprisingly', 'thanks', 'grade', 'immediately', 'west', 'garbage', '100', 'military', 'shoot', 'week', 'natural', 'bought', 'aspect', 'detective', 'camp', 'ability', 'adaptation', 'fair', 'army', 'utterly', 'g', 'pick', 'genius', 'explain', 'pictures', 'appearance', 'frank', 'yeah', 'glad', 'motion', 'appeal', 'sam', 'sitting', 'catch', 'drive', 'knowing', 'master', 'attack', 'standard', 'honestly', 'normal', 'sexy', 'personally', 'nowhere', 'rare', 'harry', 'added', 'edge', 'london', '90', 'purpose', 'humour', 'stewart', 'nobody', 'remains', 'walking', 'thinks', 'loud', 'taste', 'comedies', 'unbelievable', 'silent', 'naked', 'twists', 'beautifully', 'channel', 'thank', 'subtle', 'touching', 'terms', 'chase', 'date', 'equally', 'dreams', 'journey', 'door', 'terrific', 'mood', 'drawn', 'club', '50', 'producer', 'complex', 'road', 'key', 'fully', 'managed', 'narrative', 'mistake', 'laughable', 'themes', 'pieces', 'blue', 'likely', 'climax', 'bottom', 'lovely', 'soldiers', 'batman', 'government', 'pass', 'haven', 'wild', 'award', 'excuse', 'disappointing', 'issues', 'outstanding', 'marriage', 'plan', 'charlie', 'vampire', 'constantly', 'justice', 'costumes', 'painful', 'thus', 'gang', \"i'll\", 'soul', 'presented', 'noir', 'innocent', 'christopher', 'surely', 'cinematic', 'j', 'slowly', 'places', 'finish', 'central', 'presence', 'details', 'thrown', 'manner', 'ride', 'boss', 'besides', 'kelly', 'train', 'contains', 'chris', 'animals', 'scenery', 'historical', 'hoping', 'photography', 'charm', 'stunning', 'church', 'impression', 'charles', 'developed', 'loves', 'victim', 'speaking', 'mysterious', 'drug', 'spoiler', 'expectations', 'smart', 'numbers', 'disappointment', 'color', 'ahead', 'double', 'throw', 'exception', 'woods', 'track', 'minor', 'festival', 'everybody', 'boyfriend', 'stands', 'aspects', 'r', 'hey', 'critics', 'green', 'indian', 'suppose', 'building', 'bother', 'sent', 'cry', 'feelings', 'emotion', 'mainly', 'support', 'acts', 'filming', 'opera', 'brief', 'forever', \"haven't\", 'hotel', 'element', 'held', 'jones', 'opportunity', 'lover', 'million', 'fascinating', 'names', 'serial', 'emotions', 'intended', 'allen', 'changes', 'student', 'paris', 'dies', 'henry', 'available', '80', 'bed', 'compelling', \"film's\", 'happening', 'bar', 'born', 'six', 'twice', 'likable', 'falling', 'lived', \"aren't\", 'tired', 'puts', 'page', 'zero', 'image', 'pain', 'bruce', 'offer', 'spot', 'shock', 'giant', 'suggest', 'jerry', 'trailer', 'include', 'adults', 'confused', 'difference', 'fresh', 'hurt', 'victims', 'followed', 'approach', 'appeared', 'impact', 'fellow', 'christian', 'step', 'summer', 'event', 'al', 'confusing', 'putting', 'sub', 'gorgeous', 'actresses', 'ray', '11', 'murders', 'share', 'mix', 'wow', 'content', 'wall', 'mediocre', 'laughed', 'lacks', 'system', 'notice', 'direct', 'porn', 'alien', 'supposedly', 'flaws', 'l', 'park', 'moral', 'billy', 'ii', 'americans', 'worthy', 'lighting', 'race', 'tragedy', 'rape', 'random', 'relationships', 'gem', 'creative', 'thin', 'helps', 'holes', 'land', 'merely', 'answer', 'agent', 'funniest', 'wondering', 'proves', 'paid', 'mom', 'students', 'imagination', 'childhood', 'delivers', 'martin', 'latter', 'arthur', 'flying', 'damn', 'hospital', 'standards', 'forgotten', 'wise', 'flicks', 'seven', 'absolute', \"b'a\", 'impressed', 'finding', 'beat', 'ground', 'thoroughly', 'ugly', 'attractive', 'ms', '40', 'provides', 'extreme', 'negative', 'stuck', 'seconds', 'count', 'becoming', 'p', 'winning', 'addition', 'seemingly', 'jean', 'tragic', 'reminded', 'fell', 'stone', 'offers', 'inspired', 'affair', 'folks', 'thats', 'lose', 'industry', 'turning', 'detail', 'collection', 'davis', 'intense', 'faces', 'design', 'alan', 'afraid', 'fashion', 'pull', 'lord', 'hidden', 'nasty', 'brian', 'apartment', 'animal', 'teen', 'quick', 'area', 'adds', 'personality', 'ship', 'length', 'angry', 'soldier', 'artistic', 'location', 'chinese', 'therefore', 'ready', 'information', 'queen', 'professional', 'castle', 'states', 'scientist', 'bond', 'games', 'rented', 'williams', 'anymore', 'shocking', 'ed', 'listen', 'fox', 'led', 'mouth', 'news', 'describe', 'lets', 'asks', 'wooden', 'picked', 'favourite', 'food', 'deliver', 'clothes', 'wars', 'onto', 'martial', 'dirty', 'uncle', 'struggle', 'filmmaker', 'wearing', 'redeeming', 'member', 'cross', 'jason', 'sleep', 'carry', 'intelligence', 'compare', 'creature', 'allowed', 'cgi', 'criminal', 'danny', 'teenage', 'drugs', 'helped', 'necessary', 'wonderfully', 'tears', 'stephen', 'roll', 'sight', 'desperate', 'rip', 'moved', 'machine', 'includes', 'grace', 'captain', 'trust', 'willing', 'whatsoever', 'artist', 'disaster', '12', \"you've\", 'treat', 'plane', 'began', 'phone', 'witch', 'deeply', 'theatre', 'jackson', 'station', 'mid', 'epic', 'realized', 'build', 'accident', 'energy', 'commentary', 'pop', 'loving', 'humans', 'nightmare', 'comedic', 'suicide', 'powers', 'rarely', 'dying', 'independent', 'introduced', 'xa9s', 'extra', 'sky', 'engaging', 'douglas', 'teacher', 'actions', 'superior', 'heroes', 'suit', 'andy', 'taylor', 'ring', 'apparent', 'unusual', 'arts', 'remarkable', 'heaven', 'religious', 'continue', 'unnecessary', 'physical', 'allow', 'pleasure', 'returns', 'x', 'mental', 'absurd', 'tim', 'skip', 'watchable', 'provide', 'memory', 'pre', 'johnny', 'desire', 'wedding', 'technical', 'anybody', 'limited', 'm', 'anywhere', 'scared', 'grand', 'surprising', 'finished', 'russian', 'eddie', 'process', 'brutal', 'vision', 'bloody', 'media', 'fred', 'intriguing', 'accept', 'exist', 'holds', 'suspect', 'england', 'superman', 'player', '000', 'warning', 'jump', 'nicely', 'jr', 'cops', 'paced', 'wanting', 'jeff', 'reminds', \"what's\", 'search', 'torture', 'legend', 'soft', 'pacing', 'joan', 'twenty', 'hated', 'bits', 'normally', 'pilot', 'horse', 'growing', 'passion', 'faith', \"who's\", 'asked', 'academy', 'joy', 'prince', 'gold', 'dressed', 'ladies', 'constant', 'somebody', 'drunk', 'according', 'kate', 'deserved', 'ill', 'explanation', 'dangerous', 'blame', 'community', 'weren', 'smile', 'heads', 'dick', 'instance', 'price', 'sat', 'lovers', 'field', 'adam', 'cage', 'met', 'originally', 'nonsense', 'deserve', 'kevin', 'issue', 'lies', 'devil', 'gotten', 'capture', 'players', 'plots', 'toward', 'unknown', 'nick', 'heroine', 'mixed', 'knowledge', 'ball', 'creating', 'fail', 'record', 'explained', 'soap', 'accurate', 'fights', 'vhs', 'quiet', 'friendship', 'river', 'japan', 'jesus', 'candy', 'european', 'starting', 'whilst', 'hitler', 'moon', '70', 'floor', 'radio', 'wide', 'fu', 'guns', 'sucks', 'cars', 'cable', 'spanish', 'finest', 'memories', 'realism', 'judge', 'eating', 'lacking', 'officer', 'loose', 'aware', 'villains', 'ford', 'saved', 'featuring', 'responsible', 'v', 'broken', 'x80', 'xe2', 'mine', 'keeping', 'ice', 'empty', 'understanding', 'eat', 'treated', 'kinda', 'pulled', 'saving', 'partner', 'results', 'shakespeare', 'humanity', 'cuts', 'singer', 'tarzan', 'bland', 'mike', 'rubbish', 'sign', 'wind', 'hopes', 'below', 'terribly', 'gene', 'keaton', 'vs', 'ann', 'manage', 'months', 'bright', 'noticed', 'included', 'fat', 'forces', 'youth', 'witty', 'loss', 'hits', 'monsters', 'higher', 'screaming', 'jimmy', 'delightful', 'sing', 'numerous', 'conflict', 'pretentious', 'concerned', 'brown', 'gary', 'fate', 'driving', 'dealing', 'bigger', 'naturally', 'skills', 'discovered', 'santa', 'talents', 'blonde', 'dated', 'unfunny', 'lewis', 'kong', 'private', 'international', 'opposite', 'finale', 'streets', 'whenever', 'perspective', 'reviewers', 'prove', 'mission', 'kick', 'discover', 'werewolf', 'morning', 'bank', 'ups', 'portray', 'bob', 'locations', 'loses', 'morgan', 'ass', 'ordinary', 'humorous', 'visit', 'w', 'author', 'h', 'received', 'gags', 'wood', 'psychological', 'regular', 'edited', 'magnificent', 'luck', 'lynch', 'captured', 'curious', 'behavior', '13', 'continues', 'calls', 'satire', 'shop', 'context', 'survive', 'advice', 'mrs', 'breaks', 'existence', 'opens', 'sea', 'washington', 'miles', 'albert', 'core', 'debut', 'foot', 'anthony', 'visually', 'sean', 'owner', 'remembered', 'shallow', 'connection', 'murdered', 'corny', 'scream', 'blind', 'deals', 'essentially', 'current', 'revealed', 'genuine', 'traditional', 'lesson', 'eric', 'cameo', 'lucky', 'dimensional', 'identity', 'occasionally', 'african', 'segment', 'frankly', 'golden', 'efforts', 'stock', 'learned', 'window', 'versions', 'village', 'visuals', 'buddy', 'trek', 'dan', 'boat', 'develop', 'formula', 'decade', 'freddy', 'program', \"b'it\", 'references', 'sucked', 'simon', 'genuinely', 'grant', 'grown', '80s', 'suffering', 'study', 'comparison', 'unexpected', 'allows', 'favor', 'jennifer', 'gangster', 'marie', 'meanwhile', 'overly', 'bear', 'proved', 'reaction', 'board', 'desert', 'ages', 'grew', 'thomas', 'spectacular', 'ultimate', 'awkward', 'logic', 'rob', 'howard', 'standing', 'luke', 'leader', 'parody', 'brilliantly', 'sheer', 'national', 'types', 'unable', 'failure', 'reach', 'passed', 'sake', 'travel', 'steal', 'speed', 'flesh', 'stereotypes', 'vampires', 'technology', 'sudden', 'awards', 'creates', 'frame', 'harris', 'strength', 'laughter', 'bet', 'site', 'broadway', 'lake', 'delivered', 'robin', 'relief', 'crappy', 'anne', 'kung', 'executed', 'insane', 'gonna', 'emotionally', 'psycho', 'discovers', 'anna', 'evening', 'pair', 'painfully', 'decision', 'fault', 'round', 'code', 'gordon', 'anime', 'commercial', 'majority', 'barbara', 'k', 'dreadful', 'model', 'ran', 'president', 'hill', 'graphic', 'utter', 'sheriff', 'entertained', 'killers', 'driven', 'religion', 'meeting', 'gratuitous', 'families', 'native', 'attitude', 'caused', 'bomb', 'built', 'seasons', 'nevertheless', 'underrated', 'asian', 'clean', 'drew', 'flashbacks', 'test', 'foreign', 'obsessed', 'reviewer', 'feet', 'relate', 'vehicle', 'freedom', 'halloween', 'levels', 'hunter', 'range', 'endless', 'wit', 'cash', 'treatment', 'gory', 'rise', 'sinatra', 'aged', 'steven', 'described', 'costs', 'ancient', 'tape', 'practically', 'parker', 'protagonist', 'individual', 'rose', 'product', 'chosen', 'center', 'welles', 'seat', 'pleasant', 'fly', 'combination', 'sell', '70s', 'send', 'generation', 'woody', 'fill', 'stopped', 'excited', 'fame', 'irritating', 'exploitation', 'rescue', 'hearing', 'classics', 'assume', 'pity', 'winner', 'portrays', 'breaking', 'produce', 'dry', 'hasn', 'handsome', 'theaters', 'theatrical', 'par', 'chick', 'cares', 'believes', 'asking', 'capable', 'ruined', '60', 'rules', 'contrived', 'choose', 'proper', 'sports', 'sympathetic', 'warm', 'extras', 'largely', 'learns', 'embarrassing', 'wayne', 'unrealistic', 'portraying', 'canadian', 'safe', 'germany', 'victor', 'appealing', 'chief', 'recall', 'daniel', 'dubbed', 'marry', 'france', 'depressing', '0', 'hearted', 'crowd', 'alex', 'matt', 'involves', 'uk', 'sequels', 'contrast', 'joseph', 'paper', 'matters', 'correct', 'haunting', 'costume', 'priest', 'cinderella', 'claim', 'vote', 'strongly', 'grow', 'heck', 'patrick', 'angel', 'roy', 'research', 'clue', 'appropriate', 'disgusting', 'evidence', \"let's\", 'nominated', 'facts', 'excitement', 'louis', 'eight', 'lousy', 'football', 'cost', 'hunt', 'nancy', 'substance', 'thoughts', 'losing', 'talks', 'destroy', 'circumstances', 'training', 'hall', 'naive', 'jackie', 'teenager', 'promise', 'tedious', 'scare', 'voices', 'saturday', 'ryan', 'market', 'captures', 'bringing', 'satisfying', 'trilogy', 'teenagers', 'bodies', 'convinced', 'europe', 'factor', 'united', 'amateurish', 'fits', 'tend', 'hanging', 'robot', 'asleep', 'walter', \"b'in\", 'horribly', 'rental', 'virtually', 'baseball', 'mask', 'lower', 'walks', 'creatures', 'hopefully', 'spoil', 'moore', 'danger', 'relatively', 'anderson', 'steals', 'universal', 'amateur', 'category', 'insult', 'haunted', 'mini', 'covered', 'target', 'drag', 'reporter', 'unlikely', 'max', 'oliver', 'continuity', 'scale', 'offensive', 'fare', 'tiny', 'depicted', 'fairy', 'contemporary', 'handled', 'viewed', 'hat', 'cutting', 'semi', 'lawyer', 'influence', 'fool', 'north', 'welcome', 'unfortunate', 'initial', 'skin', 'holding', '14', 'witness', 'victoria', 'shocked', 'inner', 'remain', 'politics', 'believed', 'africa', 'hide', 'presents', 'section', 'provided', 'qualities', 'promising', 'movement', 'sharp', 'designed', 'pile', 'refreshing', 'surreal', 'structure', 'makeup', 'liners', 'source', 'angles', 'closer', 'display', 'touches', 'claims', 'drop', 'texas', 'forgettable', 'australian', 'kim', 'sisters', 'till', 'plans', 'deaths', 'repeated', 'faced', 'propaganda', 'degree', 'surprises', 'previously', 'serves', 'focused', 'professor', 'ruin', 'service', 'accents', 'blow', 'related', 'chose', 'cartoons', 'weeks', 'highlight', 'supernatural', 'weekend', 'com', 'murphy', 'speaks', 'prime', 'roger', 'crash', \"weren't\", 'adventures', 'mainstream', 'latest', 'suffers', '25', 'erotic', 'cowboy', 'peace', 'cant', 'routine', 'print', 'deadly', 'dollars', 'columbo', 'speech', 'treasure', 'lesbian', 'experiences', 'mistakes', 'notch', 'harsh', 'realizes', 'granted', 'invisible', 'brave', 'enemy', 'veteran', 'uninteresting', 'sympathy', 'edward', 'accidentally', 'spy', 'draw', 'combined', 'dogs', 'colors', 'teens', 'security', 'powell', 'nude', 'twisted', 'universe', 'rain', 'aliens', 'convince', 'dozen', 'russell', 'guilty', 'atrocious', 'struggling', 'path', 'mountain', 'blah', 'wilson', 'appreciated', \"b'if\", 'technically', 'frightening', 'recognize', 'clark', 'committed', 'walked', 'irish', 'birth', 'changing', 'gas', 'terror', 'whoever', 'friday', 'gritty', 'magical', 'department', 'directly', 'princess', 'sword', 'aka', 'occasional', 'enter', 'caine', 'shouldn', 'anger', 'performed', 'featured', 'false', 'surface', 'emma', 'abuse', 'explains', 'offered', 'suspenseful', 'massive', 'narration', 'crying', 'alice', 'kinds', 'variety', 'theory', 'vietnam', 'paint', 'experienced', 'subtitles', 'passing', 'lugosi', 'court', 'chan', 'legendary', 'reputation', 'friendly', 'figures', 'stolen', 'statement', 'everywhere', 'required', 'junk', 'donald', 'hong', 'beach', 'forth', 'sorts', 'forest', 'driver', 'multiple', 'remotely', 'darkness', 'exact', 'reveal', 'express', 'regret', 'hitchcock', 'conversation', 'prior', 'execution', 'network', 'proud', 'downright', 'mgm', 'spends', 'pacino', 'lonely', 'belief', 'placed', 'trapped', 'fictional', 'scares', 'melodrama', 'urban', 'sarah', 'demons', 'effectively', \"80's\", 'abandoned', 'favorites', 'bothered', 'figured', 'grave', 'insight', 'crude', 'worthwhile', 'san', 'jobs', 'california', 'lifetime', 'account', 'jon', 'wear', 'listening', 'matrix', 'hired', 'revolution', 'unconvincing', 'che', 'blockbuster', 'metal', 'angle', 'minds', \"b'when\", 'pitt', 'afternoon', 'dean', 'imagery', 'rings', 'paying', 'buying', 'pulls', 'blown', 'rights', 'mexico', 'happiness', 'bus', 'susan', 'rule', 'rough', 'bourne', 'rolling', 'productions', 'idiot', 'mexican', 'julia', 'xa9d', 'cultural', 'von', 'amazed', 'jungle', 'sunday', 'grim', 'stays', 'stayed', 'reveals', 'handed', 'scenario', 'burns', 'hoffman', 'starred', 'artists', 'significant', 'focuses', 'quest', 'delivery', 'views', 'china', 'ha', 'status', 'suffer', 'sun', 'lights', 'sir', 'indie', 'bore', 'ted', 'dude', 'mature', 'shadow', 'dragon', 'examples', 'teeth', 'con', 'freeman', 'demon', 'tight', 'device', 'skill', 'lisa', 'interview', 'table', 'heavily', 'dress', 'mere', 'thankfully', 'johnson', 'position', 'rachel', 'understood', 'necessarily', 'beast', 'ron', 'bound', 'nazi', 'achieve', 'foster', 'spite', 'nation', 'alright', 'desperately', 'format', 'campy', 'seek', 'initially', 'larry', 'closing', 'summary', 'complicated', 'destroyed', 'murderer', 'beloved', 'studios', 'pregnant', 'forgot', 'faithful', 'sensitive', 'titanic', 'renting', 'decades', 'deeper', '17', 'facial', 'cruel', 'breath', 'ghosts', 'gross', 'ignore', 'hip', 'fabulous', 'stereotypical', 'un', 'cell', 'flashback', 'answers', 'slapstick', 'racist', 'wing', 'suck', 'christ', 'sleeping', 'league', 'helping', 'ludicrous', 'fourth', 'drinking', 'musicals', 'sidney', 'sounded', 'calling', 'brad', 'reminiscent', 'environment', 'settings', 'critical', 'intellectual', 'amazingly', 'india', 'description', 'mildly', 'regarding', 'greater', 'warned', 'dennis', 'expert', 'prefer', 'truck', 'disbelief', 'task', 'encounter', 'arms', 'branagh', 'screening', 'storytelling', 'funnier', 'base', 'raw', 'inept', 'turkey', 'titles', 'julie', 'learning', 'praise', 'quirky', 'underground', 'flight', 'punch', 'throwing', 'halfway', 'tree', 'extraordinary', 'depiction', 'jail', 'elizabeth', 'criticism', 'convey', 'expression', 'entertain', 'criminals', 'kiss', 'choices', 'extent', 'originality', 'comical', 'spoof', 'cabin', 'leslie', 'prepared', 'daughters', 'wave', 'jessica', 'notorious', 'touched', 'raised', 'aunt', 'michelle', 'maria', 'experiment', 'warner', 'bollywood', 'chilling', 'via', 'basis', 'honor', 'graphics', 'claire', 'headed', 'dollar', 'purely', 'picks', 'spoken', 'timing', 'novels', 'notable', 'lazy', 'lie', 'charge', 'ned', \"b'there\", 'lane', 'inspiration', 'breathtaking', 'weapons', 'hardy', 'introduction', 'toy', 'crafted', 'handle', 'bbc', 'term', 'throws', 'properly', 'stomach', 'succeeds', 'join', 'causes', 'authentic', 'mirror', 'nowadays', \"b'what\", 'sitcom', 'locked', 'adding', 'regard', 'mouse', 'n', \"we're\", 'wears', 'trick', 'reference', 'ratings', 'carrying', 'protect', 'provoking', 'fallen', 'serve', 'burt', 'hole', 'caring', 'lesser', 'guard', 'bat', 'everyday', 'challenge', 'lincoln', 'southern', 'east', 'sleazy', 'daily', 'bitter', 'blair', 'established', 'tales', 'strangely', 'determined', 'shut', 'midnight', 'obnoxious', 'cases', 'remote', 'amongst', 'attempting', 'cooper', 'sinister', 'confusion', 'escapes', 'nonetheless', 'embarrassed', '2006', 'rogers', 'wins', 'gruesome', 'westerns', 'jewish', 'carried', 'carries', 'pet', 'alas', 'tradition', 'interpretation', 'needless', 'buck', 'sold', 'enjoying', 'maker', 'ironic', 'brooks', 'risk', 'bettie', 'arrives', 'replaced', 'essential', 'balance', 'workers', 'goofy', 'existent', 'flow', 'obsession', 'minded', 'sandler', 'clips', 'per', 'usa', 'intentions', 'miller', 'busy', 'successfully', 'mass', 'oddly', 'presentation', 'rival', 'lion', 'exists', 'tracy', 'raise', 'navy', 'topic', 'seeking', 'screenwriter', 'mentally', 'attacked', '2000', 'legs', 'jumps', 'madness', 'laid', 'horrific', 'inspector', 'shape', 'fortunately', 'mansion', 'stanley', 'laura', 'philip', 'interviews', 'stops', '2001', 'comedian', 'text', 'wwii', 'reed', 'stupidity', 'served', 'ashamed', 'retarded', \"b'as\", 'intensity', 'tongue', 'lucy', 'stylish', 'cook', 'thrilling', 'marvelous', 'holmes', 'manager', 'vacation', 'nine', 'packed', 'cheese', 'mob', 'upper', 'frequently', 'angels', 'thief', 'shower', 'chair', 'sum', 'suspects', 'wanna', 'remind', 'attacks', 'albeit', 'bridge', \"you'd\", 'delight', 'jay', 'sides', 'contain', 'poignant', '1950s', 'drives', 'hence', 'expressions', 'personalities', 'pitch', 'struggles', 'flawed', 'matthau', 'dinner', 'cynical', 'internet', 'credibility', 'torn', 'sutherland', 'revolves', 'adapted', 'opened', 'refuses', 'upset', 'wishes', 'glass', 'warn', 'corner', 'overcome', '18', 'pool', 'tour', 'sin', 'greatly', 'lessons', 'franchise', 'credible', 'sullivan', 'hood', 'thousands', 'riding', 'stanwyck', 'advantage', 'happily', 'wealthy', 'innocence', 'trial', 'hadn', 'tense', 'catholic', 'spin', 'trite', 'racism', 'broke', 'alike', 'arm', 'guessing', 'countries', 'physically', 'xa9e', 'medical', 'rochester', 'dubbing', 'mindless', 'patient', 'grey', 'fish', 'hundreds', 'thrillers', 'bugs', 'brando', 'card', 'bag', 'crisis', 'fbi', 'perform', 'stranger', 'noble', 'pride', 'italy', 'jake', 'dislike', 'controversial', 'technique', 'sexuality', 'succeed', 'wasting', 'suffered', 'enjoyment', 'sings', 'mst3k', 'contact', 'tied', 'whereas', 'separate', 'uncomfortable', 'gripping', 'ourselves', 'hundred', 'baker', 'glimpse', 'shines', 'ensemble', 'reunion', 'pack', 'courage', 'bo', 'performers', 'irony', 'shorts', 'atmospheric', 'infamous', 'millions', 'neat', 'exceptional', 'proof', 'hills', 'plastic', 'holiday', 'drink', 'scripts', \"hasn't\", 'sons', 'oscars', 'flash', 'snow', 'hint', \"character's\", 'searching', 'storm', 'helen', 'weapon', 'assistant', 'widmark', 'ralph', 'connected', 'nose', '16', 'aired', 'sentimental', 'cousin', 'lying', 'curse', 'andrew', 'steps', 'nelson', 'chaplin', 'bette', 'cameos', 'letting', 'meaningful', 'entry', 'suggests', 'month', \"shouldn't\", 'tune', 'carpenter', 'dancer', 'knife', 'chasing', 'plague', 'perfection', 'consists', '1980', 'hoped', 'spielberg', 'idiotic', 'hiding', 'portrait', 'troubled', 'accepted', 'stretch', 'quote', 'lovable', 'dentist', 'noted', 'develops', 'unforgettable', 'thousand', 'virgin', 'host', 'fortune', 'larger', 'equal', 'strip', 'condition', 'protagonists', 'colorful', 'basement', 'miscast', 'annoyed', 'ad', 'horses', 'gain', 'karloff', 'spots', 'arnold', 'attraction', 'st', 'saves', 'vincent', 'neighborhood', 'belongs', 'streisand', 'stealing', 'terrifying', 'burning', 'pg', 'burton', 'oil', 'seagal', 'chases', 'massacre', 'shoots', 'glory', 'cube', 'dialogs', 'guilt', 'repeat', 'zone', 'roberts', 'concert', 'boredom', 'worry', 'andrews', 'destruction', 'appearing', 'dramas', 'chuck', 'object', 'worlds', 'hunting', 'dorothy', 'redemption', 'kurt', 'hang', 'elvis', 'pat', \"movie's\", 'multi', 'split', 'expensive', 'factory', 'homeless', 'encounters', 'thirty', 'eerie', 'imaginative', 'neck', 'closely', 'concerns', 'competent', 'civil', 'pie', 'flaw', 'boll', '1950', 'stan', 'achieved', 'guts', 'gag', 'stunts', 'ultra', 'knock', 'complaint', 'wake', 'library', 'letter', 'elsewhere', 'segments', 'bears', 'sends', 'curtis', 'appearances', 'weight', 'shark', 'hooked', 'catherine', 'flynn', 'trade', 'carter', 'colour', 'dig', 'dare', 'derek', 'scientists', 'tear', 'endearing', 'rushed', 'lloyd', 'dragged', 'checking', 'silver', 'charisma', 'fashioned', 'crimes', 'loser', \"man's\", 'incoherent', 'solve', 'virus', 'denzel', '24', 'profound', 'pro', 'essence', 'ripped', 'beating', 'tribute', 'tricks', 'rocks', 'hitting', 'fest', 'hudson', 'fitting', 'striking', 'believing', 'teach', 'spell', 'dear', 'elvira', 'dealt', 'walken', 'reactions', 'noise', 'thumbs', 'attempted', 'battles', '60s', 'gothic', 'goal', 'secretary', 'videos', 'bobby', 'briefly', 'hanks', 'health', 'techniques', 'countless', 'painting', 'strikes', 'sexually', 'covers', 'birthday', 'pointed', '1970', 'britain', 'specific', 'inspiring', '2005', '1st', 'stunt', 'tea', 'surrounded', 'carefully', 'magazine', 'huh', 'slight', 'unintentionally', 'canada', 'hearts', 'le', 'surrounding', 'importance', 'charismatic', 'eva', 'rush', 'eyed', 'winter', 'hamlet', 'fianc', 'dawn', 'mild', 'grows', 'doc', 'iii', 'smoking', 'stronger', 'relevant', 'stood', 'bush', 'bible', 'corrupt', 'hype', 'kicks', 'neighbor', 'barry', 'tons', 'walls', 'jerk', 'revelation', 'horrendous', 'row', 'fired', 'jeremy', 'glover', 'represents', 'killings', 'easier', 'guest', 'ian', 'enters', 'brand', 'requires', 'stated', 'spending', 'intention', 'sally', 'scooby', 'shall', 'bride', 'exercise', 'disagree', 'medium', 'cardboard', 'occurs', 'messages', 'attached', 'dropped', 'spike', 'comics', 'associated', '1970s', 'strike', 'inevitable', 'projects', 'performing', 'mafia', 'poverty', 'korean', 'stiff', 'university', 'increasingly', 'admittedly', 'drags', 'resolution', 'godfather', 'heston', 'identify', 'gift', 'forgive', 'acceptable', 'lab', 'lucas', 'monkey', 'homage', 'toilet', 'selling', 'depression', 'nuclear', 'creation', 'luckily', 'vague', 'chances', 'hire', '1980s', 'thrills', \"hadn't\", 'sophisticated', 'cole', 'contract', '2002', 'executive', 'kidnapped', 'kane', 'afterwards', 'typically', 'investigation', 'insulting', 'breasts', 'brilliance', 'allowing', 'useless', 'instantly', 'strictly', 'gotta', 'estate', 'disease', 'worker', 'struck', \"70's\", 'jesse', 'continued', 'beings', 'joey', 'corpse', 'evident', 'ego', 'overlooked', 'fifteen', 'pleased', 'digital', 'handful', 'burn', 'jamie', 'tremendous', 'commit', 'shining', 'competition', 'ritter', 'reynolds', 'astaire', 'importantly', 'press', 'wreck', 'partly', 'presumably', 'rex', 'menacing', 'photographed', 'smooth', 'meat', 'threatening', 'persona', 'arrested', 'boxing', 'wondered', 'talked', 'aforementioned', 'individuals', 'buried', 'ambitious', 'silence', 'lily', 'raped', 'nights', 'sacrifice', 'worthless', 'realise', 'dawson', 'davies', 'flawless', 'returning', 'heat', 'spiritual', 'frustrated', 'drivel', 'fears', 'shy', 'pushed', 'highlights', 'conspiracy', 'wonders', 'savage', 'appalling', 'superbly', 'relative', 'jumping', 'creators', 'listed', 'norman', 'achievement', 'size', 'pleasantly', 'twin', 'cox', 'accomplished', 'regardless', 'jet', 'string', '45', 'bucks', 'doors', 'beaten', 'generous', 'bullets', 'outrageous', 'characterization', 'guide', 'brosnan', 'ticket', 'planning', 'miserably', 'border', 'carol', 'curiosity', 'consequences', 'attracted', 'picking', 'diamond', 'clues', 'accused', 'duke', 'trap', 'beer', 'samurai', 'fatal', 'butt', 'horrors', 'piano', 'eastwood', 'kudos', 'distant', 'notes', 'prevent', 'union', 'admire', 'ward', 'splendid', 'narrator', 'cusack', 'cup', 'opposed', 'dire', 'uninspired', 'nurse', 'response', 'melodramatic', 'push', 'spring', 'ken', 'watches', 'chain', 'mate', 'revealing', 'territory', 'repetitive', 'rap', 'spirited', 'psychiatrist', 'mitchell', '20th', 'abc', 'spoiled', 'slightest', 'francisco', 'blob', 'spooky', 'shortly', 'emily', 'blows', 'precious', 'subsequent', 'farce', 'directorial', 'manhattan', 'liberal', 'subplot', 'blank', 'grandmother', 'documentaries', 'logical', 'morality', 'installment', 'motivation', 'mile', 'doo', 'titled', 'hatred', 'jealous', 'root', 'alexander', 'convoluted', 'tall', 'lacked', 'throat', 'slap', 'suits', 'pulling', 'los', 'cared', 'cia', 'cagney', 'goldberg', 'overdone', 'remaining', 'timeless', 'ironically', 'cruise', 'poster', 'aimed', 'temple', 'empire', 'indians', 'turner', 'conceived', 'exaggerated', 'souls', 'shoes', 'marks', 'drunken', 'wes', 'tunes', 'warrior', 'captivating', 'psychotic', 'obscure', 'bleak', 'repeatedly', 'intrigued', 'lou', 'ellen', 'notably', 'neil', 'elderly', 'sole', 'reasonably', 'duo', 'craig', 'fancy', 'restaurant', 'failing', 'ignored', 'fx', 'cameron', 'progress', 'fisher', 'superhero', 'idiots', 'argument', 'soviet', 'providing', 'scientific', 'shirt', 'discussion', 'minimal', 'dignity', 'outcome', 'timothy', 'distance', 'explore', 'misses', 'australia', 'smoke', 'reduced', 'gradually', 'elaborate', 'rid', 'editor', 'explicit', 'scripted', \"we've\", 'shadows', 'hysterical', 'satan', 'felix', 'sloppy', 'returned', 'exposed', 'childish', 'wannabe', 'draws', 'gray', 'darker', 'glenn', 'laurel', 'intent', 'cried', 'sticks', 'worried', 'definite', 'mel', 'unbearable', 'pushing', 'connect', 'disc', 'thick', 'birds', 'loosely', 'screams', 'gentle', 'critic', 'load', 'eve', 'photographer', 'commercials', 'vicious', '2003', 'tortured', 'imagined', 'warren', 'reasonable', '1990', '1930s', 'areas', 'ho', 'wolf', 'miike', '99', 'wicked', '2004', 'improved', 'complain', 'slave', 'kenneth', 'reached', 'differences', 'concerning', 'folk', 'landscape', 'horrid', 'dancers', 'discovery', 'freak', 'movements', 'threat', \"b'first\", 'heroic', 'broad', 'unbelievably', 'futuristic', 'perry', 'choreography', 'annie', 'carrey', 'translation', 'modesty', 'wells', 'triumph', 'mildred', 'bathroom', 'arrive', 'absence', 'involvement', 'kitchen', 'builds', 'web', 'stole', 'anyways', 'tap', 'broadcast', 'incident', 'ruth', 'purple', 'displays', 'burned', 'brazil', 'occurred', 'bare', 'extended', 'fever', 'sunshine', 'cheek', 'margaret', 'styles', 'existed', 'demands', 'swear', 'bakshi', 'farm', 'adequate', 'audio', 'recognized', 'drawing', 'affected', 'greek', \"they've\", 'machines', 'contained', 'newspaper', 'ranks', 'resembles', 'falk', 'secrets', 'ought', 'genres', 'stiller', 'population', 'wallace', 'bone', 'symbolism', 'antics', 'carrie', 'walker', 'daring', 'citizen', 'blend', 'dave', 'pseudo', \"'em\", 'journalist', 'argue', 'altogether', 'q', 'superficial', 'sadness', 'harder', 'giallo', 'investigate', 'karen', 'receive', 'contrary', 'parent', 'occur', 'popcorn', 'eyre', 'overrated', 'bite', 'dynamic', 'kapoor', 'proceedings', 'fay', 'threw', 'kirk', 'craft', 'ridiculously', 'enjoys', 'matthew', 'website', 'hugh', 'selfish', 'block', 'dracula', 'aging', 'thugs', 'currently', 'swedish', 'sadistic', 'explosion', 'staged', 'composed', 'suited', 'paulie', 'nazis', 'danes', \"b'after\", 'pretend', 'twelve', 'beats', 'rambo', 'foul', 'robots', 'ireland', 'dinosaurs', 'prom', 'gandhi', 'comfortable', 'innovative', 'tame', 'leg', 'rage', 'bin', 'clothing', 'engaged', 'cameras', 'juvenile', 'ease', 'seventies', 'neo', 'merit', 'trio', 'escaped', 'whale', 'cats', 'tommy', 'dialogues', '2nd', 'synopsis', 'thrill', 'conversations', 'mountains', 'mann', 'rural', 'vivid', 'kidding', 'garden', 'combat', 'centered', 'odds', 'jazz', 'voight', 'explosions', 'coherent', 'buddies', 'overwhelming', 'orders', 'devoted', 'pulp', 'unpleasant', 'beatty', \"b'well\", 'bird', 'staying', 'lit', 'wealth', 'nearby', 'hammer', 'grab', 'donna', 'warming', 'fighter', 'bullet', 'versus', 'staff', 'bell', 'snake', 'murderous', 'terry', 'rat', 'react', 'blowing', 'errors', 'possessed', 'removed', 'disturbed', 'producing', 'eccentric', 'liking', 'intrigue', 'prostitute', 'deliberately', 'offering', 'damage', 'implausible', 'bang', 'philosophy', 'abilities', 'meaningless', 'banned', 'cringe', 'groups', 'causing', 'mistaken', 'holy', 'nightmares', 'ingredients', 'unintentional', 'conventional', 'celluloid', 'relies', 'dating', 'lips', 'leonard', 'sport', 'flop', 'resemblance', 'yesterday', \"one's\", 'influenced', 'subjects', 'possibility', 'uneven', '1996', 'hamilton', 'lol', 'clint', 'careers', 'distracting', 'spare', 'florida', 'madonna', 'kubrick', 'mickey', 'detailed', 'apes', 'lust', 'gadget', 'occasion', 'waters', 'brains', 'scheme', 'defeat', 'focusing', 'pays', 'passes', 'clown', 'spirits', 'crack', \"b'my\", 'undoubtedly', 'props', 'clumsy', 'shine', 'todd', 'nicholson', 'succeeded', 'harvey', 'survival', 'highest', 'politically', 'furthermore', 'xb4s', 'aid', 'discuss', 'explored', 'satisfied', 'catches', 'coffee', 'lemmon', '2007', 'officers', 'kennedy', 'punk', 'bedroom', 'signs', 'primary', 'unwatchable', 'goodness', 'roman', 'brady', 'cliff', 'flies', \"today's\", 'travels', 'toys', 'chaos', 'remarkably', '1999', 'explaining', 'official', 'tracks', 'funeral', 'financial', 'models', 'jeffrey', 'classes', 'cary', 'sidekick', 'secondly', 'smaller', 'sentence', 'duty', 'houses', 'awake', 'blake', 'edie', 'trees', 'decisions', 'panic', 'cuba', 'atlantis', 'devoid', 'desperation', 'beneath', 'winters', 'instant', 'hollow', 'backdrop', 'hates', 'doomed', 'measure', 'masters', 'portion', 'dutch', 'outer', 'mysteries', 'hbo', 'mummy', 'primarily', 'afford', 'linda', 'impress', 'notion', 'ginger', 'endings', 'glorious', 'maggie', 'lifestyle', 'generic', 'lawrence', 'consistently', 'lyrics', 'offended', 'wives', 'blatant', 'carl', 'principal', 'recorded', 'colonel', 'craven', 'dances', 'mixture', 'unfolds', 'settle', 'fetched', 'companion', 'ape', 'brooklyn', 'exotic', 'doll', 'hints', 'dozens', 'enormous', 'directs', 'frustration', 'revolutionary', 'destiny', 'mill', 'yellow', 'circle', 'shelf', 'motives', 'godzilla', 'forbidden', 'cheating', 'fulci', 'represent', 'rebel', 'reaches', 'tie', 'urge', 'closet', 'et', 'relations', 'daddy', 'stellar', 'painted', 'developing', 'coach', 'winds', 'topless', 'pig', 'subtlety', 'ideal', 'bold', 'forty', 'drops', 'hideous', 'benefit', 'hardcore', 'hank', 'montage', 'countryside', 'fond', 'surviving', 'streep', 'rank', 'bull', 'communist', '3rd', 'stinker', 'amy', 'hart', 'enemies', 'holly', 'performer', 'describes', 'avoided', 'wrestling', 'enterprise', 'ah', 'crush', 'advance', 'specifically', 'practice', 'method', 'judging', 'traveling', 'terrorist', 'planned', 'rick', 'trailers', 'widow', 'authority', 'immensely', 'ties', 'wont', 'divorce', 'outfit', 'senseless', 'disjointed', 'blew', 'hal', 'melting', 'ruthless', 'simplistic', 'adorable', 'matches', 'backgrounds', 'fonda', 'emphasis', 'angeles', 'diane', 'sh', 'eighties', 'pan', 'surfing', 'soccer', 'loyal', 'faster', 'solo', 'cure', 'vast', 'fix', 'buff', 'menace', \"director's\", 'earned', 'saga', 'li', 'homer', 'awe', 'claimed', 'miserable', 'loads', 'march', 'corruption', 'seed', 'uwe', 'survivors', 'altman', 'romero', 'commented', 'forms', 'disappear', 'olivier', 'april', 'honesty', 'racial', 'tag', \"b'one\", 'hook', 'amanda', 'pot', 'philosophical', 'displayed', 'interaction', 'chorus', 'link', 'lasted', 'arrogant', 'blues', 'transformation', 'splatter', 'disappeared', 'limits', 'introduces', 'choreographed', 'endure', 'guessed', 'shirley', 'ya', 'weakest', 'dedicated', 'grinch', 'rooms', 'rocket', 'tender', 'depressed', 'involve', 'ain', 'illogical', 'cards', 'polanski', 'ears', 'thoughtful', 'oz', 'ocean', 'moody', 'formulaic', 'justify', 'similarities', 'kicked', 'realizing', 'stereotype', 'verhoeven', 'riveting', 'similarly', 'hurts', 'trashy', 'dinosaur', 'unsettling', 'akshay', 'wore', 'stress', 'nail', 'bug', 'severe', 'voiced', 'chased', 'nomination', 'isolated', 'represented', 'disappoint', 'possibilities', 'palma', 'celebrity', 'safety', 'lena', 'hung', 'cinematographer', 'concern', 'treats', 'considerable', 'blond', 'jonathan', 'trained', 'grasp', 'command', 'improve', 'diana', 'quotes', 'switch', 'faults', 'cave', 'abysmal', 'finger', 'scope', 'inventive', 'thru', 'buffs', 'grandfather', 'tad', 'niro', 'stinks', 'understandable', 'promised', 'user', 'solely', 'helicopter', 'berlin', 'sounding', 'shaw', 'nostalgic', 'embarrassment', 'wet', 'campbell', 'agrees', 'dolls', 'education', 'nervous', 'passionate', 'dub', 'unhappy', '35', 'cg', 'report', 'horrifying', 'purchase', 'chess', 'cake', 'tonight', 'consistent', 'preview', 'snl', 'swimming', 'elephant', 'judy', 'monkeys', 'scarecrow', 'species', 'facing', 'aids', 'bonus', 'downhill', 'comparing', 'ignorant', 'alert', 'z', 'shake', 'defend', 'transfer', 'taught', 'plant', 'morris', 'constructed', 'mall', '1972', 'confidence', 'motivations', 'rotten', 'armed', 'pretending', 'boot', 'orson', 'mario', 'wished', 'sits', 'inane', 'del', 'fooled', 'edgar', 'namely', 'photos', 'babe', 'waited', 'reaching', 'lumet', 'cd', 'letters', 'myers', 'laws', 'hop', 'poetic', 'lately', 'sellers', 'garbo', 'corporate', 'christy', 'button', 'kingdom', 'agents', 'sappy', 'adams', 'behave', 'stooges', 'eager', 'simpson', 'relation', 'pants', 'charlotte', 'writes', 'useful', 'shelley', 'buildings', 'staring', 'humble', 'domino', 'khan', 'wound', 'closest', 'cliche', 'prize', 'latin', 'hopper', 'delivering', 'destroying', 'cleverly', 'suitable', 'sandra', 'combine', 'wendy', 'artificial', 'maintain', 'steel', 'porno', 'dixon', 'reads', 'museum', 'chest', 'dalton', 'elegant', 'scottish', 'stevens', 'secretly', 'blunt', 'airport', 'alcoholic', 'inferior', 'vegas', 'september', 'couples', 'conflicts', 'engage', 'valuable', '1968', 'peoples', 'affect', 'bath', 'virginia', 'climactic', 'amitabh', 'montana', 'gangsters', 'vengeance', 'ballet', 'franco', 'conservative', 'griffith', 'macy', 'convincingly', 'tiresome', 'carradine', 'arrived', 'square', 'emperor', 'scrooge', 'timon', 'waves', 'access', 'cheated', 'ruby', '1983', 'jumped', 'catching', 'closed', 'raising', 'bands', 'vice', 'paranoia', 'mars', 'beliefs', 'kicking', 'yelling', 'wrapped', 'reflect', 'robbery', 'leo', 'pearl', 'chicago', 'gundam', 'lowest', '1960s', 'iron', 'global', 'lay', 'christians', 'pokemon', 'wizard', 'catchy', 'questionable', 'slick', 'boom', 'scores', 'mayor', 'abusive', 'bottle', 'misery', 'spoke', 'centers', 'roth', 'robinson', 'taxi', 'potentially', 'simplicity', 'germans', 'messed', 'spread', '00', 'advertising', 'designs', 'raymond', 'ethan', 'airplane', 'blade', 'construction', 'bergman', 'stilted', 'creator', 'exploration', 'vulnerable', 'guarantee', 'crocodile', 'richardson', 'miracle', 'nicholas', 'paltrow', 'progresses', 'plight', 'poetry', 'witches', 'desired', 'remarks', 'spock', 'gerard', 'illegal', 'y', 'balls', 'june', 'depicts', 'jaw', 'purchased', 'advise', 'recognition', 'jenny', 'experiments', 'inappropriate', 'brutally', 'survived', 'restored', 'greedy', 'nostalgia', 'joined', 'lengthy', 'sue', 'wandering', 'complexity', 'alongside', 'intentionally', 'acid', 'demand', 'hunters', 'gabriel', 'amounts', 'civilization', 'attitudes', 'advanced', 'literature', 'understated', 'iran', 'operation', 'transition', 'copies', 'rendition', 'kyle', 'eaten', 'rising', 'edition', 'mail', 'parallel', 'newly', 'visible', 'pal', 'likewise', 'intimate', 'persons', 'showcase', 'firstly', 'careful', 'junior', 'unit', 'incomprehensible', 'doom', 'vaguely', 'willis', 'resources', 'chicks', 'witnesses', 'im', 'dust', 'molly', '1973', 'homosexual', 'resort', 'marty', 'online', 'illness', 'rubber', 'floating', 'troops', 'opinions', 'signed', 'ollie', 'prisoners', 'lively', 'matched', 'demented', 'arguably', 'ridden', 'analysis', 'mistress', 'viewings', 'gender', 'responsibility', 'bela', 'patients', 'worn', 'rabbit', 'capturing', 'agreed', 'attorney', 'richards', 'bacall', 'suspicious', 'visits', 'challenging', 'chapter', 'accompanied', 'invasion', 'bay', 'neighbors', 'ensues', 'pops', 'classical', '90s', 'fascinated', 'nuts', 'wisdom', 'appreciation', 'solution', 'twilight', 'losers', 'proceeds', 'witnessed', 'betty', 'basketball', 'alternate', 'keith', 'kay', 'feed', 'satisfy', 'widely', 'dreary', 'cities', 'legal', 'defined', 'francis', 'rats', 'plausible', 'smiling', 'compelled', 'pit', 'drake', 'capital', 'subplots', 'wrap', 'equivalent', 'incompetent', 'owen', 'excessive', 'descent', 'stale', 'parties', 'relatives', 'masterful', 'arrival', 'hyde', 'reel', 'overacting', 'assault', 'jaws', 'prisoner', 'justin', 'manipulative', '1940', 'despair', 'serving', 'channels', 'damon', 'randy', 'photo', 'ear', 'connery', 'enthusiasm', 'dropping', 'ashley', 'butler', 'lone', 'barrymore', 'whats', 'mankind', 'greed', 'tends', 'tiger', 'farrell', 'defense', 'grayson', 'seeks', 'rangers', 'louise', 'crucial', '3d', 'historically', 'lundgren', 'slaughter', 'exceptionally', 'warmth', 'royal', 'tomatoes', 'counter', 'domestic', 'terrorists', 'psychic', 'earl', 'sincere', 'sirk', 'property', 'rocky', 'alison', 'nyc', 'dressing', 'overlook', 'priceless', 'icon', 'calm', 'methods', 'creativity', 'opportunities', 'randomly', 'phantom', 'mentioning', \"b'for\", 'wishing', 'specially', 'poem', 'waitress', 'stallone', 'ninja', 'bargain', 'irrelevant', 'belong', 'mtv', 'muslim', 'landscapes', 'pursuit', 'improvement', 'hilariously', 'generated', 'masterpieces', 'mentions', 'mighty', 'monk', 'imitation', 'chooses', 'prequel', 'frequent', 'bumbling', 'mundane', '50s', '1984', 'gifted', 'angela', 'empathy', 'purposes', 'minimum', 'marketing', 'marion', 'polished', 'borrowed', 'instinct', 'awfully', 'der', 'equipment', 'rukh', 'introduce', 'ham', 'caliber', 'showdown', '13th', 'elm', 'reid', 'performs', '1933', 'iraq', 'sink', 'carell', 'mechanical', 'promises', 'dolph', 'creep', 'pamela', 'map', 'brenda', 'ruins', 'troubles', 'austen', 'hippie', 'recording', 'belushi', 'phony', 'definition', 'rolled', 'eastern', 'expressed', 'businessman', 'unseen', 'stretched', 'absent', 'clip', 'spider', 'moronic', 'educational', 'receives', 'travesty', 'survivor', 'activities', 'wacky', 'loaded', 'popularity', 'pink', 'distinct', 'unreal', 'petty', 'testament', 'assigned', 'attend', 'resident', 'inducing', 'sneak', 'punishment', 'meryl', 'unoriginal', 'trail', 'unaware', 'frankenstein', 'dimension', 'household', 'quit', 'contest', 'championship', 'israel', 'wounded', 'album', 'feminist', 'resist', 'respected', 'peters', 'suspend', 'assassin', 'othello', 'macarthur', 'sixties', 'orleans', 'simmons', 'valley', 'sid', 'deceased', 'buffalo', 'abraham', 'suffice', 'distribution', 'teaching', 'greatness', 'exposure', 'heights', '1997', 'kissing', 'hopeless', 'stunned', 'tooth', 'nephew', '1987', 'palace', 'resulting', 'omen', 'composer', 'doubts', 'alfred', '1930', 'interests', 'yard', 'underlying', 'assumed', 'spacey', 'roots', 'frankie', 'graham', 'laughably', 'mclaglen', 'nerd', 'fed', 'unpredictable', 'correctly', 'pin', 'zizek', 'depicting', 'spain', 'biography', 'inevitably', 'nonsensical', 'wholly', 'alcohol', 'shed', 'sissy', 'rooney', 'package', 'swim', 'josh', 'willie', 'darren', 'tech', 'orange', 'accuracy', 'integrity', 'whoopi', 'nathan', '2008', 'crystal', 'watson', 'reflection', 'edgy', 'metaphor', 'maniac', 'patience', 'directions', 'trademark', 'retired', 'puppet', '1993', 'ramones', 'dud', 'din', 'peak', 'merits', '3000', 'hello', 'aim', 'supported', 'furious', '1995', 'pierce', 'julian', 'uplifting', 'compassion', 'brutality', 'tribe', 'dickens', 'ustinov', 'fury', 'walsh', 'eugene', 'suggested', 'antwone', 'biko', 'x99s', 'x93', 'pressure', 'alec', 'warriors', 'masses', 'dee', 'crawford', 'grabs', 'unfair', 'adaptations', 'austin', 'resemble', 'comfort', 'deaf', 'strangers', 'technicolor', 'expedition', 'glasses', 'immediate', 'passable', 'rave', 'slice', 'romp', 'significance', 'ambiguous', 'confess', 'indulgent', 'shaky', 'conditions', 'cannibal', 'checked', 'ross', '1971', 'maid', '1960', 'generations', 'fought', 'greg', 'chicken', 'leon', 'novak', 'exchange', 'landing', 'stuart', 'wilderness', 'astonishing', 'invented', 'lackluster', 'loyalty', 'milk', 'tube', 'gentleman', 'disliked', 'subjected', 'demise', 'wretched', 'rises', 'companies', 'scotland', 'hartley', 'rita', 'ordered', 'murray', 'blast', 'damme', 'singers', 'ships', 'dreck', 'bud', 'nicole', 'grief', 'inability', 'frustrating', 'respectively', 'confrontation', 'examination', 'unexpectedly', 'phil', 'senses', 'victory', 'experimental', 'legacy', 'conscious', '22', 'poison', 'alternative', 'amused', 'skull', 'femme', 'marc', 'billed', 'rates', 'fuller', 'premiere', 'fields', 'hears', 'frightened', 'addicted', 'refused', 'crazed', 'remained', 'tastes', 'difficulties', 'tank', 'twins', 'simultaneously', 'harm', 'claus', 'desires', 'tacky', 'replace', 'hawke', 'masks', 'flair', 'cracking', 'tripe', 'dysfunctional', 'coast', 'fascination', 'vulgar', 'gather', 'stumbled', 'joel', 'objective', 'shanghai', '1936', 'sopranos', 'deranged', 'cassidy', 'stargate', 'relax', 'females', 'parade', 'wang', 'sentiment', 'baldwin', 'vance', 'preston', 'malone', 'shoulders', 'christianity', 'noises', '1978', 'les', 'remakes', 'pun', 'phrase', 'dana', 'complaints', 'wildly', 'caricatures', 'comedians', 'joins', 'husbands', 'robbins', 'precisely', 'fingers', 'primitive', 'foxx', 'filling', 'prey', '1988', 'interactions', 'awhile', 'function', 'require', 'silliness', 'abused', 'cream', 'marshall', 'bridget', 'reader', 'sunny', 'favour', 'raines', 'accomplish', 'rifle', 'firm', 'lands', 'raises', 'musicians', 'fishing', 'agenda', 'challenged', 'tarantino', 'infected', 'wakes', 'fifty', 'appropriately', 'sabrina', 'alicia', 'downey', '19th', 'items', 'aspiring', 'fathers', 'musician', 'literary', 'breed', 'sung', 'murdering', 'deniro', 'servant', 'amusement', 'posters', 'loneliness', 'releases', 'sums', 'karl', 'misleading', 'andre', 'paradise', 'teachers', 'palance', 'complaining', 'sharon', 'choppy', 'millionaire', 'rude', 'edit', 'stark', 'pitiful', 'woo', 'coincidence', 'minus', 'quietly', 'kumar', 'underneath', 'thompson', 'antonioni', 'unfold', 'presenting', 'valentine', 'muddled', 'pete', 'babies', 'roommate', 'knocked', 'charged', 'files', 'seldom', 'weakness', 'straightforward', 'unlikable', 'exposition', 'celebration', 'fido', \"children's\", 'absurdity', 'teaches', 'framed', 'hackneyed', 'da', 'conscience', 'designer', 'sugar', 'electric', 'acclaimed', 'heartfelt', 'region', 'automatically', 'prepare', 'beverly', 'bread', 'blacks', 'haired', '1989', 'shoddy', 'curly', 'fantasies', 'encourage', 'clarke', 'biased', 'invites', 'dose', 'cancer', 'cattle', 'grotesque', 'fog', 'russia', 'asylum', 'nemesis', 'preposterous', 'citizens', 'buster', 'dirt', 'moreover', 'realised', 'adopted', 'rely', '1939', 'ethnic', 'kansas', 'handling', 'devices', 'trend', 'visited', 'provocative', 'roof', 'conviction', 'imaginable', 'active', 'discovering', 'dresses', 'paramount', '1986', 'occasions', 'inexplicably', 'shared', 'hungry', 'spark', \"would've\", 'industrial', 'en', 'credited', \"here's\", 'objects', 'cue', \"ain't\", 'behaviour', 'outfits', 'youngest', 'bernard', 'roller', 'nut', 'profanity', 'accepts', 'knight', 'chills', 'counts', 'uncut', 'adolescent', 'secondary', 'lock', 'regarded', 'sketch', 'hopelessly', '1979', 'bow', 'shoulder', 'heartbreaking', 'soderbergh', 'newman', 'lindsay', 'tasteless', 'bunny', 'controlled', 'tyler', 'translated', 'quinn', 'clock', '75', 'squad', 'dont', 'riot', 'mode', 'iv', 'option', 'ladder', 'heist', 'laurence', 'tracking', 'hk', 'referred', 'hopkins', 'basinger', 'boxer', 'policeman', 'canyon', 'mccoy', 'gal', 'bitch', 'penny', 'swing', 'realm', 'tomorrow', 'labor', 'coaster', 'challenges', 'skits', 'amazon', 'rejected', 'insurance', 'corpses', 'quaid', 'positively', 'christine', 'ignorance', 'visiting', 'morbid', 'boyle', 'pages', 'severely', '1969', 'springer', 'suspension', 'lush', 'naughty', 'affection', 'freaks', 'chainsaw', 'respective', 'screens', 'jews', 'martha', 'deserted', 'nod', 'guitar', 'lip', 'backs', 'additional', 'bike', 'gambling', 'abrupt', 'betrayal', 'recommendation', 'cannon', 'darn', 'conventions', 'refer', 'outs', 'fade', 'bye', 'chuckle', 'wagner', 'historic', 'admirable', 'wwe', 'selection', 'tail', 'thread', 'inconsistent', 'disappears', 'guaranteed', 'reluctant', 'shares', 'sooner', 'fist', 'beware', 'barrel', 'invited', 'el', 'brendan', 'guests', 'rome', 'indication', 'deleted', 'chavez', 'hyped', '19', 'sentinel', 'praised', 'address', 'kolchak', 'prejudice', 'hughes', 'sympathize', 'nolan', 'soup', 'mayhem', 'kitty', 'leigh', 'stack', 'vader', 'circus', 'burst', 'affairs', 'fifties', 'posted', 'angst', 'cope', 'previews', 'receiving', 'threatens', 'tierney', 'banal', 'tip', 'nails', 'iconic', 'misguided', 'visions', 'sassy', 'www', 'filth', 'beside', 'anticipation', 'drove', 'posey', 'venture', 'hammy', 'promote', 'marvel', 'min', 'underworld', 'acceptance', 'steady', 'stopping', 'sox', 'reign', 'cruelty', 'poe', 'agency', 'reflects', 'muppet', 'gut', 'behold', 'beatles', 'filler', 'meg', 'glowing', 'weaknesses', 'bent', 'evidently', 'hack', 'bros', 'psychology', 'harmless', 'saint', 'stages', 'duvall', 'insipid', 'heading', 'paxton', 'conveys', 'popping', 'kline', 'shades', 'yeti', 'oldest', 'artsy', 'disguise', 'remade', 'outing', 'entitled', 'completed', 'firing', 'demonstrates', 'studies', 'depending', 'exceptions', 'terrified', 'strongest', 'patricia', 'employed', 'connections', 'overlong', 'investigating', 'bronson', 'widescreen', 'peck', 'yawn', '1981', 'explores', 'attenborough', 'schlock', 'commander', 'portrayals', 'logan', 'confident', 'hokey', 'emerges', 'difficulty', 'morally', 'wilder', 'understands', 'reeves', 'lois', 'grainy', 'vein', 'macho', 'muppets', 'obligatory', 'gina', '1976', 'preachy', 'eternal', 'fluff', 'campaign', 'lifted', 'triple', 'height', 'dates', 'records', 'unexplained', 'uh', 'carla', 'redeem', 'nicolas', 'repeating', 'hapless', 'despicable', 'snakes', 'legends', 'suitably', 'insists', 'physics', 'studying', 'recycled', 'communicate', 'mentality', 'phenomenon', 'unrelated', 'absorbed', 'clan', 'pounds', \"b'you\", 'duck', 'esther', 'stores', 'gregory', 'vital', 'comparisons', 'disgusted', 'rhythm', 'rapist', 'predict', 'rounded', '1945', 'interestingly', 'runner', 'couch', 'paintings', 'harold', 'locals', 'recognizable', 'gate', 'representation', 'partners', 'pole', 'lester', 'gear', 'danish', 'casual', 'offs', 'slimy', 'sending', 'stairs', 'wings', 'bitten', 'grudge', 'shortcomings', 'attract', 'assured', 'minister', 'conclude', 'route', 'bacon', 'ants', 'melody', 'daniels', 'marries', 'clad', 'politician', 'charms', 'trivia', 'zombi', 'cohen', 'globe', 'net', 'shouting', 'phillips', 'flowers', 'forcing', 'eternity', 'spinal', 'wig', 'inexplicable', 'harrison', 'ingenious', 'limit', 'befriends', 'considerably', 'rod', 'discussing', 'scorsese', 'nolte', 'flashy', 'prominent', 'steele', 'rendered', 'http', 'claiming', 'gems', 'someday', 'raj', 'vibrant', 'ace', 'stalker', 'tempted', 'kidman', 'shopping', 'assuming', 'pleasing', 'delicate', 'boston', 'eats', 'defeated', 'coup', 'elite', 'tenant', 'heartwarming', 'clueless', 'mothers', 'genie', 'independence', 'ariel', \"'70s\", 'gillian', 'naschy', 'cher', 'colin', 'depends', 'rope', 'deserving', 'institution', 'renaissance', 'weather', 'norm', 'claustrophobic', 'blatantly', 'toronto', 'immature', 'symbolic', 'bridges', 'camcorder', 'garner', 'towers', 'transformed', 'incidentally', 'screwed', 'info', 'inhabitants', 'bully', 'lift', 'champion', 'alvin', 'screw', 'strings', 'kathryn', 'carey', 'sharing', 'static', 'publicity', 'penn', 'cookie', 'wire', 'shaking', 'x97', 'glamorous', 'housewife', \"people's\", 'bondage', 'miyazaki', 'kurosawa', 'disorder', 'schools', 'ish', 'centre', 'traffic', 'cheer', 'hilarity', 'salt', 'farmer', 'remove', 'ambition', 'destined', 'organized', 'leather', 'programs', 'marlon', 'ratso', \"b'an\", 'differently', 'audrey', 'voted', 'ton', 'wax', '28', 'departure', 'nope', 'assassination', 'punches', 'goers', 'gunga', 'fontaine', 'election', 'doctors', 'bend', 'belt', 'spree', 'outdated', 'partially', 'exploring', 'excess', 'continually', 'layers', 'claude', 'natives', 'backwards', 'authorities', 'lasting', 'frames', 'debate', 'keen', 'smiles', 'bombs', 'jordan', 'messy', 'dylan', 'stumbles', 'cassavetes', 'coupled', 'vanessa', 'dvds', 'item', 'feeding', 'feat', 'uma', 'surgery', 'threatened', 'concepts', 'oriented', 'thrilled', 'corbett', 'shorter', 'georges', 'charlton', 'damaged', 'casts', \"b'although\", 'insightful', 'trials', 'newer', 'profession', 'dudley', 'commenting', 'ebert', 'sorely', \"90's\", '1990s', 'landed', 'europa', 'cons', 'minority', 'mermaid', 'btw', 'proving', 'boyer', 'duration', 'detectives', 'handles', 'lifeless', 'winchester', 'northern', 'neurotic', 'mol', 'computers', 'hum', 'satirical', 'hides', 'preferred', 'swept', 'racing', 'jess', 'windows', 'mannerisms', 'suggestion', 'wanders', 'uniformly', 'denis', 'gere', 'accurately', '95', 'hangs', 'vocal', 'triangle', 'formed', 'anton', 'milo', 'timberlake', 'setup', 'entered', 'helpful', 'moe', 'disastrous', 'demanding', 'obtain', 'insanity', 'engrossing', 'braveheart', 'containing', 'myth', 'cushing', 'tops', 'justified', 'elevator', 'inspire', 'firmly', 'demonic', '4th', 'reliable', 'seeming', 'biblical', 'wtf', 'predecessor', '1977', 'sincerely', 'bowl', 'sleeps', 'sleaze', 'vile', 'earn', 'evolution', 'mirrors', 'outright', 'speeches', 'wendigo', 'heels', 'loretta', 'bars', 'chamberlain', 'ie', 'fifth', '1974', 'alexandre', 'token', 'lukas', 'zane', 'creek', 'rear', 'mutual', 'brooding', 'refuse', 'pacific', 'tapes', 'choosing', 'pickford', 'knightley', 'regards', 'artwork', 'conan', 'rampage', 'emerge', 'exquisite', 'insights', 'mixing', 'skit', 'deny', 'cbs', 'guards', 'homicide', 'restrained', '1994', 'approaches', 'tunnel', 'spies', 'mason', 'hepburn', 'undead', 'statue', 'gable', 'akin', 'tara', 'ripping', 'melissa', 'affleck', 'survives', 'sometime', 'helpless', 'kent', 'label', 'bates', 'boasts', 'realities', 'destroys', '1991', 'eleven', 'altered', 'rooting', 'jared', \"b'ok\", 'shell', 'educated', 'crossing', 'critique', 'healthy', 'disgrace', 'luis', 'cemetery', '1985', 'buzz', 'grateful', 'lex', \"'n\", 'describing', 'deer', 'activity', 'hats', 'neatly', 'shaped', 'banter', 'topics', 'radical', 'mercy', 'forgiven', 'highway', 'pc', 'hulk', 'subtly', 'preparing', 'dandy', 'huston', 'mitch', 'paula', 'startling', 'vain', 'preminger', 'cerebral', 'leaders', 'conrad', 'contempt', 'photographs', 'disgust', 'exploits', 'phillip', '21st', 'repulsive', 'compete', 'owners', 'id', 'bloom', 'weaker', 'rides', 'unlikeable', 'thirties', 'armstrong', 'seedy', 'stare', 'bachelor', 'masterfully', 'vastly', 'inspirational', 'located', 'reeve', 'hugely', 'disguised', 'owes', 'des', 'scariest', 'affects', 'error', 'nominations', 'modest', 'addict', 'candidate', 'linear', 'applaud', 'bulk', 'xb4t', 'narrow', \"could've\", 'frontal', 'homes', 'pixar', 'rapidly', 'mathieu', 'wrenching', 'gimmick', 'grounds', 'injured', 'miami', 'mesmerizing', 'votes', 'crashes', 'dim', 'contribution', 'poker', 'coat', 'cinemas', 'cartoonish', 'refers', 'freeze', 'hers', '30s', 'washed', 'niece', 'judd', 'nations', 'gods', 'puppets', 'internal', 'wardrobe', \"60's\", 'holocaust', 'origin', 'breakfast', 'corman', 'bsg', 'dubious', 'casino', 'miniseries', 'sergeant', 'relentless', 'truman', 'guinness', 'chronicles', 'potter', 'continuing', 'inaccurate', 'youthful', 'caricature', 'factors', 'gates', 'motive', 'bach', 'dazzling', 'headache', 'giants', 'expertly', 'homosexuality', 'strengths', 'boris', 'hires', 'lasts', 'las', 'youtube', 'excellently', 'missile', '1959', 'bones', 'undeniably', 'ingrid', 'advertised', 'swallow', 'standout', 'stunningly', 'convicted', 'natalie', 'corn', 'spine', 'reward', 'joker', 'vehicles', 'evelyn', 'christina', 'nina', 'mates', 'beowulf', 'screenwriters', 'unsuspecting', 'audition', 'scifi', 'insults', 'underwear', 'perception', 'abruptly', 'jacket', 'unsure', 'growth', 'dread', 'porter', 'natured', 'limitations', 'randolph', 'decline', 'convinces', 'gained', 'arab', 'detract', 'tower', 'parsons', 'shepherd', 'christie', 'mcqueen', 'definitive', 'males', 'masterson', 'promptly', 'garland', 'authenticity', 'cecil', 'lend', 'stalking', 'painter', 'jarring', 'carmen', 'colleagues', 'longest', 'nbc', 'disabled', \"father's\", 'polly', '200', 'pirate', 'mice', 'energetic', 'entering', 'vividly', 'antonio', \"he'd\", 'implied', 'lauren', 'teams', 'unattractive', 'exterior', 'enhanced', 'misfortune', 'origins', 'span', 'colours', 'sophie', 'delicious', '1940s', 'stardom', 'goldblum', 'derivative', 'unimaginative', 'toni', 'tokyo', 'siblings', 'published', 'fatale', 'dominated', 'juliet', 'spit', 'referring', 'supply', 'jill', 'confront', 'salvation', 'ally', 'judgment', 'users', 'resolved', 'repressed', 'wander', 'entirety', 'dealer', 'nerves', 'accessible', 'earnest', 'damned', 'alley', \"b'while\", 'jedi', 'razor', 'underwater', 'anil', 'confronted', 'sgt', 'residents', 'endlessly', '21', 'sinking', 'terminator', 'tossed', 'puerto', 'ritchie', 'uniform', 'lance', 'tormented', 'depths', 'slide', 'devastating', 'expects', 'imo', 'hindi', 'clash', 'dragons', 'lighter', 'interact', 'cliches', 'playboy', 'approaching', 'bruno', 'monty', 'literal', 'readers', 'senior', 'severed', 'separated', 'meandering', 'dismal', 'galaxy', 'estranged', 'owned', 'wounds', 'drinks', 'zorro', 'buys', 'sensible', 'anyhow', 'corporation', 'liu', 'crisp', 'pray', 'races', '1944', 'jules', 'spencer', 'suburban', 'einstein', 'depict', 'divorced', 'improbable', 'cyborg', \"b'just\", 'eventual', 'mutant', 'glued', 'scratch', 'victorian', 'burke', 'cents', 'magician', 'nerve', 'servants', 'mobile', 'hackman', 'inherent', 'bravo', 'macabre', 'sized', 'sale', 'stranded', '1982', 'foolish', 'soylent', 'biting', 'caron', 'exit', 'filthy', 'assembled', 'walt', 'cleaning', 'bashing', 'sticking', 'troma', 'belly', 'amrita', 'syndrome', 'netflix', 'breathing', 'kazan', 'characteristics', 'scoop', 'sniper', 'yours', 'cries', 'pumbaa', 'yep', 'identical', 'esquire', 'flashes', 'pale', 'spectacle', 'balanced', 'tremendously', 'decidedly', 'feast', 'promoted', 'laden', 'demonstrate', 'exorcist', 'sand', 'irene', 'axe', 'owns', 'reminder', 'dustin', 'bogus', 'exploit', 'turd', 'quarter', 'lola', 'glaring', 'informed', 'blooded', 'cheaply', 'stylized', 'conveyed', 'dump', 'worms', 'fishburne', 'sought', 'cypher', 'pattern', 'habit', 'witchcraft', 'packs', 'plotting', 'respectable', 'astounding', 'yokai', 'clara', 'sublime', 'steam', 'lean', 'trier', 'fragile', 'isolation', 'budgets', 'adore', 'sf', 'possess', 'appeals', 'incapable', 'escaping', 'wisely', 'answered', 'rider', \"b'wow\", 'nightclub', 'salman', 'chopped', '23', 'concentrate', 'principals', 'immortal', 'harriet', 'filmmaking', 'deliberate', 'breakdown', 'psychopath', 'passengers', 'flimsy', 'thurman', 'enthusiastic', 'crosby', 'noticeable', 'judged', 'jan', 'butcher', 'subway', 'intricate', \"'i\", 'combines', 'pause', 'arguing', 'asia', 'vintage', 'dilemma', 'sidewalk', '1998', 'quantum', 'expose', 'accounts', 'collect', 'destructive', 'selected', 'principle', 'crown', 'sentimentality', 'debt', '1953', 'clone', 'minnelli', 'ps', 'rescued', 'outline', 'expectation', 'jealousy', 'offbeat', 'copied', '300', 'freaky', 'gilliam', 'reports', 'lightning', 'celebrated', 'laurie', 'pound', 'attacking', 'ominous', 'pierre', 'casper', 'er', 'grass', 'peaceful', 'butch', '1975', 'goods', 'jodie', 'rewarding', 'conveniently', 'contribute', 'hayworth', 'romeo', 'ensure', 'numbing', 'colored', 'absorbing', 'classy', 'longing', 'whiny', 'pocket', 'experiencing', 'mitchum', '40s', 'volume', 'kidnapping', 'crippled', 'gamera', 'tax', 'scarface', 'accepting', 'errol', 'embrace', 'loy', 'karate', 'wong', 'pursue', 'immense', 'adaption', 'indiana', 'distract', 'tool', 'fright', 'tendency', 'suspected', 'aided', 'obsessive', 'arguments', 'deliverance', 'aggressive', 'morals', 'knocks', 'samantha', 'theories', 'divine', 'gentlemen', 'odyssey', 'shepard', 'overblown', 'havoc', 'voyage', 'liam', 'rosemary', 'incorrect', 'thieves', 'spaghetti', 'werewolves', 'jaded', 'dukes', 'basket', 'sarcastic', 'snuff', 'sucker', 'establishment', 'delighted', 'melvyn', 'excruciatingly', 'jury', 'arquette', 'goals', 'advised', 'hybrid', 'turmoil', 'seymour', 'rainy', 'rookie', 'establish', 'lennon', 'switched', 'franklin', 'stroke', 'cape', 'resulted', 'kinnear', 'swearing', '1934', 'slip', 'dashing', 'taped', 'addiction', 'comprehend', 'anticipated', 'parallels', 'tourist', 'crashing', 'juliette', 'miranda', 'bounty', 'unsatisfying', 'downs', 'inmates', 'erika', 'frontier', 'mama', 'messing', 'gypo', 'europeans', 'wonderland', \"'cause\", 'deanna', 'clive', 'updated', 'arranged', 'slugs', 'lavish', 'routines', 'chill', 'shift', 'ultimatum', 'consideration', 'puzzle', 'alter', 'mystical', 'cal', 'whining', 'morons', 'define', 'remembering', 'traits', 'upside', 'angie', 'passage', 'establishing', 'harlow', 'peculiar', 'dramatically', 'optimistic', 'cunningham', 'ronald', 'moron', 'papers', 'spice', 'hannah', 'begging', 'sixth', 'gielgud', 'wielding', 'climb', 'arc', 'approached', 'backed', 'hyper', 'fairbanks', 'anthology', 'stream', 'alleged', 'redundant', \"world's\", 'demonstrated', 'virtual', 'bubble', 'reviewing', 'stones', 'exploding', 'grandma', 'shootout', 'horny', 'collette', 'dame', 'bikini', 'furniture', 'stella', 'ghetto', 'collective', 'distress', 'commitment', 'fleshed', 'mum', 'aiming', 'deputy', 'jersey', 'quentin', 'admired', 'afterward', 'tolerable', 'apply', 'canceled', 'realization', 'jenna', 'intentional', 'sydney', 'predictably', 'toby', 'dj', 'subtext', 'slaves', 'august', 'mouthed', 'mormon', 'avoiding', 'vanilla', 'serum', 'arrest', 'vega', 'cultures', 'thunderbirds', 'boiled', 'capote', 'cutter', 'salesman', 'tuned', 'verbal', 'horrified', 'ritual', 'barbra', 'insomnia', 'lunch', 'whites', 'contributed', 'leap', 'skilled', 'crosses', 'excuses', 'carnage', 'diverse', 'wheel', 'verdict', 'smash', 'achieves', 'respects', 'borders', 'wine', 'sang', 'populated', 'scored', 'jewel', 'sources', 'sickening', 'courtroom', 'busey', 'coke', 'kathy', 'hadley', 'dumber', 'anytime', 'clay', 'hateful', 'sarandon', 'xa8re', 'exploited', 'fills', 'newcomer', 'lethal', 'acquired', 'slapped', 'strict', 'cheadle', 'ugh', 'commits', 'pad', 'polish', 'fascist', 'olds', 'rebellious', 'phenomenal', 'poses', 'vince', 'overboard', 'explodes', 'taboo', 'graveyard', 'pedestrian', 'psychologist', 'vanity', 'arriving', 'wiped', 'document', 'remembers', 'insist', 'mouths', 'trace', 'korea', 'distraction', 'enhance', 'monologue', 'ricky', 'timmy', 'puppy', 'shoe', 'medieval', 'fools', 'aussie', 'mythology', 'seasoned', 'consciousness', 'stephanie', 'unsympathetic', 'settled', 'pathos', 'cigarette', 'jacques', 'cuban', 'lucille', 'forties', 'hoot', 'instincts', 'bogart', 'possession', 'meantime', 'satisfaction', '1967', 'marilyn', 'lionel', 'thelma', 'freaking', 'vomit', 'expense', 'duel', 'shockingly', 'deliciously', 'update', 'mysteriously', 'pirates', 'guinea', 'cooking', 'schneider', 'posing', 'nuances', 'sunrise', 'relentlessly', 'denise', 'robertson', 'encountered', 'attending', 'mole', 'herbert', 'fluid', 'keys', 'readily', 'symbol', 'phase', 'pushes', 'flavor', 'wash', 'hooker', 'rivers', 'weary', 'mortal', 'flock', 'trains', 'dynamics', 'olivia', 'mentor', 'defies', 'ira', 'policy', 'controlling', 'adrian', 'amidst', 'israeli', 'skinny', 'gilbert', 'niven', 'romances', 'bachchan', 'drab', 'foundation', 'ranch', 'sells', 'feminine', 'covering', 'themed', 'contestants', 'explosive', 'regularly', 'invention', 'berkeley', 'feeble', 'fried', 'immigrant', 'chiba', 'pfeiffer', 'wheelchair', 'seductive', 'diary', 'haines', 'fassbinder', 'clerk', 'tactics', 'delightfully', 'longoria', 'arkin', 'circles', 'possesses', 'jolie', 'sammo', 'meal', 'sanders', 'mute', 'pursued', 'penelope', 'additionally', 'detroit', 'forgetting', 'juan', 'deed', 'revolt', 'python', 'consist', \"they'd\", 'assignment', 'statements', 'dumped', \"'a\", 'starters', 'indifferent', 'void', 'ordeal', 'republic', 'aftermath', 'fanatic', 'followers', 'embarrassingly', 'attended', 'employee', 'swinging', \"woman's\", 'novelty', 'unusually', 'kris', 'inaccuracies', 'beg', 'psyche', 'motions', 'owl', 'rapid', 'economic', 'wider', 'intact', 'degrees', 'produces', 'convention', 'july', 'deciding', 'shifts', 'releasing', 'truths', 'wastes', 'anxious', 'steer', 'goodbye', 'daisy', 'debbie', 'moss', 'cindy', 'introducing', 'brainless', 'targets', 'narrated', 'discussed', 'motorcycle', 'cannes', 'alot', 'excruciating', 'auto', 'sided', 'reviewed', 'parking', 'noteworthy', 'sundance', 'suggesting', 'dumbest', 'medicine', 'reverse', 'biker', 'gwyneth', 'screwball', 'neglected', 'gooding', 'agony', 'flower', 'rowlands', 'tickets', 'herman', 'products', 'instances', 'legitimate', 'clooney', 'otto', 'fuzzy', 'martian', 'arrow', 'lends', 'admitted', 'laputa', 'iturbi', 'cliched', 'debra', 'planes', 'sondra', 'darth', 'mabel', 'criticize', 'coffin', 'abound', 'daylight', 'toned', 'demille', 'factual', 'lowe', 'warns', 'obstacles', 'distracted', 'rejects', 'professionals', 'executives', 'suspicion', 'roughly', 'invite', 'artistry', 'beckinsale', 'elliott', 'dahmer', 'inclusion', \"b'oh\", 'lampoon', 'centuries', 'fallon', 'rational', 'rosario', 'arty', 'serials', 'mick', 'cap', 'idol', 'crossed', 'cab', 'cliffhanger', 'corey', 'vera', 'informative', 'consequently', 'controversy', 'cycle', 'macdonald', 'indicate', 'edith', 'awakening', 'scripting', 'cain', 'breast', 'unanswered', 'trigger', 'brow', 'jose', 'grip', 'muslims', 'originals', 'soprano', 'manners', 'funding', 'ambitions', 'frog', 'begs', '101', 'tcm', 'sarcasm', 'sentences', 'pegg', 'stabbed', 'flames', 'meteor', 'incidents', 'session', 'sheen', 'viewpoint', 'kidnap', 'stating', 'columbia', 'campus', 'compliment', 'colman', 'predator', 'pains', 'um', 'intro', 'goodman', 'begun', '1948', 'chong', 'gershwin', 'creasy', 'bonnie', 'ruining', 'schedule', 'mock', 'bait', 'click', 'consequence', 'sterling', 'uncanny', 'investigator', 'murky', 'county', 'enigmatic', 'rambling', 'frances', 'exclusively', 'kathleen', 'stink', 'relevance', 'ambiguity', 'chamber', 'blamed', 'gap', 'translate', 'robbers', 'abortion', 'stance', 'surroundings', 'snowman', 'shaggy', 'determination', 'seats', 'dreamy', 'cameraman', 'sweat', 'tomb', 'depictions', 'bosses', 'tomei', 'sailor', 'grabbed', 'denouement', 'cow', 'uniforms', 'pointing', 'eli', 'nun', 'misunderstood', 'gibson', 'rips', 'geek', 'reiser', 'stern', '1992', 'varied', 'apt', 'likeable', 'frozen', 'paranoid', 'ram', 'antagonist', 'momentum', 'protest', 'generate', 'combs', 'eagerly', 'iranian', 'stalked', 'foil', 'pros', 'replies', 'abandon', 'meyer', 'georgia', 'hi', 'coma', 'festivals', 'geisha', 'paints', 'plodding', 'relating', 'gallery', 'stiles', 'galactica', 'resembling', 'precise', 'lastly', '1951', 'sketches', \"b'not\", 'pen', 'diner', 'communication', 'gloria', 'gigantic', 'foremost', 'glimpses', 'dismiss', 'collins', 'sights', 'necessity', 'revolving', 'warden', \"b'to\", 'graduate', 'dominic', 'therapy', 'composition', 'frantic', 'slater', '1943', 'lunatic', 'faux', 'rea', 'launch', 'linked', 'phones', 'bats', 'intensely', 'injury', 'northam', 'snipes', 'bauer', 'traps', '85', 'widowed', 'overs', 'goat', 'slim', 'destination', 'paths', 'hippies', 'comeback', 'lens', 'madsen', 'realistically', 'glance', 'brett', 'bleed', 'apocalyptic', 'politicians', 'tho', 'quasi', 'convict', 'rounds', 'casablanca', 'brat', 'sebastian', 'guardian', 'sg', 'heath', 'gaps', 'hostel', 'burnt', 'carlito', 'pans', 'blaise', 'gestures', 'hayes', 'hooper', 'lurking', 'shotgun', 'scenarios', 'periods', 'alliance', 'stardust', 'ww2', 'wayans', 'redneck', 'sweden', 'hostage', 'rehash', 'goldsworthy', 'hysterically', 'awareness', 'rice', 'resistance', 'imaginary', 'maureen', 'services', 'participants', 'saloon', 'trauma', 'overbearing', 'haunt', 'characterisation', 'characterizations', 'rolls', 'reflected', 'offend', 'studied', 'substantial', 'shore', 'occult', 'playwright', 'veterans', 'barney', 'safely', 'gloomy', 'convent', 'supreme', 'sonny', 'hmmm', \"it'll\", 'apple', 'fleet', 'fuel', 'psychedelic', 'jagger', 'gus', 'homicidal', 'gathering', 'bearing', 'existing', 'upcoming', 'pressed', 'ignoring', 'epics', 'entrance', 'benefits', 'maintains', 'qualify', 'revival', 'kells', 'incest', 'brooke', 'extensive', 'complications', \"'80s\", 'addressed', 'ajay', 'marisa', 'biopic', 'wright', 'goldie', 'evans', 'applies', 'rewarded', 'unstable', 'unclear', 'handicapped', 'joking', 'avid', 'ignores', 'pivotal', 'ample', 'popped', 'nuanced', 'shin', 'stake', \"mother's\", \"they'll\", 'sunset', 'tightly', 'du', 'eh', 'pilots', 'jude', '1963', 'midst', 'hinted', 'applied', 'olsen', 'talky', 'payoff', 'silverman', 'laboratory', 'enchanted', 'rodriguez', 'fellini', 'targeted', 'jar', 'ny', 'parrot', 'brent', 'capacity', 'russo', 'girlfriends', 'vignettes', 'baron', 'envy', 'shah', 'omar', 'sparks', 'stadium', 'mins', 'adele', 'rupert', 'angelina', 'myrtle', 'shahid', 'johansson', 'giovanna', 'coburn', 'rebels', 'interpretations', 'valid', 'ins', 'nutshell', 'exploitative', 'fruit', 'apocalypse', 'curiously', 'randall', 'clunky', 'masked', 'interviewed', 'resolve', 'plate', 'sufficient', 'unfolding', 'madeleine', 'merry', 'caretaker', 'marked', 'sour', 'mannered', 'announced', 'versa', 'thailand', 'slower', 'sly', \"'60s\", 'flag', 'nightmarish', 'simpsons', 'engine', 'stations', 'gosh', 'bennett', 'whore', 'observations', 'murderers', 'repeats', 'boots', 'hating', 'benjamin', 'invested', 'prophecy', 'bias', '1932', 'voyager', 'questioning', 'slashers', 'blockbusters', 'controls', 'pose', 'diversity', 'hines', 'october', '27', 'profile', 'doyle', 'observation', 'iq', 'finney', 'vivian', 'favourites', 'gorilla', 'replacement', 'duh', 'reunite', 'dynamite', 'stabbing', 'array', 'acknowledge', 'organization', 'phoenix', 'courtesy', 'fortunate', 'assure', '1955', 'drowned', 'tire', 'disco', 'interior', 'protection', 'doug', 'sensibility', 'skeptical', 'boundaries', 'turkish', 'nauseating', 'cena', 'divided', 'pornography', 'blandings', 'witnessing', 'maximum', 'brides', 'collar', 'excellence', 'outlandish', 'lo', 'choir', 'lang', 'mccarthy', \"show's\", \"b'okay\", 'spotlight', 'wartime', 'rightly', 'novelist', 'upstairs', 'sincerity', 'janet', 'fart', 'famed', 'watcher', 'magically', 'seduce', 'criticized', 'cody', 'marcel', 'peggy', 'commanding', 'weekly', 'thrust', 'strung', 'needing', 'beard', 'admits', 'climbing', 'observe', 'landmark', 'godard', 'bittersweet', 'phantasm', 'marine', 'confined', 'daytime', 'chuckles', 'sheets', 'portuguese', 'commendable', 'finishes', 'greene', 'sanity', 'projected', 'colleague', 'raging', 'realises', 'entries', 'smug', 'obscurity', 'displaying', 'candle', 'inadvertently', 'delirious', 'satanic', 'unappealing', 'conductor', 'meredith', 'baddies', 'enduring', 'counting', 'preaching', 'thereby', 'tones', 'stereotyped', 'enchanting', 'shocks', 'similarity', 'frost', 'turtle', 'se', 'villainous', 'chaotic', 'reserved', '26', 'smell', 'progressed', 'inter', 'interrupted', 'arrogance', 'fundamental', 'monotonous', 'cheers', 'ernie', 'waking', 'harrowing', 'evokes', 'customers', 'platform', 'trivial', 'resume', 'crushed', 'chew', 'manipulation', 'russ', 'insert', 'understatement', 'imagining', 'battlestar', 'chewing', 'somethings', 'bonham', 'peril', 'ripoff', 'orchestra', 'unnatural', 'cocaine', 'deemed', 'hawn', 'loren', 'slavery', 'palm', 'substitute', 'locke', 'bust', 'lopez', '1958', 'relying', 'recover', 'scheming', 'seattle', 'hmm', 'jo', 'finishing', 'beers', 'subsequently', 'collector', 'yell', 'misty', 'cheerful', 'dangerously', \"b'how\", 'anita', 'ninety', 'achievements', 'celebrities', 'carlos', 'stumble', 'aesthetic', 'forgets', 'participate', 'district', 'sylvia', 'comparable', 'understandably', 'climatic', 'hardened', 'feinstone', 'bernsen', 'pizza', 'serbian', 'incestuous', 'hallmark', 'reagan', 'natali', 'quintessential', 'je', 'motel', 'admirer', 'goings', 'convenient', 'accompanying', 'shameless', 'gackt', 'boo', 'penned', 'traumatic', 'camping', 'vargas', 'rendering', 'reluctantly', 'protective', 'client', 'charges', 'mandy', 'fetish', 'suzanne', 'layered', 'stuffed', 'remark', 'despise', 'ferrell', 'crooks', 'explode', 'clarity', 'devotion', 'spontaneous', 'cancelled', 'unfamiliar', 'desk', 'article', 'sins', 'spade', 'reminding', 'boogie', 'laying', 'contestant', 'dafoe', 'isabelle', 'hostile', 'thunder', 'blazing', 'dallas', 'seth', 'herd', 'shred', 'glossy', 'testing', 'sholay', 'egyptian', 'accidental', 'file', 'chandler', 'wrestler', 'vonnegut', 'filmography', 'bert', 'myrna', 'discipline', 'diego', 'beckham', 'travis', 'forgiveness', 'scarlett', 'jackman', 'govinda', 'flavia', 'surround', 'digging', 'oblivious', 'voodoo', 'ruled', 'garfield', 'characteristic', 'burial', 'transparent', 'taut', 'unconventional', 'lara', 'conclusions', 'sack', 'awry', 'sunk', 'drowning', 'melancholy', 'relaxed', 'monroe', 'wholesome', 'kindly', 'dreaming', 'restraint', 'earliest', 'eagle', 'summed', 'chloe', 'creations', 'henchmen', 'considers', 'bean', 'proceed', 'annoy', 'tide', 'mart', 'ala', 'cheering', 'coolest', 'temper', 'sexist', 'riff', 'inserted', 'visconti', 'implies', 'cells', 'byron', 'krueger', 'titular', 'wesley', 'constraints', 'kinski', 'fires', 'rampant', 'fritz', 'sheep', 'flows', 'tits', 'admission', 'grendel', 'semblance', 'unnecessarily', 'fades', 'hugo', 'monks', 'shameful', 'fraud', 'orphan', 'regime', 'grin', 'cedric', 'faded', 'prop', 'whimsical', 'raunchy', 'pia', 'affecting', 'senator', 'sales', 'espionage', 'raid', 'pee', 'gena', 'defining', 'bonanza', 'polar', 'takashi', 'edison', 'babes', 'warehouse', 'kirsten', 'rebellion', '1946', 'drift', 'miraculously', 'xa1', 'verge', 'flashing', 'rourke', 'busby', 'cracks', 'tools', 'pornographic', 'flip', 'excels', 'harron', 'abundance', 'zodiac', 'gannon', 'kristofferson', 'captivated', 'scarecrows', 'informer', 'ealing', 'ideals', 'sitcoms', 'wee', 'traditions', '2009', 'sherlock', 'hunted', 'perverted', 'unhinged', 'duchovny', 'rivals', 'sickness', 'caprica', 'guevara', 'distributed', \"b'having\", 'spoiling', 'license', 'infinitely', 'plug', 'pursuing', 'switching', 'belle', 'listened', 'deeds', 'variation', 'searched', 'tin', 'heap', 'evoke', 'ambiance', 'fodder', 'val', 'alarm', 'irritated', 'reject', \"b'no\", 'betrayed', 'zelah', 'networks', 'censorship', 'nora', 'luc', 'deathtrap', 'liner', 'committing', \"b'so\", 'oprah', 'presidential', 'sporting', 'madison', 'pitched', 'screened', 'openly', 'submarine', 'juice', 'motivated', '1966', 'cloak', '1957', 'dreyfuss', 'monica', 'unleashed', 'vcr', 'assumes', 'castro', 'macmurray', 'liotta', 'visitor', 'deepest', 'snap', 'pauline', 'gretchen', 'criticisms', 'buffy', 'slut', 'paycheck', 'pecker', 'beforehand', 'awaiting', 'spiral', 'coward', 'avoids', 'engineer', 'gangs', 'underdeveloped', 'radiation', 'overtones', 'sane', 'imho', 'programme', 'demeanor', 'clouds', 'ensue', 'sophia', 'vapid', 'salvage', 'croc', 'spaceship', 'circa', 'tashan', 'shannon', 'uneasy', 'egypt', 'mud', 'letdown', 'sucking', 'practical', 'joining', 'dominate', 'adapt', 'shirts', 'massey', 'intend', 'wherever', 'remainder', 'robotic', 'compensate', 'chops', 'ma', 'assistance', 'ghostly', 'faint', 'ghastly', 'inclined', 'permanent', 'dwight', 'encouraged', 'philo', 'automatic', 'fiend', 'ch', 'flame', 'dragging', 'battlefield', 'complained', 'occupied', \"50's\", 'coop', 'elsa', 'joint', 'sheridan', 'failures', 'dillinger', 'battling', 'brit', 'dash', 'distinction', 'outrageously', 'shrek', 'defending', 'stepmother', 'toxic', 'progression', 'idealistic', 'experts', 'confuse', 'knees', 'hobgoblins', 'awarded', 'mira', 'avenge', 'notices', 'prologue', 'borrow', '1000', 'whip', 'atrocity', 'enormously', 'faye', 'ninjas', 'patty', 'aaron', 'noting', 'crashed', \"wife's\", 'robbed', 'meadows', 'cassie', 'fairness', 'pretends', 'connie', 'transport', 'badness', 'bartender', 'samuel', 'darkly', 'happenings', 'caper', 'sober', 'vigilante', 'flowing', 'revolver', 'runaway', 'investment', 'holt', 'incidental', 'deck', 'atlantic', 'edges', 'boogeyman', \"characters'\", 'epitome', 'scarlet', 'marijuana', 'detached', \"girl's\", \"1950's\", 'redgrave', 'garage', 'impending', 'solved', 'em', 'forrest', 'lindy', 'britney', 'dunst', 'suave', 'scratching', 'sections', 'dom', 'carpet', 'sho', 'vincenzo', 'howling', 'quaint', 'admiration', 'buttons', 'diving', 'colony', 'mega', 'fashions', 'sharks', 'mister', 'ernest', 'upbeat', 'abomination', 'paz', 'principles', 'melbourne', 'martians', 'mustache', 'electronic', 'warrant', 'ursula', 'englund', 'pigs', 'bloodbath', 'offense', 'han', 'everett', 'gypsy', 'brashear', 'prone', 'artemisia', 'hometown', 'tess', 'prostitutes', 'gandolfini', 'grease', 'helmet', 'nineties', 'coppola', 'depardieu', 'secure', 'preacher', 'paragraph', 'worrying', 'saints', 'associate', 'woefully', 'socially', 'tackle', 'torment', 'classmates', 'influences', \"we'll\", 'counterparts', 'xa0', 'prostitution', 'dillon', 'celebrate', 'respond', 'concentration', 'geoffrey', 'asset', 'bimbo', 'brazilian', 'aniston', 'rohmer', 'madman', 'kareena', 'superstar', 'acclaim', 'outset', \"everyone's\", 'gino', \"b'we\", 'manipulated', 'facility', 'interiors', 'division', 'vibe', 'sergio', 'parodies', 'carr', 'martino', 'rivalry', 'clinic', 'breathe', 'weirdness', 'lubitsch', 'poet', 'managing', 'clyde', 'riders', 'sinks', 'tacked', 'bastard', 'combining', 'liberty', 'bodyguard', 'ang', 'budding', 'magazines', 'tended', 'conveying', 'padding', 'closure', 'reported', 'brush', 'blames', 'elected', 'attic', 'banks', 'peers', 'palestinian', 'slam', 'programming', 'lindsey', 'annoyance', 'norton', 'prank', 'baked', 'economy', 'mediocrity', 'unravel', 'lin', 'courageous', 'billing', 'knights', 'disappearance', 'stoned', 'chip', 'stab', 'bleeding', 'dictator', 'marvin', 'symbols', 'blondell', 'midget', 'grating', 'effortlessly', 'distinctive', 'bites', 'meek', \"b'with\", 'disregard', 'believability', 'policemen', 'boobs', 'employees', 'frat', 'framing', 'timed', 'queens', 'shield', 'zu', 'booth', 'gig', 'cohesive', 'qualifies', 'pairing', 'spoofs', 'sensual', 'roach', 'benny', 'barnes', 'ol', 'spelling', 'plummer', 'spelled', 'retirement', 'emmy', 'loner', 'malden', 'tramp', 'reasoning', 'drain', 'norris', 'chock', 'casted', 'mae', 'shelter', 'informs', 'mack', 'surrender', 'categories', 'drum', 'swiss', 'brandon', 'pompous', 'drawings', 'december', 'collapse', 'grandpa', 'animator', 'ali', 'tolerate', 'signature', 'ostensibly', 'screenplays', 'uncertain', 'advances', 'derived', 'stirring', 'allan', 'officially', 'attendant', 'beetle', \"b'let\", 'nest', 'irving', 'data', 'farrah', 'dern', 'della', 'manic', 'troopers', 'sibling', 'redford', 'cursed', 'butchered', 'myra', 'worship', 'playful', 'influential', 'terrorism', 'tolerance', 'hans', 'burgess', 'ing', 'sensitivity', 'responds', 'shocker', 'apollo', 'inconsistencies', 'inform', 'brick', 'transforms', 'lighthearted', 'fiery', 'elephants', 'judgement', 'placement', 'yells', 'dish', 'slept', 'katie', 'gasp', 'systems', 'dyke', 'structured', 'anxiety', 'examine', 'jigsaw', 'boards', 'ads', 'reunited', 'clarence', 'payne', 'laser', 'damsel', 'sammy', 'sites', 'bless', 'jam', 'armor', 'bing', 'mobster', 'arnie', 'perverse', 'predecessors', 'gruff', 'transplant', 'replacing', 'injustice', 'labeled', 'dwarf', 'theatres', 'confines', '250', 'seriousness', '500', 'strained', 'sacrifices', 'retro', 'perspectives', 'sustain', 'morse', 'cheech', 'travolta', 'fabric', 'forsythe', 'abu', 'ewoks', 'sensibilities', '1942', 'marcus', 'maurice', 'gen', 'hanzo', 'floriane', 'fagin', 'anguish', 'marrying', 'sync', 'lurid', 'islands', 'sophistication', 'curtain', 'enthralling', 'kilmer', 'identified', 'henchman', 'peaks', 'vet', 'groove', 'sandy', 'kidnaps', 'crypt', 'jewelry', 'shout', 'tina', 'widower', 'fixed', 'cockney', 'czech', 'marines', 'depend', 'alba', 'determine', 'ceremony', 'drastically', 'sensational', 'russians', 'supermarket', 'allies', 'theodore', '1949', 'hairy', 'nearest', 'premiered', 'hallucinations', 'willingly', 'cowardly', 'diaz', 'distorted', 'fiasco', 'lars', 'stares', 'rant', 'fitzgerald', 'stricken', 'justification', 'geniuses', 'cringing', 'reno', 'muriel', 'emphasize', 'bloodshed', 'entertains', 'coal', 'mines', 'rockets', 'lifts', 'bio', 'shatner', \"b'why\", 'starship', 'amid', 'baddie', 'stabs', 'drugged', 'spotted', 'ceiling', 'lingering', 'uptight', 'lizard', 'scriptwriter', 'sorrow', 'beth', 'natasha', 'overwrought', 'egg', 'bitchy', \"b'yes\", 'barker', 'virtue', 'bombed', 'vaughn', 'presume', 'shoved', 'bliss', 'manga', 'confession', 'parks', 'officials', 'transported', 'mixes', 'rousing', 'awfulness', 'powered', 'monologues', 'fur', 'standpoint', 'handy', 'monday', 'orlando', 'farnsworth', 'latino', 'plagued', 'functions', '1965', 'fierce', 'drummer', 'portions', 'locale', 'padded', \"he'll\", 'correctness', 'worm', 'sara', 'berenger', 'daria', 'seduction', 'register', 'tricked', 'mercifully', 'mythical', 'imitate', 'adultery', 'throne', 'scarier', 'echoes', 'plotted', 'crowded', 'impressions', 'fighters', 'alexandra', 'tasty', 'kaufman', 'inexperienced', 'observed', 'bigfoot', 'dealers', 'cunning', 'captive', 'freed', 'towns', 'interplay', 'staging', 'representing', 'thereafter', 'communism', 'funky', 'varying', 'thereof', 'maintaining', 'condemned', 'aircraft', 'romania', 'auteur', 'ss', 'overshadowed', 'keanu', 'warhols', 'downfall', 'yarn', 'rodney', 'surf', 'apartheid', 'gently', 'finely', 'zeta', 'stripper', 'mash', 'muni', 'mocking', '73', 'dedication', 'threads', 'ratio', 'foreboding', 'borrows', 'hilton', 'airing', 'locate', 'segal', 'lists', 'lays', 'missions', 'kings', 'potent', 'continent', 'paired', 'abroad', 'steaming', 'dopey', 'denial', 'reckless', 'bald', 'bogdanovich', 'chevy', 'clutter', 'irrational', 'fuss', 'corbin', 'strain', 'censors', 'caution', 'blessed', 'switches', 'vaudeville', 'representative', 'accomplishment', 'opposition', 'mamet', 'guru', 'undercover', 'echo', 'trusted', 'icy', 'capitalism', 'subdued', 'spells', 'promoting', 'dunne', 'abstract', 'authors', 'earns', 'superfluous', 'imprisoned', 'flew', 'nifty', 'wrongly', 'denying', 'proportions', 'downbeat', 'laced', 'disappoints', 'surgeon', '1920s', 'hypnotic', 'outlaw', 'predictability', 'conflicted', 'intelligently', 'villa', 'winners', 'hunky', 'gathered', 'confronts', 'confirmed', 'pub', 'temptation', 'groundbreaking', 'continuously', 'consumed', 'luxury', 'heather', 'deborah', 'extraordinarily', 'glenda', 'grossly', 'dukakis', '98', 'cheesiness', 'robbing', 'gravity', 'profoundly', 'chemical', 'judges', 'rhyme', 'barton', 'todays', 'sensation', 'sigh', 'horn', 'arch', 'sammi', 'collaboration', 'federal', 'contributes', 'significantly', 'operate', 'developments', 'animations', 'vertigo', 'launched', 'almighty', 'analyze', 'thug', 'mcdowell', 'decency', 'archer', 'torturing', 'photograph', 'noam', 'fanning', 'crooked', 'slash', 'bart', 'fence', 'dive', 'millennium', 'identities', 'pervert', 'predicted', 'bon', 'pepper', 'jerky', 'helena', 'uninspiring', 'ballroom', 'sasquatch', 'optimism', 'henderson', 'rosenstrasse', 'bronte', 'intellectually', 'mutants', '1964', 'bills', 'applause', 'hurry', 'showcases', 'limp', 'seuss', 'engagement', 'jabba', 'reese', \"someone's\", 'chen', 'athletic', 'gladiator', 'icons', 'artistically', 'richly', 'lions', 'forbes', 'harbor', 'lil', 'maturity', 'gusto', 'cannibals', 'romanian', 'ossessione', 'caruso', 'brennan', 'snowy', 'oblivion', 'corridors', 'preferably', 'bothers', 'ledger', 'deservedly', 'pam', 'whipped', 'liberties', 'mills', 'aboard', 'billion', 'glow', 'illustrate', 'increasing', 'satisfactory', 'kenny', 'rizzo', 'operating', 'tables', 'loony', 'expresses', 'lt', \"b'some\", 'jew', 'nonexistent', 'lightweight', 'chop', 'shelves', 'keeper', 'unnerving', 'michaels', 'owe', 'quirks', 'cinematographic', 'supportive', 'melt', 'garde', 'tedium', 'willy', 'lorre', 'thirds', 'fewer', 'reportedly', 'manipulate', 'distinctly', 'transitions', 'toro', 'ravishing', '1938', 'cloth', 'sweeping', 'cracker', 'hawaii', 'youngsters', 'puzzled', 'golf', 'efficient', 'increase', 'ongoing', 'thorn', 'violently', 'bloke', 'moonstruck', 'heroin', 'shifting', 'toss', 'anchors', 'granger', 'appalled', 'shrill', 'tsui', 'ebay', 'witted', 'sore', 'illustrated', 'pleasures', 'alcoholism', 'heavenly', 'luthor', 'shiny', 'righteous', 'izzard', 'euro', 'inhabit', 'visceral', 'ranger', 'conniving', 'brunette', 'bullies', 'explanations', 'throats', 'defy', 'sleeper', 'shady', 'slaughtered', 'cheung', 'notwithstanding', 'lesbians', 'upbringing', 'hammerhead', 'penalty', 'lawn', 'blackmail', 'atomic', 'prefers', 'cynicism', 'sleepy', 'dodgy', 'patriotic', 'virginity', 'profit', 'dante', 'knocking', 'zhang', \"disney's\", 'genetic', 'behaving', 'civilians', 'languages', 'edmund', 'stevenson', 'spinning', 'boost', 'unwilling', 'vienna', 'lansbury', 'penguin', 'fulfilling', 'marx', 'bearable', 'hale', 'hazzard', 'mechanic', 'scattered', 'uncredited', 'rudd', 'hustler', 'sarne', 'muscle', 'idiocy', 'midler', 'harilal', 'percent', 'booker', 'lds', 'melinda', 'lanza', 'autobiography', 'nerdy', 'torch', 'hungarian', 'durbin', 'barbarian', 'simba', 'compromise', 'celine', 'zany', 'succession', 'elisha', 'innuendo', 'breakthrough', 'moderately', 'rogue', 'na', 'herrings', \"b'another\", 'notions', 'flipping', 'doris', 'sixteen', 'slips', 'perceived', 'mans', 'tasks', 'supports', 'bothering', 'relaxing', 'dickinson', 'encourages', 'heartless', 'rapes', 'attributes', 'amoral', 'healing', 'mandatory', 'flamboyant', 'seventh', 'goo', 'pond', 'fleeting', 'bonds', 'shakespearean', 'improvised', 'lommel', 'lure', 'wan', 'animators', 'aztec', 'rack', 'zealand', 'prolonged', 'rko', 'dangers', 'disasters', 'climate', 'meanings', 'association', 'freaked', 'legion', 'll', 'needlessly', 'keitel', 'unconscious', 'ranging', 'gays', 'schwarzenegger', 'prophet', 'believer', 'carnival', 'metropolis', 'pals', 'coverage', 'fawcett', 'grisly', 'jurassic', 'fulfill', 'elder', 'honey', 'mockery', 'chat', 'inch', 'mcdermott', 'denver', 'culkin', 'ogre', 'recurring', 'rotting', \"family's\", 'weaver', 'welch', 'annoyingly', 'crenna', 'mac', 'penis', 'tango', 'vulnerability', 'holland', 'protecting', 'liz', 'prot', \"freddy's\", 'scandal', 'sleuth', 'knives', 'simpler', 'comprised', 'backwoods', 'reruns', 'electricity', 'aura', 'alienation', \"should've\", 'illusion', 'priests', 'traveled', 'lightly', 'thumb', 'subtitled', 'recovering', 'mcadams', 'leaps', 'heir', 'bishop', 'prejudices', 'mcgavin', 'meyers', 'cousins', 'swords', 'relates', 'examined', 'christensen', 'astonishingly', 'prolific', 'zoom', \"we'd\", 'mostel', 'peterson', 'sloane', 'fleeing', 'numbingly', 'dental', 'clockwork', 'wu', 'pertwee', 'happier', 'purse', 'overtly', 'taker', 'deadpan', 'doses', 'immigrants', 'compositions', 'agatha', 'irresistible', 'wrath', 'monastery', 'imply', 'retrieve', 'urgency', 'trendy', 'architect', 'elmer', 'sabu', 'proudly', 'volumes', 'teddy', 'pistol', 'afghanistan', 'peckinpah', 'eddy', '1931', 'muscular', 'levy', 'ahmad', 'frenzy', 'conquest', 'distinguished', 'slug', 'jock', 'insignificant', 'continuous', 'hoover', 'giggle', 'shattering', \"b'from\", 'expressing', 'crawl', 'concentrated', 'recreate', 'spitting', 'feared', 'counted', '48', 'sorvino', 'steamy', '400', 'neeson', 'lange', 'temporary', 'passive', 'benoit', 'neglect', 'nutty', 'behalf', 'delia', 'borderline', 'locales', 'snatch', 'balloon', 'naval', 'janitor', 'welcomed', 'muted', 'bombing', 'rusty', 'expand', 'inhabited', 'amok', 'stalks', 'theirs', 'breathless', 'rapture', 'dogma', 'impeccable', 'backdrops', 'portman', 'dodge', 'stature', 'unemployed', 'harlem', 'joshua', 'toe', 'smarmy', 'counterpart', 'irresponsible', 'rico', 'straw', 'truthful', 'cruella', 'wwi', 'rugged', 'shamelessly', 'retelling', 'associates', 'behaves', 'tested', 'pavarotti', 'watered', 'heavens', 'interspersed', '1941', 'islam', 'adequately', 'chocolate', 'intellect', 'placing', 'khouri', 'versatile', 'gage', 'posh', 'bucket', 'pour', 'cradle', 'recipe', 'stimulating', \"'hara\", 'treating', 'assortment', 'kramer', 'imitating', 'limbs', 'yearning', 'poke', 'architecture', 'existential', 'sailors', 'compassionate', 'caesar', 'pranks', 'jolly', 'branch', 'rebecca', 'tobe', 'hedy', 'honeymoon', 'rewrite', 'cillian', 'guided', 'climbs', 'roads', 'largest', 'transformers', 'grady', 'worldwide', 'keeler', 'cheat', 'hug', 'xa8', 'stretches', 'opponents', 'administration', 'overwhelmed', 'kingsley', 'concludes', 'custody', 'hector', 'drivers', 'burden', 'morgana', 'kamal', 'crass', 'academic', 'shawn', 'hopeful', 'induced', 'mastroianni', 'management', 'dani', 'inc', 'claw', 'mastermind', 'plants', 'wolves', 'kiddie', 'fable', 'unlucky', 'insects', 'sematary', 'boxes', 'luzhin', 'expanded', 'carface', 'theo', 'backyard', 'cortez', 'ash', 'sykes', 'ae', 'pasolini', 'kornbluth', 'azumi', 'joanna', 'condescending', 'vault', 'disappearing', 'collecting', 'mutated', 'creepiness', 'rehearsal', 'nailed', 'planted', 'mold', 'woven', 'revelations', 'boyfriends', 'premises', 'daphne', 'january', 'deathstalker', 'choreographer', 'lotr', 'marlene', 'usage', 'stumbling', 'shaun', 'slew', 'contemplate', 'archive', 'discernible', 'waving', 'philadelphia', 'psychiatric', 'traumatized', 'passenger', 'hesitate', 'enhances', 'bursts', 'dreadfully', 'bruckheimer', 'arizona', 'overacts', 'chef', 'chapters', 'didnt', 'ecstasy', 'hardest', 'villagers', 'loathing', 'perceive', 'supporters', 'democracy', 'orgy', 'blink', 'marred', 'drums', 'passions', \"'73\", 'duryea', 'screamed', 'shack', 'inherited', 'lecture', 'smarter', 'subtleties', 'discussions', 'speechless', 'prevalent', 'platoon', 'alienate', 'aweigh', 'lyrical', 'dripping', 'stereotyping', 'benson', 'poo', 'cocky', 'converted', 'elliot', 'stupidest', 'capsule', 'conduct', 'undeveloped', 'slows', 'rhys', 'illiterate', 'oppressive', 'roommates', \"year's\", 'maverick', 'pets', 'seal', 'connolly', 'apprentice', 'farewell', 'wits', 'saddest', 'footsteps', 'conception', \"'mon\", 'historians', 'suspended', 'confronting', 'apologize', 'hispanic', 'honorable', 'puzzling', 'submit', 'skipping', 'revive', 'anonymous', 'intruder', 'cheaper', 'valerie', 'tel', 'incompetence', 'gimmicks', 'kindness', 'opener', 'danning', 'stir', '700', 'practices', 'swift', 'bolivia', 'sessions', 'connor', 'micheal', 'uber', 'concentrates', 'fairytale', 'knox', 'brits', 'lovingly', 'denied', 'consisted', 'embarrass', 'atrocities', 'infidelity', '18th', 'splitting', 'sleeve', 'marathon', 'callahan', 'casually', 'palette', 'liar', 'alligator', 'undertaker', 'waits', 'tourists', 'darling', 'gee', 'customs', 'downtown', 'knack', 'woke', 'carson', 'bonding', 'dietrich', 'approximately', 'pickup', 'bash', 'revolting', 'loop', 'supremacy', 'zabriskie', 'cocktail', 'mpaa', 'elevate', 'lieutenant', 'evolved', 'glee', 'lawyers', 'shaolin', 'candidates', 'stubborn', 'disdain', 'regrets', 'springs', 'carole', 'relied', 'smoothly', 'pita', 'grounded', 'hogan', 'choke', 'forgivable', 'sheila', 'viggo', 'celeste', 'flea', 'mattei', 'panahi', 'squeeze', 'switzerland', 'matching', 'scantily', 'bathing', 'diabolical', 'grain', 'entertainer', 'backing', 'draft', 'nuance', 'sixty', 'cloud', 'partial', 'daisies', 'organs', 'eliminate', 'astronauts', 'liza', 'eater', 'surpasses', 'rushes', 'dusty', 'confirm', 'whacked', 'adopt', 'marquis', 'underdog', 'gym', 'outrage', 'italians', 'regal', 'thankful', 'rightfully', 'streak', 'suggestive', 'psychologically', 'intestines', 'satellite', 'werner', 'render', 'misplaced', 'lap', 'wipe', 'adventurous', 'requisite', 'reincarnation', 'stoic', 'strikingly', 'creeps', 'sparse', 'classified', 'kinky', 'garnered', 'leno', 'kerr', 'sacrificed', '1956', 'assist', 'mo', 'regain', 'vengeful', 'bravery', 'stepped', 'phrases', 'promotion', 'slipped', 'equals', 'grandparents', 'locks', 'replay', 'azaria', 'sentenced', 'fanatics', 'delve', 'astronaut', 'participation', 'fleming', 'empathize', 'mining', 'leia', 'crowds', 'overt', 'reception', 'spectrum', 'interpret', 'restless', 'brink', 'lucio', 'clumsily', 'lung', 'proverbial', 'obscene', 'cbc', 'operas', 'monstrous', 'crook', 'spears', 'mindset', 'documented', 'alternately', 'chains', 'apartments', 'technological', 'spectacularly', 'bass', 'listing', 'dime', 'acknowledged', 'vic', 'travelling', \"other's\", 'documents', 'betrays', 'longtime', 'graves', 'horizon', 'monstrosity', 'superiors', 'leopold', 'surfers', 'basil', 'levant', 'caf', 'sans', 'rests', 'duties', 'stoltz', 'kentucky', 'bury', 'request', 'corleone', 'shrink', 'friendships', 'allison', 'crowe', 'irwin', '33', 'vets', 'anchorman', 'untrue', 'prevented', 'capt', 'witless', 'immersed', 'insanely', 'pauses', 'hamill', 'overseas', 'snippets', 'swamp', 'crow', 'fugitive', \"keaton's\", 'dense', 'telly', 'hiv', 'societies', 'bout', 'sr', 'mourning', 'montages', 'stripped', 'hark', 'oriental', 'korda', 'dominick', 'tensions', 'november', 'newcombe', 'maguire', 'lombard', 'coleman', 'norwegian', 'email', 'maclean', '1935', \"daughter's\", 'looney', 'duff', 'deception', 'grumpy', 'kriemhild', 'crouse', 'itchy', 'diver', 'jed', 'connecting', 'garcia', 'camps', 'caroline', 'incarnation', 'nana', 'albums', \"it'\", 'rainer', 'thirteen', 'episodic', 'gifts', 'plantation', 'employ', 'snappy', 'darkest', 'grips', 'indifference', 'masturbation', 'exhibit', 'inheritance', 'lamas', 'corky', 'bryan', 'disgruntled', 'beau', 'skinned', 'crop', 'exposing', 'emerged', 'strangest', 'flamenco', 'frenetic', 'overnight', 'illustrates', 'extremes', 'ferry', 'raving', 'darkman', 'tepid', 'mischievous', 'occurring', 'btk', 'honour', 'di', 'iceberg', 'wal', 'planets', 'dung', 'aristocrat', 'rub', 'saif', 'foch', 'soles', 'offerings', 'oddball', 'eponymous', 'unfinished', 'babysitter', 'schemes', 'sealed', 'bum', 'butterfly', 'stills', '1937', 'unborn', 'locker', 'ella', 'goof', 'mcintire', 'colourful', 'wondrous', \"dvd's\", 'coarse', 'companions', 'batwoman', 'ideology', 'winston', 'hes', 'scorpion', 'ewan', 'siege', 'outta', 'eggs', 'stud', 'apologies', 'monumental', 'nuns', 'blaine', 'stable', '1920', 'teamed', 'il', \"b'despite\", 'unimpressive', 'gardens', 'universally', 'retain', 'tremors', 'flee', 'norma', 'polite', 'rigid', 'supplies', 'cristina', 'harmony', 'hurting', 'shakes', 'aiello', 'forum', \"king's\", 'downside', 'stepping', 'insulted', 'edits', 'practicing', 'runtime', 'colonial', 'operatic', 'misfire', 'allegory', 'fireworks', 'surrogate', 'addressing', 'hunk', 'greenaway', 'societal', 'topped', 'keyboard', 'voting', 'praying', 'endured', 'rocker', 'exaggeration', 'allegedly', 'shadowy', 'drifter', 'haha', 'seinfeld', 'virtues', 'shouts', 'goer', 'expertise', 'weirdo', 'admirably', 'catastrophe', '1962', '1954', 'logo', 'anchor', 'presumed', 'willem', 'stefan', 'eliminated', 'marvellous', 'tucker', 'inflicted', 'sheet', 'goofs', 'exudes', 'pulse', 'shootings', 'witherspoon', 'quarters', 'variations', 'recalls', 'recreation', 'beaver', 'circuit', 'competently', 'desolate', 'integrated', 'hiring', 'sacred', 'gaining', 'townsend', 'greta', 'gesture', 'hockey', 'solving', 'booze', 'voters', 'holidays', 'smitten', 'gamut', '150', 'chore', 'undertones', 'sweetheart', 'chang', 'veronica', 'roaring', 'interpreted', 'raft', 'dahl', 'celebrating', 'crummy', 'throwaway', 'thinner', 'affections', 'allied', 'sorta', 'wai', 'blackie', 'eleanor', \"b'before\", 'marital', 'grail', 'prototype', 'showtime', 'achieving', 'skywalker', 'criminally', 'cathy', 'wellington', 'jameson', 'positions', 'jackass', 'attributed', 'jessie', 'underused', 'vivah', 'wolverine', 'kalifornia', 'risks', 'compound', 'darius', 'zatoichi', 'floors', 'boarding', 'contacts', 'kisses', 'uniquely', 'groan', 'punchline', 'blessing', 'sentiments', 'misogynistic', 'exhausted', 'enlightenment', 'amusingly', 'menu', 'stealth', 'spliced', 'speaker', 'kerry', 'enthralled', 'rewind', 'interminable', 'unfairly', 'maiden', 'bullying', 'twenties', 'transferred', 'blinded', 'dane', 'mismatched', 'slack', 'askey', 'stakes', 'pokes', 'secluded', 'tanks', 'baffled', 'primal', 'paperhouse', 'deformed', 'botched', 'invent', 'spreading', 'declares', 'retains', 'abominable', 'wicker', 'stray', 'avant', 'starving', 'minions', \"hollywood's\", 'venezuela', 'miracles', 'coen', 'ounce', 'integral', '64', 'closeups', 'texture', 'bee', 'smallest', 'renowned', 'socialist'])"
            ]
          },
          "metadata": {
            "tags": []
          },
          "execution_count": 83
        }
      ]
    }
  ]
}