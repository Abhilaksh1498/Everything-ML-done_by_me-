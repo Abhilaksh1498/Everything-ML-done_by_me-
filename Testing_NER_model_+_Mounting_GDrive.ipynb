{
  "nbformat": 4,
  "nbformat_minor": 0,
  "metadata": {
    "colab": {
      "name": "Testing NER model + Mounting GDrive.ipynb",
      "provenance": [],
      "collapsed_sections": [],
      "authorship_tag": "ABX9TyO/h/UcUEnV71wXIuFXgpzW",
      "include_colab_link": true
    },
    "kernelspec": {
      "name": "python3",
      "display_name": "Python 3"
    },
    "language_info": {
      "name": "python"
    }
  },
  "cells": [
    {
      "cell_type": "markdown",
      "metadata": {
        "id": "view-in-github",
        "colab_type": "text"
      },
      "source": [
        "<a href=\"https://colab.research.google.com/github/Abhilaksh1498/Everything-ML-done_by_me-/blob/master/Testing_NER_model_%2B_Mounting_GDrive.ipynb\" target=\"_parent\"><img src=\"https://colab.research.google.com/assets/colab-badge.svg\" alt=\"Open In Colab\"/></a>"
      ]
    },
    {
      "cell_type": "code",
      "metadata": {
        "id": "ca0zfQIoSaZ_"
      },
      "source": [
        "!pip install git+https://www.github.com/keras-team/keras-contrib.git"
      ],
      "execution_count": null,
      "outputs": []
    },
    {
      "cell_type": "code",
      "metadata": {
        "colab": {
          "base_uri": "https://localhost:8080/"
        },
        "id": "Y4jq7zoXEDHu",
        "outputId": "a7a7e173-ad84-4019-e91a-2f50b99d3b18"
      },
      "source": [
        "from google.colab import drive\n",
        "drive.mount('/content/gdrive')"
      ],
      "execution_count": 1,
      "outputs": [
        {
          "output_type": "stream",
          "text": [
            "Mounted at /content/gdrive\n"
          ],
          "name": "stdout"
        }
      ]
    },
    {
      "cell_type": "code",
      "metadata": {
        "id": "Cz2dB9iPE7QN"
      },
      "source": [
        "import tensorflow\n",
        "import numpy as np\n",
        "from tensorflow.keras.models import load_model\n",
        "import pickle, json"
      ],
      "execution_count": 1,
      "outputs": []
    },
    {
      "cell_type": "code",
      "metadata": {
        "id": "dYO4BKbLHbpl"
      },
      "source": [
        "import json\n",
        "import keras_contrib as kcb"
      ],
      "execution_count": 6,
      "outputs": []
    },
    {
      "cell_type": "code",
      "metadata": {
        "id": "i9_WhWSlFqmE"
      },
      "source": [
        "embeddings_matrix = pickle.load(open('/content/gdrive/MyDrive/weights/embeddings_matrix.pkl', 'rb'))\n",
        "idx2tag = pickle.load(open('/content/gdrive/MyDrive/weights/idx2tag.pkl', 'rb'))\n",
        "with open('/content/gdrive/MyDrive/weights/cust_vocab.json') as f:\n",
        "  word2idx = json.load(f)"
      ],
      "execution_count": 7,
      "outputs": []
    },
    {
      "cell_type": "code",
      "metadata": {
        "colab": {
          "base_uri": "https://localhost:8080/"
        },
        "id": "qwIoa_LYUZJN",
        "outputId": "57eb1a78-e8ce-4896-8309-3536a9ba9db7"
      },
      "source": [
        "print(f'Total words in vocabulary: {len(word2idx.keys())}')\n",
        "print(f'Total tags: {len(idx2tag.keys())}')"
      ],
      "execution_count": 8,
      "outputs": [
        {
          "output_type": "stream",
          "text": [
            "Total words in vocabulary: 11096\n",
            "Total tags: 18\n"
          ],
          "name": "stdout"
        }
      ]
    },
    {
      "cell_type": "code",
      "metadata": {
        "id": "wHEv94oZVUA3"
      },
      "source": [
        "import keras as k"
      ],
      "execution_count": 12,
      "outputs": []
    },
    {
      "cell_type": "code",
      "metadata": {
        "id": "P3GbJwWGUMaq"
      },
      "source": [
        "model = k.models.load_model('/content/gdrive/MyDrive/weights/cust_emb_model.h5', \n",
        "                            custom_objects = {'CRF': kcb.layers.CRF,\n",
        "                                              'crf_loss': kcb.losses.crf_loss,\n",
        "                                              'crf_accuracy': kcb.metrics.crf_accuracy})"
      ],
      "execution_count": 13,
      "outputs": []
    },
    {
      "cell_type": "code",
      "metadata": {
        "colab": {
          "base_uri": "https://localhost:8080/"
        },
        "id": "CXvv6M5oWber",
        "outputId": "21f8a271-9c43-4fed-f115-958b15f83a5a"
      },
      "source": [
        "model.summary()"
      ],
      "execution_count": 16,
      "outputs": [
        {
          "output_type": "stream",
          "text": [
            "Model: \"model_1\"\n",
            "_________________________________________________________________\n",
            "Layer (type)                 Output Shape              Param #   \n",
            "=================================================================\n",
            "input (InputLayer)           [(None, 23)]              0         \n",
            "_________________________________________________________________\n",
            "embedding (Embedding)        (None, 23, 100)           1109700   \n",
            "_________________________________________________________________\n",
            "bidirectional_lstm1 (Bidirec (None, 23, 200)           160800    \n",
            "_________________________________________________________________\n",
            "bidirectional_lstm2 (Bidirec (None, 23, 400)           641600    \n",
            "_________________________________________________________________\n",
            "timedistributed (TimeDistrib (None, 23, 18)            7218      \n",
            "_________________________________________________________________\n",
            "crf_1 (CRF)                  (None, 23, 18)            702       \n",
            "=================================================================\n",
            "Total params: 1,920,020\n",
            "Trainable params: 1,920,020\n",
            "Non-trainable params: 0\n",
            "_________________________________________________________________\n"
          ],
          "name": "stdout"
        }
      ]
    },
    {
      "cell_type": "code",
      "metadata": {
        "id": "T9cniCrXVyM6"
      },
      "source": [
        "model_glove = k.models.load_model('/content/gdrive/MyDrive/weights/glove_model.h5', \n",
        "                            custom_objects = {'CRF': kcb.layers.CRF,\n",
        "                                              'crf_loss': kcb.losses.crf_loss,\n",
        "                                              'crf_accuracy': kcb.metrics.crf_accuracy})"
      ],
      "execution_count": 14,
      "outputs": []
    },
    {
      "cell_type": "code",
      "metadata": {
        "colab": {
          "base_uri": "https://localhost:8080/"
        },
        "id": "4JNQ6DIuWUHt",
        "outputId": "b35b8f1c-a550-449e-a469-2eebd7c2eee2"
      },
      "source": [
        "model_glove.summary()"
      ],
      "execution_count": 15,
      "outputs": [
        {
          "output_type": "stream",
          "text": [
            "Model: \"model_2\"\n",
            "_________________________________________________________________\n",
            "Layer (type)                 Output Shape              Param #   \n",
            "=================================================================\n",
            "input (InputLayer)           [(None, 25)]              0         \n",
            "_________________________________________________________________\n",
            "embedding_3 (Embedding)      (None, 25, 200)           80000600  \n",
            "_________________________________________________________________\n",
            "bidirectional_lstm1 (Bidirec (None, 25, 400)           641600    \n",
            "_________________________________________________________________\n",
            "bidirectional_lstm2 (Bidirec (None, 25, 800)           2563200   \n",
            "_________________________________________________________________\n",
            "timedistributed (TimeDistrib (None, 25, 18)            14418     \n",
            "_________________________________________________________________\n",
            "crf_2 (CRF)                  (None, 25, 18)            702       \n",
            "=================================================================\n",
            "Total params: 83,220,520\n",
            "Trainable params: 3,219,920\n",
            "Non-trainable params: 80,000,600\n",
            "_________________________________________________________________\n"
          ],
          "name": "stdout"
        }
      ]
    },
    {
      "cell_type": "code",
      "metadata": {
        "id": "NHp-NqitXb_Z"
      },
      "source": [
        "from tensorflow.keras.preprocessing.sequence import pad_sequences\n",
        "\n",
        "def pred2label(pred, idx2tag):\n",
        "    out = []\n",
        "    for pred_i in pred:\n",
        "        out_i = []\n",
        "        for p in pred_i:\n",
        "            p_i = np.argmax(p)\n",
        "            out_i.append(idx2tag[p_i])\n",
        "        \n",
        "        out.append(out_i)\n",
        "    \n",
        "    return out\n",
        "\n",
        "def preprocess_request(sent, word2idx):\n",
        "    sent_x = []\n",
        "    for s in [sent]:\n",
        "        temp = []\n",
        "        for w in s.split():\n",
        "            if word2idx.get(w.lower()) != None:\n",
        "                temp.append(word2idx[w.lower()])\n",
        "            else:\n",
        "                temp.append(word2idx['<unk>'])\n",
        "        \n",
        "        sent_x.append(temp)\n",
        "\n",
        "    pad_x = pad_sequences(maxlen=25, sequences=sent_x, padding=\"post\", value=word2idx[\"<unk>\"])\n",
        "\n",
        "    return sent_x, pad_x\n"
      ],
      "execution_count": 42,
      "outputs": []
    },
    {
      "cell_type": "code",
      "metadata": {
        "colab": {
          "base_uri": "https://localhost:8080/"
        },
        "id": "q7pqVKHlWfgS",
        "outputId": "b1a48306-5f4f-46db-e37a-51636b4cda1a"
      },
      "source": [
        "query = input('Enter a Sentence')\n",
        "sent_x , padded_sent = preprocess_request(query, word2idx)\n",
        "pred = model_glove.predict(padded_sent)\n",
        "p = pred2label(pred, idx2tag)\n",
        "\n",
        "p = np.array(p)"
      ],
      "execution_count": 24,
      "outputs": [
        {
          "output_type": "stream",
          "text": [
            "Enter a Sentence'Mark Zuckerberg is one of the founders of Facebook, a company from the United States'\n",
            "[['I-gpe' 'I-eve' 'I-gpe' 'I-gpe' 'I-gpe' 'I-gpe' 'I-tim' 'I-gpe' 'B-geo'\n",
            "  'O' 'I-gpe' 'I-gpe' 'I-gpe' 'I-gpe' 'I-gpe' 'I-gpe' 'I-gpe' 'I-gpe'\n",
            "  'I-gpe' 'I-gpe' 'I-gpe' 'I-gpe' 'I-gpe' 'I-gpe' 'I-gpe']]\n"
          ],
          "name": "stdout"
        }
      ]
    },
    {
      "cell_type": "code",
      "metadata": {
        "colab": {
          "base_uri": "https://localhost:8080/"
        },
        "id": "OzvQ9wcGYiHQ",
        "outputId": "bd088f1d-f3d5-4278-ed33-8b60e821eb3e"
      },
      "source": [
        "print(p[0, : len(sent_x[0])].tolist())"
      ],
      "execution_count": 26,
      "outputs": [
        {
          "output_type": "stream",
          "text": [
            "['I-gpe', 'I-eve', 'I-gpe', 'I-gpe', 'I-gpe', 'I-gpe', 'I-tim', 'I-gpe', 'B-geo', 'O', 'I-gpe', 'I-gpe', 'I-gpe', 'I-gpe', 'I-gpe']\n"
          ],
          "name": "stdout"
        }
      ]
    },
    {
      "cell_type": "code",
      "metadata": {
        "id": "Q2Lz5h1AaQXf"
      },
      "source": [
        "def predict():\n",
        "  query = input('Enter a Sentence: ')\n",
        "  sent_x , padded_sent = preprocess_request(query, word2idx)\n",
        "  pred = model_glove.predict(padded_sent)\n",
        "  p = pred2label(pred, idx2tag)\n",
        "  p = np.array(p)\n",
        "  return p[0, : len(sent_x[0])].tolist()"
      ],
      "execution_count": 59,
      "outputs": []
    },
    {
      "cell_type": "code",
      "metadata": {
        "colab": {
          "base_uri": "https://localhost:8080/"
        },
        "id": "p809HVlPahHF",
        "outputId": "3c127be6-f245-419f-917e-6a23246e0a47"
      },
      "source": [
        "print(predict())"
      ],
      "execution_count": 33,
      "outputs": [
        {
          "output_type": "stream",
          "text": [
            "Enter a Sentence'Air  inlet  inspected  metal  rust  observed'\n",
            "['I-eve', 'I-gpe', 'I-gpe', 'B-geo', 'I-tim', 'I-gpe']\n"
          ],
          "name": "stdout"
        }
      ]
    },
    {
      "cell_type": "code",
      "metadata": {
        "colab": {
          "base_uri": "https://localhost:8080/"
        },
        "id": "fnI4Qxcibfb4",
        "outputId": "4af78c2e-3ac4-4a55-dfef-3e59e54f0bc4"
      },
      "source": [
        "# try a sentence it was trained on\n",
        "print(predict())           # glove_model o/p"
      ],
      "execution_count": 34,
      "outputs": [
        {
          "output_type": "stream",
          "text": [
            "Enter a Sentence'Carry out borescope inspection of turbine in accordance with Siemens procedure referenced in the relevant overhaul manual'\n",
            "['I-gpe', 'I-gpe', 'I-gpe', 'I-gpe', 'I-gpe', 'B-geo', 'O', 'I-gpe', 'B-geo', 'I-gpe', 'I-gpe', 'B-geo', 'I-gpe', 'I-gpe', 'B-geo', 'O', 'I-gpe']\n"
          ],
          "name": "stdout"
        }
      ]
    },
    {
      "cell_type": "code",
      "metadata": {
        "id": "avIur16DcFRC"
      },
      "source": [
        "# Trying the custom_emb model\n",
        "def predict_custom():\n",
        "  query = input('Enter a Sentence: ')\n",
        "  sent_x , padded_sent = preprocess_request(query, word2idx)\n",
        "  pred = model.predict(padded_sent)\n",
        "  p = pred2label(pred, idx2tag)\n",
        "  p = np.array(p)\n",
        "  return p[0, : len(sent_x[0])].tolist()\n"
      ],
      "execution_count": 58,
      "outputs": []
    },
    {
      "cell_type": "code",
      "metadata": {
        "colab": {
          "base_uri": "https://localhost:8080/"
        },
        "id": "V9Dqz2A-dsFf",
        "outputId": "64217959-d4f0-47f9-c8b6-33f67afc2b8e"
      },
      "source": [
        "print(predict_custom())   # custom_emb o/p"
      ],
      "execution_count": 41,
      "outputs": [
        {
          "output_type": "stream",
          "text": [
            "Enter a Sentence'Mark Zuckerberg is one of the founders of Facebook, a company from the United States'\n",
            "['B-eve', 'B-eve', 'B-eve', 'B-eve', 'B-eve', 'B-eve', 'B-eve', 'B-eve', 'B-eve', 'B-eve', 'B-art', 'B-eve', 'B-art', 'B-eve', 'B-art']\n"
          ],
          "name": "stdout"
        }
      ]
    },
    {
      "cell_type": "code",
      "metadata": {
        "colab": {
          "base_uri": "https://localhost:8080/"
        },
        "id": "vkup50uzf0lq",
        "outputId": "66893d84-549a-47d6-f04d-ba10739cc63a"
      },
      "source": [
        "print(predict())          # glove_model o/p"
      ],
      "execution_count": 45,
      "outputs": [
        {
          "output_type": "stream",
          "text": [
            "Enter a Sentence'Mark Zuckerberg is one of the founders of Facebook, a company from the United States'\n",
            "['I-gpe', 'I-eve', 'I-gpe', 'I-gpe', 'I-gpe', 'I-gpe', 'I-tim', 'I-gpe', 'B-geo', 'O', 'I-gpe', 'I-gpe', 'I-gpe', 'I-gpe', 'I-gpe']\n"
          ],
          "name": "stdout"
        }
      ]
    },
    {
      "cell_type": "code",
      "metadata": {
        "id": "dp64imz9nVN_"
      },
      "source": [
        "# modifying the already written predict function to return tuples of NE and classes\n",
        "def predict_custom():             # for sutom_emb model\n",
        "  query = input('Enter a Sentence: ')\n",
        "  sent_x , padded_sent = preprocess_request(query, word2idx)\n",
        "  pred = model.predict(padded_sent)\n",
        "  p = pred2label(pred, idx2tag)\n",
        "  p = np.array(p)\n",
        "  temp = zip(query.split()[:len(sent_x[0])], p[0, : len(sent_x[0])].tolist()) \n",
        "  result = []\n",
        "  for x in temp:\n",
        "    if x[1] != 'O':\n",
        "      result.append(x)\n",
        "  return result\n",
        "\n",
        "\n",
        "def predict():                   # for glove model\n",
        "  query = input('Enter a Sentence: ')\n",
        "  sent_x , padded_sent = preprocess_request(query, word2idx)\n",
        "  pred = model_glove.predict(padded_sent)\n",
        "  p = pred2label(pred, idx2tag)\n",
        "  p = np.array(p)\n",
        "  temp = zip(query.split()[:len(sent_x[0])], p[0, : len(sent_x[0])].tolist()) \n",
        "  result = []\n",
        "  for x in temp:\n",
        "    if x[1] != 'O':\n",
        "      result.append(x)\n",
        "  return result"
      ],
      "execution_count": 63,
      "outputs": []
    },
    {
      "cell_type": "code",
      "metadata": {
        "colab": {
          "base_uri": "https://localhost:8080/"
        },
        "id": "xEJ2n05a04tg",
        "outputId": "35f42f5d-db01-4d2b-dfce-b7d575b602ef"
      },
      "source": [
        "print(predict())          # glove_model o/p"
      ],
      "execution_count": 64,
      "outputs": [
        {
          "output_type": "stream",
          "text": [
            "Enter a Sentence: 'Mark Zuckerberg is one of the founders of Facebook, a company from the United States'\n",
            "[(\"'Mark\", 'I-gpe'), ('Zuckerberg', 'I-eve'), ('is', 'I-gpe'), ('one', 'I-gpe'), ('of', 'I-gpe'), ('the', 'I-gpe'), ('founders', 'I-tim'), ('of', 'I-gpe'), ('Facebook,', 'B-geo'), ('company', 'I-gpe'), ('from', 'I-gpe'), ('the', 'I-gpe'), ('United', 'I-gpe'), (\"States'\", 'I-gpe')]\n"
          ],
          "name": "stdout"
        }
      ]
    },
    {
      "cell_type": "code",
      "metadata": {
        "colab": {
          "base_uri": "https://localhost:8080/"
        },
        "id": "zudNWBzj1UaV",
        "outputId": "d8ca4509-0fff-4be6-dd83-23d2de50fa21"
      },
      "source": [
        "print(predict())"
      ],
      "execution_count": 65,
      "outputs": [
        {
          "output_type": "stream",
          "text": [
            "Enter a Sentence: 'Kate  lives  on  Mars'\n",
            "[(\"'Kate\", 'I-gpe'), ('lives', 'B-geo'), ('on', 'I-gpe'), (\"Mars'\", 'I-gpe')]\n"
          ],
          "name": "stdout"
        }
      ]
    }
  ]
}