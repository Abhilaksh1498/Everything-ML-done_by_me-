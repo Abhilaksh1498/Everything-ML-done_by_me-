{
  "nbformat": 4,
  "nbformat_minor": 0,
  "metadata": {
    "colab": {
      "name": "Saving & loading model.ipynb",
      "provenance": [],
      "authorship_tag": "ABX9TyNV1uQC9wx1Ju/73Zxo7Afd",
      "include_colab_link": true
    },
    "kernelspec": {
      "name": "python3",
      "display_name": "Python 3"
    }
  },
  "cells": [
    {
      "cell_type": "markdown",
      "metadata": {
        "id": "view-in-github",
        "colab_type": "text"
      },
      "source": [
        "<a href=\"https://colab.research.google.com/github/Abhilaksh1498/SoC-20-Chatbot/blob/master/Saving_%26_loading_model.ipynb\" target=\"_parent\"><img src=\"https://colab.research.google.com/assets/colab-badge.svg\" alt=\"Open In Colab\"/></a>"
      ]
    },
    {
      "cell_type": "markdown",
      "metadata": {
        "id": "QPX7uhg6bNpM",
        "colab_type": "text"
      },
      "source": [
        "### Install and import TensorFlow and dependencies"
      ]
    },
    {
      "cell_type": "code",
      "metadata": {
        "id": "-606dtysa7c6",
        "colab_type": "code",
        "outputId": "0a467265-78b4-4c05-9f23-a5eda9d7fc44",
        "colab": {
          "base_uri": "https://localhost:8080/",
          "height": 34
        }
      },
      "source": [
        "!pip install -q pyyaml h5py  # Required to save models in HDF5 format\n",
        "\n",
        "import os\n",
        "\n",
        "import tensorflow as tf\n",
        "from tensorflow import keras\n",
        "\n",
        "print(tf.version.VERSION)"
      ],
      "execution_count": 0,
      "outputs": [
        {
          "output_type": "stream",
          "text": [
            "2.2.0\n"
          ],
          "name": "stdout"
        }
      ]
    },
    {
      "cell_type": "markdown",
      "metadata": {
        "id": "iUg3TOxLg3N0",
        "colab_type": "text"
      },
      "source": [
        "### There are 2 ways of saving model\n",
        "1. manually after completing training\n",
        "2. automatically after every epoch\n",
        "\n",
        "More info here :-\n",
        "\n",
        "\n",
        "```\n",
        "https://www.tensorflow.org/tutorials/keras/save_and_load#manually_save_weights\n",
        "```\n",
        "\n"
      ]
    },
    {
      "cell_type": "code",
      "metadata": {
        "id": "AK5yLLdEbufo",
        "colab_type": "code",
        "outputId": "b1de2d86-d8c3-4af9-fdd3-1a8693d732aa",
        "colab": {
          "base_uri": "https://localhost:8080/",
          "height": 50
        }
      },
      "source": [
        "# Manually saving and loading later on\n",
        "# After training model with fit method use the following\n",
        "\n",
        "# Save the entire model as a SavedModel.\n",
        "!mkdir -p saved_model\n",
        "model.save('saved_model/my_model') \n",
        "\n",
        "# Reload a fresh Keras model from the saved model:\n",
        "new_model = tf.keras.models.load_model('saved_model/my_model')\n",
        "\n",
        "# Check its architecture\n",
        "new_model.summary()        # This model is as if you've just trained a model you can check it with evaluate method\n",
        "\n",
        "# Evaluate the model\n",
        "loss,acc = model.evaluate(test_images,  test_labels, verbose=2)\n",
        "print(\"Restored model, accuracy: {:5.2f}%\".format(100*acc))"
      ],
      "execution_count": 0,
      "outputs": [
        {
          "output_type": "stream",
          "text": [
            "training_1\n",
            "<class 'str'>\n"
          ],
          "name": "stdout"
        }
      ]
    },
    {
      "cell_type": "code",
      "metadata": {
        "id": "mHubQPLTifqN",
        "colab_type": "code",
        "colab": {}
      },
      "source": [
        "# Saving automatically during training and loading thereafter\n",
        "# Create a callback that saves the model's weights\n",
        "cp_callback = tf.keras.callbacks.ModelCheckpoint(filepath=checkpoint_path,\n",
        "                                                 save_weights_only=True,\n",
        "                                                 verbose=1)\n",
        "\n",
        "# save_weights_only: \tif True, then only the model's weights will be saved (model.save_weights(filepath)), else the full model is saved (model.save(filepath)). In case of full save\n",
        "# you can directly load model without manually creating till compilation stage using code in prev. cell\n",
        "\n",
        "# Train the model with the new callback\n",
        "model.fit(train_images, \n",
        "          train_labels,  \n",
        "          epochs=10,\n",
        "          validation_data=(test_images,test_labels),\n",
        "          callbacks=[cp_callback])  # Pass callback to training\n",
        "\n",
        "# Load weights to new model\n",
        "new_model.load_weights(checkpoint_path)\n",
        "\n",
        "# Re-evaluate the model\n",
        "loss,acc = new_model.evaluate(test_images,  test_labels, verbose=2)\n",
        "print(\"Restored model, accuracy: {:5.2f}%\".format(100*acc))\n",
        "\n",
        "\n",
        "# new_model is at that stage where we've used the compile method (just before fit method) "
      ],
      "execution_count": 0,
      "outputs": []
    },
    {
      "cell_type": "markdown",
      "metadata": {
        "id": "Yn_Mn_ZHkqHm",
        "colab_type": "text"
      },
      "source": [
        "More info regarding checkpoint method here:-\n",
        "\n",
        "\n",
        "\n",
        "```\n",
        "https://www.tensorflow.org/api_docs/python/tf/keras/callbacks/ModelCheckpoint?hl=en\n",
        "```\n",
        "\n"
      ]
    }
  ]
}