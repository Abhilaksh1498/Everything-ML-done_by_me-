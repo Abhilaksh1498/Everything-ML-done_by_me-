{
  "nbformat": 4,
  "nbformat_minor": 0,
  "metadata": {
    "colab": {
      "name": "Writing your own Custom loss functions.ipynb",
      "provenance": [],
      "collapsed_sections": [],
      "authorship_tag": "ABX9TyOeeJN1BWYLG6+bTzzsg8nq",
      "include_colab_link": true
    },
    "kernelspec": {
      "name": "python3",
      "display_name": "Python 3"
    }
  },
  "cells": [
    {
      "cell_type": "markdown",
      "metadata": {
        "id": "view-in-github",
        "colab_type": "text"
      },
      "source": [
        "<a href=\"https://colab.research.google.com/github/Abhilaksh1498/Everything-ML-done_by_me-/blob/master/Writing_your_own_Custom_loss_functions.ipynb\" target=\"_parent\"><img src=\"https://colab.research.google.com/assets/colab-badge.svg\" alt=\"Open In Colab\"/></a>"
      ]
    },
    {
      "cell_type": "code",
      "metadata": {
        "id": "dZyW-taSnJAC"
      },
      "source": [
        "import tensorflow as tf\r\n",
        "import numpy as np\r\n",
        "from tensorflow import keras"
      ],
      "execution_count": 1,
      "outputs": []
    },
    {
      "cell_type": "markdown",
      "metadata": {
        "id": "VIrjZIKFEQ9z"
      },
      "source": [
        "2 ways to define custom loss\r\n",
        "\r\n",
        "--> A custom loss function (with only arguments as y_real, y_pred)\r\n",
        "\r\n",
        "--> A class inherited from predefined Loss class "
      ]
    },
    {
      "cell_type": "code",
      "metadata": {
        "id": "l_C6hDZLEPxA"
      },
      "source": [
        "def my_custom_loss(y_real, y_pred):\r\n",
        "    threshold = 1              # formula for huber loss\r\n",
        "    error = y_true - y_pred\r\n",
        "    is_small_error = tf.abs(error) <= threshold\r\n",
        "    small_error_loss = tf.square(error) / 2\r\n",
        "    big_error_loss = threshold * (tf.abs(error) - (0.5 * threshold))\r\n",
        "    return tf.where(is_small_error, small_error_loss, big_error_loss)\r\n",
        "\r\n",
        "# model.compile(loss = my_custom_loss,...)"
      ],
      "execution_count": null,
      "outputs": []
    },
    {
      "cell_type": "markdown",
      "metadata": {
        "id": "Z1xPIKQVFUyR"
      },
      "source": [
        "loss FUNCTION with some hyperparameters\r\n",
        "\r\n",
        "**We'll need to define wrapper function because the loss argument in model.compile assumes a function with only y_true, y_pred arg**"
      ]
    },
    {
      "cell_type": "code",
      "metadata": {
        "id": "gmqHnnsYFSYm"
      },
      "source": [
        "def custom_loss_with_hyperparameters(threhold=1):\r\n",
        "  def my_custom_loss(y_real, y_pred):            # formula for huber loss\r\n",
        "    error = y_true - y_pred\r\n",
        "    is_small_error = tf.abs(error) <= threshold\r\n",
        "    small_error_loss = tf.square(error) / 2\r\n",
        "    big_error_loss = threshold * (tf.abs(error) - (0.5 * threshold))\r\n",
        "    return tf.where(is_small_error, small_error_loss, big_error_loss)\r\n",
        "  return my_custom_loss\r\n",
        "  \r\n",
        "  # model.compile(loss = my_custom_loss_with_hyperparameters,...)"
      ],
      "execution_count": null,
      "outputs": []
    },
    {
      "cell_type": "code",
      "metadata": {
        "id": "J8hLxmwNGPAY"
      },
      "source": [
        "from tensorflow.keras.losses import Loss\r\n",
        "\r\n",
        "class MyCustomLoss(Loss):\r\n",
        "  def __init()__(self, any_hyperparameters):\r\n",
        "    super().__init()__\r\n",
        "    self.threshold = any_hyperparameters\r\n",
        "    \r\n",
        "  def call(self, y_true, y_pred):\r\n",
        "    error = y_true - y_pred\r\n",
        "    is_small_error = tf.abs(error) <= self.threshold\r\n",
        "    small_error_loss = tf.square(error) / 2\r\n",
        "    big_error_loss = self.threshold * (tf.abs(error) - (0.5 * self.threshold))\r\n",
        "    return tf.where(is_small_error, small_error_loss, big_error_loss)"
      ],
      "execution_count": 3,
      "outputs": []
    },
    {
      "cell_type": "code",
      "metadata": {
        "id": "Oexm7V-bKUFl"
      },
      "source": [
        "  # model.compile(loss = MyCustomLoss(any_hyperparameters),...)"
      ],
      "execution_count": null,
      "outputs": []
    }
  ]
}